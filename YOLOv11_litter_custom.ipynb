{
  "nbformat": 4,
  "nbformat_minor": 0,
  "metadata": {
    "colab": {
      "provenance": [],
      "machine_shape": "hm",
      "gpuType": "A100"
    },
    "kernelspec": {
      "name": "python3",
      "display_name": "Python 3"
    },
    "language_info": {
      "name": "python"
    },
    "accelerator": "GPU"
  },
  "cells": [
    {
      "cell_type": "code",
      "execution_count": null,
      "metadata": {
        "id": "wLx0qBEcvQei",
        "colab": {
          "base_uri": "https://localhost:8080/"
        },
        "outputId": "a4e90b03-2532-4a3f-b5f7-c6e35bda24e3"
      },
      "outputs": [
        {
          "output_type": "stream",
          "name": "stdout",
          "text": [
            "Collecting ultralytics\n",
            "  Downloading ultralytics-8.3.59-py3-none-any.whl.metadata (35 kB)\n",
            "Requirement already satisfied: numpy>=1.23.0 in /usr/local/lib/python3.10/dist-packages (from ultralytics) (1.26.4)\n",
            "Requirement already satisfied: matplotlib>=3.3.0 in /usr/local/lib/python3.10/dist-packages (from ultralytics) (3.10.0)\n",
            "Requirement already satisfied: opencv-python>=4.6.0 in /usr/local/lib/python3.10/dist-packages (from ultralytics) (4.10.0.84)\n",
            "Requirement already satisfied: pillow>=7.1.2 in /usr/local/lib/python3.10/dist-packages (from ultralytics) (11.1.0)\n",
            "Requirement already satisfied: pyyaml>=5.3.1 in /usr/local/lib/python3.10/dist-packages (from ultralytics) (6.0.2)\n",
            "Requirement already satisfied: requests>=2.23.0 in /usr/local/lib/python3.10/dist-packages (from ultralytics) (2.32.3)\n",
            "Requirement already satisfied: scipy>=1.4.1 in /usr/local/lib/python3.10/dist-packages (from ultralytics) (1.13.1)\n",
            "Requirement already satisfied: torch>=1.8.0 in /usr/local/lib/python3.10/dist-packages (from ultralytics) (2.5.1+cu121)\n",
            "Requirement already satisfied: torchvision>=0.9.0 in /usr/local/lib/python3.10/dist-packages (from ultralytics) (0.20.1+cu121)\n",
            "Requirement already satisfied: tqdm>=4.64.0 in /usr/local/lib/python3.10/dist-packages (from ultralytics) (4.67.1)\n",
            "Requirement already satisfied: psutil in /usr/local/lib/python3.10/dist-packages (from ultralytics) (5.9.5)\n",
            "Requirement already satisfied: py-cpuinfo in /usr/local/lib/python3.10/dist-packages (from ultralytics) (9.0.0)\n",
            "Requirement already satisfied: pandas>=1.1.4 in /usr/local/lib/python3.10/dist-packages (from ultralytics) (2.2.2)\n",
            "Requirement already satisfied: seaborn>=0.11.0 in /usr/local/lib/python3.10/dist-packages (from ultralytics) (0.13.2)\n",
            "Collecting ultralytics-thop>=2.0.0 (from ultralytics)\n",
            "  Downloading ultralytics_thop-2.0.13-py3-none-any.whl.metadata (9.4 kB)\n",
            "Requirement already satisfied: contourpy>=1.0.1 in /usr/local/lib/python3.10/dist-packages (from matplotlib>=3.3.0->ultralytics) (1.3.1)\n",
            "Requirement already satisfied: cycler>=0.10 in /usr/local/lib/python3.10/dist-packages (from matplotlib>=3.3.0->ultralytics) (0.12.1)\n",
            "Requirement already satisfied: fonttools>=4.22.0 in /usr/local/lib/python3.10/dist-packages (from matplotlib>=3.3.0->ultralytics) (4.55.3)\n",
            "Requirement already satisfied: kiwisolver>=1.3.1 in /usr/local/lib/python3.10/dist-packages (from matplotlib>=3.3.0->ultralytics) (1.4.8)\n",
            "Requirement already satisfied: packaging>=20.0 in /usr/local/lib/python3.10/dist-packages (from matplotlib>=3.3.0->ultralytics) (24.2)\n",
            "Requirement already satisfied: pyparsing>=2.3.1 in /usr/local/lib/python3.10/dist-packages (from matplotlib>=3.3.0->ultralytics) (3.2.1)\n",
            "Requirement already satisfied: python-dateutil>=2.7 in /usr/local/lib/python3.10/dist-packages (from matplotlib>=3.3.0->ultralytics) (2.8.2)\n",
            "Requirement already satisfied: pytz>=2020.1 in /usr/local/lib/python3.10/dist-packages (from pandas>=1.1.4->ultralytics) (2024.2)\n",
            "Requirement already satisfied: tzdata>=2022.7 in /usr/local/lib/python3.10/dist-packages (from pandas>=1.1.4->ultralytics) (2024.2)\n",
            "Requirement already satisfied: charset-normalizer<4,>=2 in /usr/local/lib/python3.10/dist-packages (from requests>=2.23.0->ultralytics) (3.4.1)\n",
            "Requirement already satisfied: idna<4,>=2.5 in /usr/local/lib/python3.10/dist-packages (from requests>=2.23.0->ultralytics) (3.10)\n",
            "Requirement already satisfied: urllib3<3,>=1.21.1 in /usr/local/lib/python3.10/dist-packages (from requests>=2.23.0->ultralytics) (2.3.0)\n",
            "Requirement already satisfied: certifi>=2017.4.17 in /usr/local/lib/python3.10/dist-packages (from requests>=2.23.0->ultralytics) (2024.12.14)\n",
            "Requirement already satisfied: filelock in /usr/local/lib/python3.10/dist-packages (from torch>=1.8.0->ultralytics) (3.16.1)\n",
            "Requirement already satisfied: typing-extensions>=4.8.0 in /usr/local/lib/python3.10/dist-packages (from torch>=1.8.0->ultralytics) (4.12.2)\n",
            "Requirement already satisfied: networkx in /usr/local/lib/python3.10/dist-packages (from torch>=1.8.0->ultralytics) (3.4.2)\n",
            "Requirement already satisfied: jinja2 in /usr/local/lib/python3.10/dist-packages (from torch>=1.8.0->ultralytics) (3.1.5)\n",
            "Requirement already satisfied: fsspec in /usr/local/lib/python3.10/dist-packages (from torch>=1.8.0->ultralytics) (2024.10.0)\n",
            "Requirement already satisfied: sympy==1.13.1 in /usr/local/lib/python3.10/dist-packages (from torch>=1.8.0->ultralytics) (1.13.1)\n",
            "Requirement already satisfied: mpmath<1.4,>=1.1.0 in /usr/local/lib/python3.10/dist-packages (from sympy==1.13.1->torch>=1.8.0->ultralytics) (1.3.0)\n",
            "Requirement already satisfied: six>=1.5 in /usr/local/lib/python3.10/dist-packages (from python-dateutil>=2.7->matplotlib>=3.3.0->ultralytics) (1.17.0)\n",
            "Requirement already satisfied: MarkupSafe>=2.0 in /usr/local/lib/python3.10/dist-packages (from jinja2->torch>=1.8.0->ultralytics) (3.0.2)\n",
            "Downloading ultralytics-8.3.59-py3-none-any.whl (906 kB)\n",
            "\u001b[2K   \u001b[90m━━━━━━━━━━━━━━━━━━━━━━━━━━━━━━━━━━━━━━━━\u001b[0m \u001b[32m906.8/906.8 kB\u001b[0m \u001b[31m17.9 MB/s\u001b[0m eta \u001b[36m0:00:00\u001b[0m\n",
            "\u001b[?25hDownloading ultralytics_thop-2.0.13-py3-none-any.whl (26 kB)\n",
            "Installing collected packages: ultralytics-thop, ultralytics\n",
            "Successfully installed ultralytics-8.3.59 ultralytics-thop-2.0.13\n"
          ]
        }
      ],
      "source": [
        "pip install ultralytics"
      ]
    },
    {
      "cell_type": "code",
      "source": [
        "import torch\n",
        "torch.cuda.is_available()"
      ],
      "metadata": {
        "colab": {
          "base_uri": "https://localhost:8080/"
        },
        "id": "olpYTVNqxtNR",
        "outputId": "91e16e63-1921-423e-c61e-dcd7f3bdb565"
      },
      "execution_count": null,
      "outputs": [
        {
          "output_type": "execute_result",
          "data": {
            "text/plain": [
              "True"
            ]
          },
          "metadata": {},
          "execution_count": 2
        }
      ]
    },
    {
      "cell_type": "code",
      "source": [
        "# import zipfile\n",
        "\n",
        "# # Path to the zip file\n",
        "# zip_path = \"/content/Archive.zip\"  # Adjust if necessary\n",
        "\n",
        "# # Extract the zip file to the root directory\n",
        "# with zipfile.ZipFile(zip_path, 'r') as zip_ref:\n",
        "#     zip_ref.extractall(\"/content/\")  # Extracts to the root of Colab\n",
        "\n",
        "# print(\"Files extracted to the root directory.\")"
      ],
      "metadata": {
        "colab": {
          "base_uri": "https://localhost:8080/"
        },
        "id": "QjlV-S4Z2nDk",
        "outputId": "4596ac50-30fe-45a4-d541-c81980d31592"
      },
      "execution_count": null,
      "outputs": [
        {
          "output_type": "stream",
          "name": "stdout",
          "text": [
            "Files extracted to the root directory.\n"
          ]
        }
      ]
    },
    {
      "cell_type": "code",
      "source": [
        "# Step 1: Mount Google Drive\n",
        "from google.colab import drive\n",
        "drive.mount('/content/drive/')\n",
        "\n",
        "# Step 2: Define the folder path\n",
        "folder_path = \"/content/drive/My Drive/YOLOv11-litter-detec-folder\"\n",
        "\n",
        "# Step 3: Check contents of the folder\n",
        "import os\n",
        "if os.path.exists(folder_path):\n",
        "    print(f\"Contents of {folder_path}:\")\n",
        "    print(os.listdir(folder_path))\n",
        "else:\n",
        "    print(f\"Folder {folder_path} does not exist. Check the path.\")"
      ],
      "metadata": {
        "colab": {
          "base_uri": "https://localhost:8080/"
        },
        "id": "kPBIl0gYGTuY",
        "outputId": "0a3b264b-ad4b-4ac3-ffa3-45a3a387fe8d"
      },
      "execution_count": null,
      "outputs": [
        {
          "output_type": "stream",
          "name": "stdout",
          "text": [
            "Mounted at /content/drive/\n",
            "Contents of /content/drive/My Drive/YOLOv11-litter-detec-folder:\n",
            "['yolo11m.pt', 'dataset_custom.yaml', 'yolo11m-custom-litter-best.pt', 'yolo11x.pt', 'yolo11x-custom-litter-best.pt', 'yolo11n.pt', 'yolo11n-custom-litter-best.pt', 'vecteezy_a-city-s-garbage_1803529.gif', 'val', 'train']\n"
          ]
        }
      ]
    },
    {
      "cell_type": "code",
      "source": [
        "from ultralytics import YOLO\n",
        "\n",
        "# Define dataset configuration as a dictionary\n",
        "dataset_config = {\n",
        "    # \"train\": \"/Users/damien/Desktop/UDM/Msc/2annee_4semestre/codes/yolov11-litter-custom/train\",\n",
        "    # \"val\": \"/Users/damien/Desktop/UDM/Msc/2annee_4semestre/codes/yolov11-litter-custom/val\",\n",
        "    \"train\": \"/content/drive/MyDrive/YOLOv11-litter-detec-folder/train\",\n",
        "    \"val\": \"/content/drive/MyDrive/YOLOv11-litter-detec-folder/val\",\n",
        "    \"nc\": 29,\n",
        "    \"names\": [\n",
        "        \"Aerosol can\",\n",
        "        \"Aluminium foil\",\n",
        "        \"Battery\",\n",
        "        \"Blister pack\",\n",
        "        \"Bottle\",\n",
        "        \"Bottle cap\",\n",
        "        \"Broken glass\",\n",
        "        \"Can\",\n",
        "        \"Carton\",\n",
        "        \"Cigarette\",\n",
        "        \"Cup\",\n",
        "        \"Food waste\",\n",
        "        \"Glass jar\",\n",
        "        \"Lid\",\n",
        "        \"Other plastic\",\n",
        "        \"Paper\",\n",
        "        \"Paper bag\",\n",
        "        \"Plastic bag & wrapper\",\n",
        "        \"Plastic container\",\n",
        "        \"Plastic gloves\",\n",
        "        \"Plastic utensils\",\n",
        "        \"Pop tab\",\n",
        "        \"Rope & strings\",\n",
        "        \"Scrap metal\",\n",
        "        \"Shoe\",\n",
        "        \"Squeezable tube\",\n",
        "        \"Straw\",\n",
        "        \"Styrofoam piece\",\n",
        "        \"Unlabeled litter\"\n",
        "    ]\n",
        "}\n",
        "\n",
        "# Write the dataset config to a temporary YAML file\n",
        "import yaml\n",
        "with open(\"dataset_temp.yaml\", \"w\") as f:\n",
        "    yaml.dump(dataset_config, f)\n",
        "\n",
        "# Load and train the model\n",
        "# model = YOLO(\"/content/drive/MyDrive/YOLOv11-litter-detec-folder/yolo11m.pt\")\n",
        "model = YOLO(\"/content/drive/MyDrive/YOLOv11-litter-detec-folder/yolo11x.pt\")\n",
        "# model = YOLO(\"/content/drive/MyDrive/YOLOv11-litter-detec-folder/yolo11n.pt\")\n",
        "\n",
        "\n",
        "model.train(\n",
        "    data=\"dataset_temp.yaml\",\n",
        "    imgsz=640,\n",
        "    # batch=8,\n",
        "    batch=16,\n",
        "    epochs=100,\n",
        "    # workers=1,\n",
        "    workers=8,\n",
        "    device=0,  # 0 for GPU or \"cpu\"\n",
        "    val=True  # Ensures evaluation on the validation set after each epoch\n",
        ")"
      ],
      "metadata": {
        "colab": {
          "base_uri": "https://localhost:8080/"
        },
        "id": "bUgIaQDTMvvc",
        "outputId": "0d0b874c-2e35-459b-d420-67b04935e491"
      },
      "execution_count": null,
      "outputs": [
        {
          "output_type": "stream",
          "name": "stdout",
          "text": [
            "Ultralytics 8.3.59 🚀 Python-3.10.12 torch-2.5.1+cu121 CUDA:0 (NVIDIA A100-SXM4-40GB, 40514MiB)\n",
            "\u001b[34m\u001b[1mengine/trainer: \u001b[0mtask=detect, mode=train, model=/content/drive/MyDrive/YOLOv11-litter-detec-folder/yolo11x.pt, data=dataset_temp.yaml, epochs=100, time=None, patience=100, batch=16, imgsz=640, save=True, save_period=-1, cache=False, device=0, workers=8, project=None, name=train, exist_ok=False, pretrained=True, optimizer=auto, verbose=True, seed=0, deterministic=True, single_cls=False, rect=False, cos_lr=False, close_mosaic=10, resume=False, amp=True, fraction=1.0, profile=False, freeze=None, multi_scale=False, overlap_mask=True, mask_ratio=4, dropout=0.0, val=True, split=val, save_json=False, save_hybrid=False, conf=None, iou=0.7, max_det=300, half=False, dnn=False, plots=True, source=None, vid_stride=1, stream_buffer=False, visualize=False, augment=False, agnostic_nms=False, classes=None, retina_masks=False, embed=None, show=False, save_frames=False, save_txt=False, save_conf=False, save_crop=False, show_labels=True, show_conf=True, show_boxes=True, line_width=None, format=torchscript, keras=False, optimize=False, int8=False, dynamic=False, simplify=True, opset=None, workspace=None, nms=False, lr0=0.01, lrf=0.01, momentum=0.937, weight_decay=0.0005, warmup_epochs=3.0, warmup_momentum=0.8, warmup_bias_lr=0.1, box=7.5, cls=0.5, dfl=1.5, pose=12.0, kobj=1.0, nbs=64, hsv_h=0.015, hsv_s=0.7, hsv_v=0.4, degrees=0.0, translate=0.1, scale=0.5, shear=0.0, perspective=0.0, flipud=0.0, fliplr=0.5, bgr=0.0, mosaic=1.0, mixup=0.0, copy_paste=0.0, copy_paste_mode=flip, auto_augment=randaugment, erasing=0.4, crop_fraction=1.0, cfg=None, tracker=botsort.yaml, save_dir=runs/detect/train\n",
            "Downloading https://ultralytics.com/assets/Arial.ttf to '/root/.config/Ultralytics/Arial.ttf'...\n"
          ]
        },
        {
          "output_type": "stream",
          "name": "stderr",
          "text": [
            "100%|██████████| 755k/755k [00:00<00:00, 13.6MB/s]\n"
          ]
        },
        {
          "output_type": "stream",
          "name": "stdout",
          "text": [
            "Overriding model.yaml nc=80 with nc=29\n",
            "\n",
            "                   from  n    params  module                                       arguments                     \n",
            "  0                  -1  1      2784  ultralytics.nn.modules.conv.Conv             [3, 96, 3, 2]                 \n",
            "  1                  -1  1    166272  ultralytics.nn.modules.conv.Conv             [96, 192, 3, 2]               \n",
            "  2                  -1  2    389760  ultralytics.nn.modules.block.C3k2            [192, 384, 2, True, 0.25]     \n",
            "  3                  -1  1   1327872  ultralytics.nn.modules.conv.Conv             [384, 384, 3, 2]              \n",
            "  4                  -1  2   1553664  ultralytics.nn.modules.block.C3k2            [384, 768, 2, True, 0.25]     \n",
            "  5                  -1  1   5309952  ultralytics.nn.modules.conv.Conv             [768, 768, 3, 2]              \n",
            "  6                  -1  2   5022720  ultralytics.nn.modules.block.C3k2            [768, 768, 2, True]           \n",
            "  7                  -1  1   5309952  ultralytics.nn.modules.conv.Conv             [768, 768, 3, 2]              \n",
            "  8                  -1  2   5022720  ultralytics.nn.modules.block.C3k2            [768, 768, 2, True]           \n",
            "  9                  -1  1   1476864  ultralytics.nn.modules.block.SPPF            [768, 768, 5]                 \n",
            " 10                  -1  2   3264768  ultralytics.nn.modules.block.C2PSA           [768, 768, 2]                 \n",
            " 11                  -1  1         0  torch.nn.modules.upsampling.Upsample         [None, 2, 'nearest']          \n",
            " 12             [-1, 6]  1         0  ultralytics.nn.modules.conv.Concat           [1]                           \n",
            " 13                  -1  2   5612544  ultralytics.nn.modules.block.C3k2            [1536, 768, 2, True]          \n",
            " 14                  -1  1         0  torch.nn.modules.upsampling.Upsample         [None, 2, 'nearest']          \n",
            " 15             [-1, 4]  1         0  ultralytics.nn.modules.conv.Concat           [1]                           \n",
            " 16                  -1  2   1700352  ultralytics.nn.modules.block.C3k2            [1536, 384, 2, True]          \n",
            " 17                  -1  1   1327872  ultralytics.nn.modules.conv.Conv             [384, 384, 3, 2]              \n",
            " 18            [-1, 13]  1         0  ultralytics.nn.modules.conv.Concat           [1]                           \n",
            " 19                  -1  2   5317632  ultralytics.nn.modules.block.C3k2            [1152, 768, 2, True]          \n",
            " 20                  -1  1   5309952  ultralytics.nn.modules.conv.Conv             [768, 768, 3, 2]              \n",
            " 21            [-1, 10]  1         0  ultralytics.nn.modules.conv.Concat           [1]                           \n",
            " 22                  -1  2   5612544  ultralytics.nn.modules.block.C3k2            [1536, 768, 2, True]          \n",
            " 23        [16, 19, 22]  1   3179047  ultralytics.nn.modules.head.Detect           [29, [384, 768, 768]]         \n",
            "YOLO11x summary: 631 layers, 56,907,271 parameters, 56,907,255 gradients, 195.6 GFLOPs\n",
            "\n",
            "Transferred 1009/1015 items from pretrained weights\n",
            "\u001b[34m\u001b[1mTensorBoard: \u001b[0mStart with 'tensorboard --logdir runs/detect/train', view at http://localhost:6006/\n",
            "Freezing layer 'model.23.dfl.conv.weight'\n",
            "\u001b[34m\u001b[1mAMP: \u001b[0mrunning Automatic Mixed Precision (AMP) checks...\n",
            "Downloading https://github.com/ultralytics/assets/releases/download/v8.3.0/yolo11n.pt to 'yolo11n.pt'...\n"
          ]
        },
        {
          "output_type": "stream",
          "name": "stderr",
          "text": [
            "100%|██████████| 5.35M/5.35M [00:00<00:00, 64.6MB/s]\n"
          ]
        },
        {
          "output_type": "stream",
          "name": "stdout",
          "text": [
            "\u001b[34m\u001b[1mAMP: \u001b[0mchecks passed ✅\n"
          ]
        },
        {
          "output_type": "stream",
          "name": "stderr",
          "text": [
            "\u001b[34m\u001b[1mtrain: \u001b[0mScanning /content/drive/MyDrive/YOLOv11-litter-detec-folder/train/labels.cache... 562 images, 3 backgrounds, 3 corrupt: 100%|██████████| 562/562 [00:00<?, ?it/s]"
          ]
        },
        {
          "output_type": "stream",
          "name": "stdout",
          "text": [
            "\u001b[34m\u001b[1mtrain: \u001b[0mWARNING ⚠️ /content/drive/MyDrive/YOLOv11-litter-detec-folder/train/images/431b910d-batch_1_000067.JPG: ignoring corrupt image/label: non-normalized or out of bounds coordinates [     1.9316]\n",
            "\u001b[34m\u001b[1mtrain: \u001b[0mWARNING ⚠️ /content/drive/MyDrive/YOLOv11-litter-detec-folder/train/images/ac43dacd-batch_1_000128.JPG: ignoring corrupt image/label: non-normalized or out of bounds coordinates [     1.1812]\n",
            "\u001b[34m\u001b[1mtrain: \u001b[0mWARNING ⚠️ /content/drive/MyDrive/YOLOv11-litter-detec-folder/train/images/be5ab798-batch_1_000054.jpg: ignoring corrupt image/label: non-normalized or out of bounds coordinates [     1.7927]\n"
          ]
        },
        {
          "output_type": "stream",
          "name": "stderr",
          "text": [
            "\n"
          ]
        },
        {
          "output_type": "stream",
          "name": "stdout",
          "text": [
            "\u001b[34m\u001b[1malbumentations: \u001b[0mBlur(p=0.01, blur_limit=(3, 7)), MedianBlur(p=0.01, blur_limit=(3, 7)), ToGray(p=0.01, num_output_channels=3, method='weighted_average'), CLAHE(p=0.01, clip_limit=(1.0, 4.0), tile_grid_size=(8, 8))\n"
          ]
        },
        {
          "output_type": "stream",
          "name": "stderr",
          "text": [
            "/usr/local/lib/python3.10/dist-packages/albumentations/__init__.py:24: UserWarning: A new version of Albumentations is available: 2.0.0 (you have 1.4.20). Upgrade using: pip install -U albumentations. To disable automatic update checks, set the environment variable NO_ALBUMENTATIONS_UPDATE to 1.\n",
            "  check_for_updates()\n",
            "\u001b[34m\u001b[1mval: \u001b[0mScanning /content/drive/MyDrive/YOLOv11-litter-detec-folder/val/labels.cache... 50 images, 0 backgrounds, 0 corrupt: 100%|██████████| 50/50 [00:00<?, ?it/s]\n"
          ]
        },
        {
          "output_type": "stream",
          "name": "stdout",
          "text": [
            "Plotting labels to runs/detect/train/labels.jpg... \n",
            "\u001b[34m\u001b[1moptimizer:\u001b[0m 'optimizer=auto' found, ignoring 'lr0=0.01' and 'momentum=0.937' and determining best 'optimizer', 'lr0' and 'momentum' automatically... \n",
            "\u001b[34m\u001b[1moptimizer:\u001b[0m AdamW(lr=0.000303, momentum=0.9) with parameter groups 167 weight(decay=0.0), 174 weight(decay=0.0005), 173 bias(decay=0.0)\n",
            "\u001b[34m\u001b[1mTensorBoard: \u001b[0mmodel graph visualization added ✅\n",
            "Image sizes 640 train, 640 val\n",
            "Using 8 dataloader workers\n",
            "Logging results to \u001b[1mruns/detect/train\u001b[0m\n",
            "Starting training for 100 epochs...\n",
            "\n",
            "      Epoch    GPU_mem   box_loss   cls_loss   dfl_loss  Instances       Size\n"
          ]
        },
        {
          "output_type": "stream",
          "name": "stderr",
          "text": [
            "      1/100      16.7G      1.529      4.338      1.523         55        640: 100%|██████████| 35/35 [00:16<00:00,  2.16it/s]\n",
            "                 Class     Images  Instances      Box(P          R      mAP50  mAP50-95): 100%|██████████| 2/2 [00:01<00:00,  1.11it/s]\n"
          ]
        },
        {
          "output_type": "stream",
          "name": "stdout",
          "text": [
            "                   all         50         81       0.62      0.161      0.159      0.114\n",
            "\n",
            "      Epoch    GPU_mem   box_loss   cls_loss   dfl_loss  Instances       Size\n"
          ]
        },
        {
          "output_type": "stream",
          "name": "stderr",
          "text": [
            "      2/100      16.7G      1.498      2.878      1.463         47        640: 100%|██████████| 35/35 [00:09<00:00,  3.80it/s]\n",
            "                 Class     Images  Instances      Box(P          R      mAP50  mAP50-95): 100%|██████████| 2/2 [00:00<00:00,  5.53it/s]"
          ]
        },
        {
          "output_type": "stream",
          "name": "stdout",
          "text": [
            "                   all         50         81      0.348      0.261      0.164      0.101\n"
          ]
        },
        {
          "output_type": "stream",
          "name": "stderr",
          "text": [
            "\n"
          ]
        },
        {
          "output_type": "stream",
          "name": "stdout",
          "text": [
            "\n",
            "      Epoch    GPU_mem   box_loss   cls_loss   dfl_loss  Instances       Size\n"
          ]
        },
        {
          "output_type": "stream",
          "name": "stderr",
          "text": [
            "      3/100      16.5G      1.491      2.696      1.478         61        640: 100%|██████████| 35/35 [00:09<00:00,  3.81it/s]\n",
            "                 Class     Images  Instances      Box(P          R      mAP50  mAP50-95): 100%|██████████| 2/2 [00:00<00:00,  3.31it/s]\n"
          ]
        },
        {
          "output_type": "stream",
          "name": "stdout",
          "text": [
            "                   all         50         81      0.593     0.0528     0.0871     0.0572\n",
            "\n",
            "      Epoch    GPU_mem   box_loss   cls_loss   dfl_loss  Instances       Size\n"
          ]
        },
        {
          "output_type": "stream",
          "name": "stderr",
          "text": [
            "      4/100      16.8G      1.472      2.579       1.46         41        640: 100%|██████████| 35/35 [00:08<00:00,  3.93it/s]\n",
            "                 Class     Images  Instances      Box(P          R      mAP50  mAP50-95): 100%|██████████| 2/2 [00:00<00:00,  4.93it/s]"
          ]
        },
        {
          "output_type": "stream",
          "name": "stdout",
          "text": [
            "                   all         50         81      0.334      0.335      0.141      0.093\n"
          ]
        },
        {
          "output_type": "stream",
          "name": "stderr",
          "text": [
            "\n"
          ]
        },
        {
          "output_type": "stream",
          "name": "stdout",
          "text": [
            "\n",
            "      Epoch    GPU_mem   box_loss   cls_loss   dfl_loss  Instances       Size\n"
          ]
        },
        {
          "output_type": "stream",
          "name": "stderr",
          "text": [
            "      5/100      16.5G      1.492      2.486       1.51         32        640: 100%|██████████| 35/35 [00:08<00:00,  3.95it/s]\n",
            "                 Class     Images  Instances      Box(P          R      mAP50  mAP50-95): 100%|██████████| 2/2 [00:00<00:00,  4.90it/s]"
          ]
        },
        {
          "output_type": "stream",
          "name": "stdout",
          "text": [
            "                   all         50         81      0.246      0.372      0.183     0.0885\n"
          ]
        },
        {
          "output_type": "stream",
          "name": "stderr",
          "text": [
            "\n"
          ]
        },
        {
          "output_type": "stream",
          "name": "stdout",
          "text": [
            "\n",
            "      Epoch    GPU_mem   box_loss   cls_loss   dfl_loss  Instances       Size\n"
          ]
        },
        {
          "output_type": "stream",
          "name": "stderr",
          "text": [
            "      6/100      16.7G      1.482      2.315      1.486         43        640: 100%|██████████| 35/35 [00:08<00:00,  3.90it/s]\n",
            "                 Class     Images  Instances      Box(P          R      mAP50  mAP50-95): 100%|██████████| 2/2 [00:00<00:00,  4.76it/s]"
          ]
        },
        {
          "output_type": "stream",
          "name": "stdout",
          "text": [
            "                   all         50         81       0.58       0.16      0.161     0.0899\n"
          ]
        },
        {
          "output_type": "stream",
          "name": "stderr",
          "text": [
            "\n"
          ]
        },
        {
          "output_type": "stream",
          "name": "stdout",
          "text": [
            "\n",
            "      Epoch    GPU_mem   box_loss   cls_loss   dfl_loss  Instances       Size\n"
          ]
        },
        {
          "output_type": "stream",
          "name": "stderr",
          "text": [
            "      7/100      16.7G      1.502      2.217      1.534         73        640: 100%|██████████| 35/35 [00:08<00:00,  3.92it/s]\n",
            "                 Class     Images  Instances      Box(P          R      mAP50  mAP50-95): 100%|██████████| 2/2 [00:00<00:00,  5.09it/s]"
          ]
        },
        {
          "output_type": "stream",
          "name": "stdout",
          "text": [
            "                   all         50         81      0.454      0.186      0.143     0.0737\n"
          ]
        },
        {
          "output_type": "stream",
          "name": "stderr",
          "text": [
            "\n"
          ]
        },
        {
          "output_type": "stream",
          "name": "stdout",
          "text": [
            "\n",
            "      Epoch    GPU_mem   box_loss   cls_loss   dfl_loss  Instances       Size\n"
          ]
        },
        {
          "output_type": "stream",
          "name": "stderr",
          "text": [
            "      8/100      16.7G      1.466      2.061      1.494         49        640: 100%|██████████| 35/35 [00:09<00:00,  3.87it/s]\n",
            "                 Class     Images  Instances      Box(P          R      mAP50  mAP50-95): 100%|██████████| 2/2 [00:00<00:00,  5.30it/s]"
          ]
        },
        {
          "output_type": "stream",
          "name": "stdout",
          "text": [
            "                   all         50         81      0.451      0.309      0.303      0.181\n"
          ]
        },
        {
          "output_type": "stream",
          "name": "stderr",
          "text": [
            "\n"
          ]
        },
        {
          "output_type": "stream",
          "name": "stdout",
          "text": [
            "\n",
            "      Epoch    GPU_mem   box_loss   cls_loss   dfl_loss  Instances       Size\n"
          ]
        },
        {
          "output_type": "stream",
          "name": "stderr",
          "text": [
            "      9/100      16.5G      1.446      2.011      1.471         33        640: 100%|██████████| 35/35 [00:08<00:00,  3.90it/s]\n",
            "                 Class     Images  Instances      Box(P          R      mAP50  mAP50-95): 100%|██████████| 2/2 [00:00<00:00,  5.05it/s]"
          ]
        },
        {
          "output_type": "stream",
          "name": "stdout",
          "text": [
            "                   all         50         81       0.31      0.334      0.292      0.172\n"
          ]
        },
        {
          "output_type": "stream",
          "name": "stderr",
          "text": [
            "\n"
          ]
        },
        {
          "output_type": "stream",
          "name": "stdout",
          "text": [
            "\n",
            "      Epoch    GPU_mem   box_loss   cls_loss   dfl_loss  Instances       Size\n"
          ]
        },
        {
          "output_type": "stream",
          "name": "stderr",
          "text": [
            "     10/100      16.7G      1.439      2.002      1.495         48        640: 100%|██████████| 35/35 [00:08<00:00,  3.93it/s]\n",
            "                 Class     Images  Instances      Box(P          R      mAP50  mAP50-95): 100%|██████████| 2/2 [00:00<00:00,  5.58it/s]"
          ]
        },
        {
          "output_type": "stream",
          "name": "stdout",
          "text": [
            "                   all         50         81      0.643      0.318      0.333      0.184\n"
          ]
        },
        {
          "output_type": "stream",
          "name": "stderr",
          "text": [
            "\n"
          ]
        },
        {
          "output_type": "stream",
          "name": "stdout",
          "text": [
            "\n",
            "      Epoch    GPU_mem   box_loss   cls_loss   dfl_loss  Instances       Size\n"
          ]
        },
        {
          "output_type": "stream",
          "name": "stderr",
          "text": [
            "     11/100      16.7G      1.448      1.964      1.461         51        640: 100%|██████████| 35/35 [00:09<00:00,  3.87it/s]\n",
            "                 Class     Images  Instances      Box(P          R      mAP50  mAP50-95): 100%|██████████| 2/2 [00:00<00:00,  5.48it/s]"
          ]
        },
        {
          "output_type": "stream",
          "name": "stdout",
          "text": [
            "                   all         50         81      0.388      0.359      0.335      0.188\n"
          ]
        },
        {
          "output_type": "stream",
          "name": "stderr",
          "text": [
            "\n"
          ]
        },
        {
          "output_type": "stream",
          "name": "stdout",
          "text": [
            "\n",
            "      Epoch    GPU_mem   box_loss   cls_loss   dfl_loss  Instances       Size\n"
          ]
        },
        {
          "output_type": "stream",
          "name": "stderr",
          "text": [
            "     12/100      16.8G      1.412      1.856      1.455         45        640: 100%|██████████| 35/35 [00:08<00:00,  3.90it/s]\n",
            "                 Class     Images  Instances      Box(P          R      mAP50  mAP50-95): 100%|██████████| 2/2 [00:00<00:00,  5.30it/s]"
          ]
        },
        {
          "output_type": "stream",
          "name": "stdout",
          "text": [
            "                   all         50         81      0.528      0.349       0.29      0.147\n"
          ]
        },
        {
          "output_type": "stream",
          "name": "stderr",
          "text": [
            "\n"
          ]
        },
        {
          "output_type": "stream",
          "name": "stdout",
          "text": [
            "\n",
            "      Epoch    GPU_mem   box_loss   cls_loss   dfl_loss  Instances       Size\n"
          ]
        },
        {
          "output_type": "stream",
          "name": "stderr",
          "text": [
            "     13/100      16.5G      1.342      1.789      1.418         45        640: 100%|██████████| 35/35 [00:08<00:00,  3.93it/s]\n",
            "                 Class     Images  Instances      Box(P          R      mAP50  mAP50-95): 100%|██████████| 2/2 [00:00<00:00,  5.29it/s]"
          ]
        },
        {
          "output_type": "stream",
          "name": "stdout",
          "text": [
            "                   all         50         81       0.51      0.301      0.244      0.138\n"
          ]
        },
        {
          "output_type": "stream",
          "name": "stderr",
          "text": [
            "\n"
          ]
        },
        {
          "output_type": "stream",
          "name": "stdout",
          "text": [
            "\n",
            "      Epoch    GPU_mem   box_loss   cls_loss   dfl_loss  Instances       Size\n"
          ]
        },
        {
          "output_type": "stream",
          "name": "stderr",
          "text": [
            "     14/100      16.7G      1.388      1.738      1.438         40        640: 100%|██████████| 35/35 [00:08<00:00,  3.91it/s]\n",
            "                 Class     Images  Instances      Box(P          R      mAP50  mAP50-95): 100%|██████████| 2/2 [00:00<00:00,  5.45it/s]"
          ]
        },
        {
          "output_type": "stream",
          "name": "stdout",
          "text": [
            "                   all         50         81      0.612      0.303      0.302       0.19\n"
          ]
        },
        {
          "output_type": "stream",
          "name": "stderr",
          "text": [
            "\n"
          ]
        },
        {
          "output_type": "stream",
          "name": "stdout",
          "text": [
            "\n",
            "      Epoch    GPU_mem   box_loss   cls_loss   dfl_loss  Instances       Size\n"
          ]
        },
        {
          "output_type": "stream",
          "name": "stderr",
          "text": [
            "     15/100      16.7G      1.331       1.66      1.411         50        640: 100%|██████████| 35/35 [00:09<00:00,  3.88it/s]\n",
            "                 Class     Images  Instances      Box(P          R      mAP50  mAP50-95): 100%|██████████| 2/2 [00:00<00:00,  5.16it/s]"
          ]
        },
        {
          "output_type": "stream",
          "name": "stdout",
          "text": [
            "                   all         50         81      0.554      0.336      0.247      0.134\n"
          ]
        },
        {
          "output_type": "stream",
          "name": "stderr",
          "text": [
            "\n"
          ]
        },
        {
          "output_type": "stream",
          "name": "stdout",
          "text": [
            "\n",
            "      Epoch    GPU_mem   box_loss   cls_loss   dfl_loss  Instances       Size\n"
          ]
        },
        {
          "output_type": "stream",
          "name": "stderr",
          "text": [
            "     16/100      16.8G      1.293      1.579      1.385         46        640: 100%|██████████| 35/35 [00:08<00:00,  3.92it/s]\n",
            "                 Class     Images  Instances      Box(P          R      mAP50  mAP50-95): 100%|██████████| 2/2 [00:00<00:00,  5.69it/s]"
          ]
        },
        {
          "output_type": "stream",
          "name": "stdout",
          "text": [
            "                   all         50         81      0.246       0.35      0.268      0.141\n"
          ]
        },
        {
          "output_type": "stream",
          "name": "stderr",
          "text": [
            "\n"
          ]
        },
        {
          "output_type": "stream",
          "name": "stdout",
          "text": [
            "\n",
            "      Epoch    GPU_mem   box_loss   cls_loss   dfl_loss  Instances       Size\n"
          ]
        },
        {
          "output_type": "stream",
          "name": "stderr",
          "text": [
            "     17/100      16.5G      1.317      1.588      1.374         67        640: 100%|██████████| 35/35 [00:09<00:00,  3.89it/s]\n",
            "                 Class     Images  Instances      Box(P          R      mAP50  mAP50-95): 100%|██████████| 2/2 [00:00<00:00,  5.30it/s]"
          ]
        },
        {
          "output_type": "stream",
          "name": "stdout",
          "text": [
            "                   all         50         81      0.449      0.321      0.309      0.176\n"
          ]
        },
        {
          "output_type": "stream",
          "name": "stderr",
          "text": [
            "\n"
          ]
        },
        {
          "output_type": "stream",
          "name": "stdout",
          "text": [
            "\n",
            "      Epoch    GPU_mem   box_loss   cls_loss   dfl_loss  Instances       Size\n"
          ]
        },
        {
          "output_type": "stream",
          "name": "stderr",
          "text": [
            "     18/100      16.7G      1.283      1.527      1.372         52        640: 100%|██████████| 35/35 [00:08<00:00,  3.92it/s]\n",
            "                 Class     Images  Instances      Box(P          R      mAP50  mAP50-95): 100%|██████████| 2/2 [00:00<00:00,  4.97it/s]"
          ]
        },
        {
          "output_type": "stream",
          "name": "stdout",
          "text": [
            "                   all         50         81       0.57       0.25      0.317      0.181\n"
          ]
        },
        {
          "output_type": "stream",
          "name": "stderr",
          "text": [
            "\n"
          ]
        },
        {
          "output_type": "stream",
          "name": "stdout",
          "text": [
            "\n",
            "      Epoch    GPU_mem   box_loss   cls_loss   dfl_loss  Instances       Size\n"
          ]
        },
        {
          "output_type": "stream",
          "name": "stderr",
          "text": [
            "     19/100      16.7G      1.266      1.395      1.366         53        640: 100%|██████████| 35/35 [00:08<00:00,  3.92it/s]\n",
            "                 Class     Images  Instances      Box(P          R      mAP50  mAP50-95): 100%|██████████| 2/2 [00:00<00:00,  5.39it/s]"
          ]
        },
        {
          "output_type": "stream",
          "name": "stdout",
          "text": [
            "                   all         50         81      0.642      0.256      0.293      0.174\n"
          ]
        },
        {
          "output_type": "stream",
          "name": "stderr",
          "text": [
            "\n"
          ]
        },
        {
          "output_type": "stream",
          "name": "stdout",
          "text": [
            "\n",
            "      Epoch    GPU_mem   box_loss   cls_loss   dfl_loss  Instances       Size\n"
          ]
        },
        {
          "output_type": "stream",
          "name": "stderr",
          "text": [
            "     20/100      16.7G      1.232      1.367      1.333         32        640: 100%|██████████| 35/35 [00:09<00:00,  3.89it/s]\n",
            "                 Class     Images  Instances      Box(P          R      mAP50  mAP50-95): 100%|██████████| 2/2 [00:00<00:00,  5.31it/s]"
          ]
        },
        {
          "output_type": "stream",
          "name": "stdout",
          "text": [
            "                   all         50         81      0.409      0.295      0.336      0.179\n"
          ]
        },
        {
          "output_type": "stream",
          "name": "stderr",
          "text": [
            "\n"
          ]
        },
        {
          "output_type": "stream",
          "name": "stdout",
          "text": [
            "\n",
            "      Epoch    GPU_mem   box_loss   cls_loss   dfl_loss  Instances       Size\n"
          ]
        },
        {
          "output_type": "stream",
          "name": "stderr",
          "text": [
            "     21/100      16.5G      1.222       1.29      1.318         54        640: 100%|██████████| 35/35 [00:08<00:00,  3.97it/s]\n",
            "                 Class     Images  Instances      Box(P          R      mAP50  mAP50-95): 100%|██████████| 2/2 [00:00<00:00,  5.42it/s]"
          ]
        },
        {
          "output_type": "stream",
          "name": "stdout",
          "text": [
            "                   all         50         81      0.554      0.298      0.351      0.209\n"
          ]
        },
        {
          "output_type": "stream",
          "name": "stderr",
          "text": [
            "\n"
          ]
        },
        {
          "output_type": "stream",
          "name": "stdout",
          "text": [
            "\n",
            "      Epoch    GPU_mem   box_loss   cls_loss   dfl_loss  Instances       Size\n"
          ]
        },
        {
          "output_type": "stream",
          "name": "stderr",
          "text": [
            "     22/100      16.7G      1.218      1.238      1.306         59        640: 100%|██████████| 35/35 [00:09<00:00,  3.89it/s]\n",
            "                 Class     Images  Instances      Box(P          R      mAP50  mAP50-95): 100%|██████████| 2/2 [00:00<00:00,  5.60it/s]"
          ]
        },
        {
          "output_type": "stream",
          "name": "stdout",
          "text": [
            "                   all         50         81      0.661      0.332      0.352      0.204\n"
          ]
        },
        {
          "output_type": "stream",
          "name": "stderr",
          "text": [
            "\n"
          ]
        },
        {
          "output_type": "stream",
          "name": "stdout",
          "text": [
            "\n",
            "      Epoch    GPU_mem   box_loss   cls_loss   dfl_loss  Instances       Size\n"
          ]
        },
        {
          "output_type": "stream",
          "name": "stderr",
          "text": [
            "     23/100      16.7G      1.218      1.266      1.322         53        640: 100%|██████████| 35/35 [00:09<00:00,  3.88it/s]\n",
            "                 Class     Images  Instances      Box(P          R      mAP50  mAP50-95): 100%|██████████| 2/2 [00:00<00:00,  5.30it/s]"
          ]
        },
        {
          "output_type": "stream",
          "name": "stdout",
          "text": [
            "                   all         50         81      0.637      0.327      0.319      0.192\n"
          ]
        },
        {
          "output_type": "stream",
          "name": "stderr",
          "text": [
            "\n"
          ]
        },
        {
          "output_type": "stream",
          "name": "stdout",
          "text": [
            "\n",
            "      Epoch    GPU_mem   box_loss   cls_loss   dfl_loss  Instances       Size\n"
          ]
        },
        {
          "output_type": "stream",
          "name": "stderr",
          "text": [
            "     24/100      16.7G      1.189      1.244        1.3         40        640: 100%|██████████| 35/35 [00:08<00:00,  3.93it/s]\n",
            "                 Class     Images  Instances      Box(P          R      mAP50  mAP50-95): 100%|██████████| 2/2 [00:00<00:00,  5.63it/s]"
          ]
        },
        {
          "output_type": "stream",
          "name": "stdout",
          "text": [
            "                   all         50         81      0.531      0.275      0.347      0.186\n"
          ]
        },
        {
          "output_type": "stream",
          "name": "stderr",
          "text": [
            "\n"
          ]
        },
        {
          "output_type": "stream",
          "name": "stdout",
          "text": [
            "\n",
            "      Epoch    GPU_mem   box_loss   cls_loss   dfl_loss  Instances       Size\n"
          ]
        },
        {
          "output_type": "stream",
          "name": "stderr",
          "text": [
            "     25/100      16.5G      1.214      1.223      1.291         35        640: 100%|██████████| 35/35 [00:08<00:00,  3.89it/s]\n",
            "                 Class     Images  Instances      Box(P          R      mAP50  mAP50-95): 100%|██████████| 2/2 [00:00<00:00,  5.59it/s]"
          ]
        },
        {
          "output_type": "stream",
          "name": "stdout",
          "text": [
            "                   all         50         81      0.507      0.249      0.326      0.194\n"
          ]
        },
        {
          "output_type": "stream",
          "name": "stderr",
          "text": [
            "\n"
          ]
        },
        {
          "output_type": "stream",
          "name": "stdout",
          "text": [
            "\n",
            "      Epoch    GPU_mem   box_loss   cls_loss   dfl_loss  Instances       Size\n"
          ]
        },
        {
          "output_type": "stream",
          "name": "stderr",
          "text": [
            "     26/100      16.7G      1.194      1.156      1.293         51        640: 100%|██████████| 35/35 [00:08<00:00,  3.94it/s]\n",
            "                 Class     Images  Instances      Box(P          R      mAP50  mAP50-95): 100%|██████████| 2/2 [00:00<00:00,  5.77it/s]"
          ]
        },
        {
          "output_type": "stream",
          "name": "stdout",
          "text": [
            "                   all         50         81      0.594      0.312      0.384       0.25\n"
          ]
        },
        {
          "output_type": "stream",
          "name": "stderr",
          "text": [
            "\n"
          ]
        },
        {
          "output_type": "stream",
          "name": "stdout",
          "text": [
            "\n",
            "      Epoch    GPU_mem   box_loss   cls_loss   dfl_loss  Instances       Size\n"
          ]
        },
        {
          "output_type": "stream",
          "name": "stderr",
          "text": [
            "     27/100      16.7G      1.162       1.09      1.275         47        640: 100%|██████████| 35/35 [00:08<00:00,  3.91it/s]\n",
            "                 Class     Images  Instances      Box(P          R      mAP50  mAP50-95): 100%|██████████| 2/2 [00:00<00:00,  5.48it/s]"
          ]
        },
        {
          "output_type": "stream",
          "name": "stdout",
          "text": [
            "                   all         50         81       0.57      0.249      0.312      0.185\n"
          ]
        },
        {
          "output_type": "stream",
          "name": "stderr",
          "text": [
            "\n"
          ]
        },
        {
          "output_type": "stream",
          "name": "stdout",
          "text": [
            "\n",
            "      Epoch    GPU_mem   box_loss   cls_loss   dfl_loss  Instances       Size\n"
          ]
        },
        {
          "output_type": "stream",
          "name": "stderr",
          "text": [
            "     28/100      16.7G      1.125      1.054      1.281         66        640: 100%|██████████| 35/35 [00:09<00:00,  3.87it/s]\n",
            "                 Class     Images  Instances      Box(P          R      mAP50  mAP50-95): 100%|██████████| 2/2 [00:00<00:00,  5.85it/s]"
          ]
        },
        {
          "output_type": "stream",
          "name": "stdout",
          "text": [
            "                   all         50         81      0.557      0.321      0.332      0.184\n"
          ]
        },
        {
          "output_type": "stream",
          "name": "stderr",
          "text": [
            "\n"
          ]
        },
        {
          "output_type": "stream",
          "name": "stdout",
          "text": [
            "\n",
            "      Epoch    GPU_mem   box_loss   cls_loss   dfl_loss  Instances       Size\n"
          ]
        },
        {
          "output_type": "stream",
          "name": "stderr",
          "text": [
            "     29/100      16.5G      1.097      1.034      1.253         47        640: 100%|██████████| 35/35 [00:08<00:00,  3.93it/s]\n",
            "                 Class     Images  Instances      Box(P          R      mAP50  mAP50-95): 100%|██████████| 2/2 [00:00<00:00,  5.43it/s]"
          ]
        },
        {
          "output_type": "stream",
          "name": "stdout",
          "text": [
            "                   all         50         81      0.328      0.414      0.384       0.24\n"
          ]
        },
        {
          "output_type": "stream",
          "name": "stderr",
          "text": [
            "\n"
          ]
        },
        {
          "output_type": "stream",
          "name": "stdout",
          "text": [
            "\n",
            "      Epoch    GPU_mem   box_loss   cls_loss   dfl_loss  Instances       Size\n"
          ]
        },
        {
          "output_type": "stream",
          "name": "stderr",
          "text": [
            "     30/100      16.7G      1.078      1.031      1.245         60        640: 100%|██████████| 35/35 [00:08<00:00,  3.93it/s]\n",
            "                 Class     Images  Instances      Box(P          R      mAP50  mAP50-95): 100%|██████████| 2/2 [00:00<00:00,  5.76it/s]"
          ]
        },
        {
          "output_type": "stream",
          "name": "stdout",
          "text": [
            "                   all         50         81      0.506      0.422      0.342      0.211\n"
          ]
        },
        {
          "output_type": "stream",
          "name": "stderr",
          "text": [
            "\n"
          ]
        },
        {
          "output_type": "stream",
          "name": "stdout",
          "text": [
            "\n",
            "      Epoch    GPU_mem   box_loss   cls_loss   dfl_loss  Instances       Size\n"
          ]
        },
        {
          "output_type": "stream",
          "name": "stderr",
          "text": [
            "     31/100      16.7G      1.055     0.9898      1.233         63        640: 100%|██████████| 35/35 [00:08<00:00,  3.90it/s]\n",
            "                 Class     Images  Instances      Box(P          R      mAP50  mAP50-95): 100%|██████████| 2/2 [00:00<00:00,  5.21it/s]"
          ]
        },
        {
          "output_type": "stream",
          "name": "stdout",
          "text": [
            "                   all         50         81      0.283      0.449      0.338      0.206\n"
          ]
        },
        {
          "output_type": "stream",
          "name": "stderr",
          "text": [
            "\n"
          ]
        },
        {
          "output_type": "stream",
          "name": "stdout",
          "text": [
            "\n",
            "      Epoch    GPU_mem   box_loss   cls_loss   dfl_loss  Instances       Size\n"
          ]
        },
        {
          "output_type": "stream",
          "name": "stderr",
          "text": [
            "     32/100      16.8G      1.053     0.9663      1.222         67        640: 100%|██████████| 35/35 [00:08<00:00,  3.93it/s]\n",
            "                 Class     Images  Instances      Box(P          R      mAP50  mAP50-95): 100%|██████████| 2/2 [00:00<00:00,  5.44it/s]"
          ]
        },
        {
          "output_type": "stream",
          "name": "stdout",
          "text": [
            "                   all         50         81      0.262      0.287      0.335      0.204\n"
          ]
        },
        {
          "output_type": "stream",
          "name": "stderr",
          "text": [
            "\n"
          ]
        },
        {
          "output_type": "stream",
          "name": "stdout",
          "text": [
            "\n",
            "      Epoch    GPU_mem   box_loss   cls_loss   dfl_loss  Instances       Size\n"
          ]
        },
        {
          "output_type": "stream",
          "name": "stderr",
          "text": [
            "     33/100      16.5G      1.029     0.9339      1.199         54        640: 100%|██████████| 35/35 [00:08<00:00,  3.92it/s]\n",
            "                 Class     Images  Instances      Box(P          R      mAP50  mAP50-95): 100%|██████████| 2/2 [00:00<00:00,  5.32it/s]"
          ]
        },
        {
          "output_type": "stream",
          "name": "stdout",
          "text": [
            "                   all         50         81      0.543      0.273       0.33      0.219\n"
          ]
        },
        {
          "output_type": "stream",
          "name": "stderr",
          "text": [
            "\n"
          ]
        },
        {
          "output_type": "stream",
          "name": "stdout",
          "text": [
            "\n",
            "      Epoch    GPU_mem   box_loss   cls_loss   dfl_loss  Instances       Size\n"
          ]
        },
        {
          "output_type": "stream",
          "name": "stderr",
          "text": [
            "     34/100      16.7G      1.029     0.9196      1.208         49        640: 100%|██████████| 35/35 [00:09<00:00,  3.88it/s]\n",
            "                 Class     Images  Instances      Box(P          R      mAP50  mAP50-95): 100%|██████████| 2/2 [00:00<00:00,  5.15it/s]"
          ]
        },
        {
          "output_type": "stream",
          "name": "stdout",
          "text": [
            "                   all         50         81      0.685      0.315       0.34      0.196\n"
          ]
        },
        {
          "output_type": "stream",
          "name": "stderr",
          "text": [
            "\n"
          ]
        },
        {
          "output_type": "stream",
          "name": "stdout",
          "text": [
            "\n",
            "      Epoch    GPU_mem   box_loss   cls_loss   dfl_loss  Instances       Size\n"
          ]
        },
        {
          "output_type": "stream",
          "name": "stderr",
          "text": [
            "     35/100      16.7G      1.017     0.8828      1.205         50        640: 100%|██████████| 35/35 [00:08<00:00,  3.91it/s]\n",
            "                 Class     Images  Instances      Box(P          R      mAP50  mAP50-95): 100%|██████████| 2/2 [00:00<00:00,  5.58it/s]"
          ]
        },
        {
          "output_type": "stream",
          "name": "stdout",
          "text": [
            "                   all         50         81      0.363      0.463      0.379       0.23\n"
          ]
        },
        {
          "output_type": "stream",
          "name": "stderr",
          "text": [
            "\n"
          ]
        },
        {
          "output_type": "stream",
          "name": "stdout",
          "text": [
            "\n",
            "      Epoch    GPU_mem   box_loss   cls_loss   dfl_loss  Instances       Size\n"
          ]
        },
        {
          "output_type": "stream",
          "name": "stderr",
          "text": [
            "     36/100      16.7G     0.9909     0.8548      1.191         51        640: 100%|██████████| 35/35 [00:08<00:00,  3.92it/s]\n",
            "                 Class     Images  Instances      Box(P          R      mAP50  mAP50-95): 100%|██████████| 2/2 [00:00<00:00,  5.48it/s]"
          ]
        },
        {
          "output_type": "stream",
          "name": "stdout",
          "text": [
            "                   all         50         81      0.431      0.462      0.403      0.231\n"
          ]
        },
        {
          "output_type": "stream",
          "name": "stderr",
          "text": [
            "\n"
          ]
        },
        {
          "output_type": "stream",
          "name": "stdout",
          "text": [
            "\n",
            "      Epoch    GPU_mem   box_loss   cls_loss   dfl_loss  Instances       Size\n"
          ]
        },
        {
          "output_type": "stream",
          "name": "stderr",
          "text": [
            "     37/100      16.5G     0.9791     0.8389      1.188         45        640: 100%|██████████| 35/35 [00:08<00:00,  3.92it/s]\n",
            "                 Class     Images  Instances      Box(P          R      mAP50  mAP50-95): 100%|██████████| 2/2 [00:00<00:00,  5.07it/s]"
          ]
        },
        {
          "output_type": "stream",
          "name": "stdout",
          "text": [
            "                   all         50         81       0.43      0.338      0.321      0.197\n"
          ]
        },
        {
          "output_type": "stream",
          "name": "stderr",
          "text": [
            "\n"
          ]
        },
        {
          "output_type": "stream",
          "name": "stdout",
          "text": [
            "\n",
            "      Epoch    GPU_mem   box_loss   cls_loss   dfl_loss  Instances       Size\n"
          ]
        },
        {
          "output_type": "stream",
          "name": "stderr",
          "text": [
            "     38/100      16.7G      0.963     0.8666      1.164         61        640: 100%|██████████| 35/35 [00:08<00:00,  3.94it/s]\n",
            "                 Class     Images  Instances      Box(P          R      mAP50  mAP50-95): 100%|██████████| 2/2 [00:00<00:00,  5.35it/s]"
          ]
        },
        {
          "output_type": "stream",
          "name": "stdout",
          "text": [
            "                   all         50         81      0.531       0.35       0.34      0.197\n"
          ]
        },
        {
          "output_type": "stream",
          "name": "stderr",
          "text": [
            "\n"
          ]
        },
        {
          "output_type": "stream",
          "name": "stdout",
          "text": [
            "\n",
            "      Epoch    GPU_mem   box_loss   cls_loss   dfl_loss  Instances       Size\n"
          ]
        },
        {
          "output_type": "stream",
          "name": "stderr",
          "text": [
            "     39/100      16.7G      0.984     0.8445      1.201         47        640: 100%|██████████| 35/35 [00:09<00:00,  3.85it/s]\n",
            "                 Class     Images  Instances      Box(P          R      mAP50  mAP50-95): 100%|██████████| 2/2 [00:00<00:00,  5.54it/s]"
          ]
        },
        {
          "output_type": "stream",
          "name": "stdout",
          "text": [
            "                   all         50         81      0.615      0.278      0.257      0.161\n"
          ]
        },
        {
          "output_type": "stream",
          "name": "stderr",
          "text": [
            "\n"
          ]
        },
        {
          "output_type": "stream",
          "name": "stdout",
          "text": [
            "\n",
            "      Epoch    GPU_mem   box_loss   cls_loss   dfl_loss  Instances       Size\n"
          ]
        },
        {
          "output_type": "stream",
          "name": "stderr",
          "text": [
            "     40/100      16.7G     0.9673      0.791      1.181         46        640: 100%|██████████| 35/35 [00:08<00:00,  3.91it/s]\n",
            "                 Class     Images  Instances      Box(P          R      mAP50  mAP50-95): 100%|██████████| 2/2 [00:00<00:00,  5.11it/s]"
          ]
        },
        {
          "output_type": "stream",
          "name": "stdout",
          "text": [
            "                   all         50         81      0.409      0.319      0.331      0.217\n"
          ]
        },
        {
          "output_type": "stream",
          "name": "stderr",
          "text": [
            "\n"
          ]
        },
        {
          "output_type": "stream",
          "name": "stdout",
          "text": [
            "\n",
            "      Epoch    GPU_mem   box_loss   cls_loss   dfl_loss  Instances       Size\n"
          ]
        },
        {
          "output_type": "stream",
          "name": "stderr",
          "text": [
            "     41/100      16.5G     0.9567     0.7782      1.177         46        640: 100%|██████████| 35/35 [00:08<00:00,  3.92it/s]\n",
            "                 Class     Images  Instances      Box(P          R      mAP50  mAP50-95): 100%|██████████| 2/2 [00:00<00:00,  5.75it/s]"
          ]
        },
        {
          "output_type": "stream",
          "name": "stdout",
          "text": [
            "                   all         50         81      0.714      0.297      0.355       0.21\n"
          ]
        },
        {
          "output_type": "stream",
          "name": "stderr",
          "text": [
            "\n"
          ]
        },
        {
          "output_type": "stream",
          "name": "stdout",
          "text": [
            "\n",
            "      Epoch    GPU_mem   box_loss   cls_loss   dfl_loss  Instances       Size\n"
          ]
        },
        {
          "output_type": "stream",
          "name": "stderr",
          "text": [
            "     42/100      16.7G     0.9277     0.7796      1.134         50        640: 100%|██████████| 35/35 [00:09<00:00,  3.86it/s]\n",
            "                 Class     Images  Instances      Box(P          R      mAP50  mAP50-95): 100%|██████████| 2/2 [00:00<00:00,  5.50it/s]"
          ]
        },
        {
          "output_type": "stream",
          "name": "stdout",
          "text": [
            "                   all         50         81      0.366      0.462      0.355      0.214\n"
          ]
        },
        {
          "output_type": "stream",
          "name": "stderr",
          "text": [
            "\n"
          ]
        },
        {
          "output_type": "stream",
          "name": "stdout",
          "text": [
            "\n",
            "      Epoch    GPU_mem   box_loss   cls_loss   dfl_loss  Instances       Size\n"
          ]
        },
        {
          "output_type": "stream",
          "name": "stderr",
          "text": [
            "     43/100      16.7G     0.9267     0.7523      1.141         48        640: 100%|██████████| 35/35 [00:08<00:00,  3.94it/s]\n",
            "                 Class     Images  Instances      Box(P          R      mAP50  mAP50-95): 100%|██████████| 2/2 [00:00<00:00,  5.76it/s]"
          ]
        },
        {
          "output_type": "stream",
          "name": "stdout",
          "text": [
            "                   all         50         81      0.411      0.414      0.367      0.209\n"
          ]
        },
        {
          "output_type": "stream",
          "name": "stderr",
          "text": [
            "\n"
          ]
        },
        {
          "output_type": "stream",
          "name": "stdout",
          "text": [
            "\n",
            "      Epoch    GPU_mem   box_loss   cls_loss   dfl_loss  Instances       Size\n"
          ]
        },
        {
          "output_type": "stream",
          "name": "stderr",
          "text": [
            "     44/100      16.8G     0.9006     0.7207      1.132         49        640: 100%|██████████| 35/35 [00:09<00:00,  3.88it/s]\n",
            "                 Class     Images  Instances      Box(P          R      mAP50  mAP50-95): 100%|██████████| 2/2 [00:00<00:00,  5.43it/s]"
          ]
        },
        {
          "output_type": "stream",
          "name": "stdout",
          "text": [
            "                   all         50         81      0.737      0.281       0.33      0.208\n"
          ]
        },
        {
          "output_type": "stream",
          "name": "stderr",
          "text": [
            "\n"
          ]
        },
        {
          "output_type": "stream",
          "name": "stdout",
          "text": [
            "\n",
            "      Epoch    GPU_mem   box_loss   cls_loss   dfl_loss  Instances       Size\n"
          ]
        },
        {
          "output_type": "stream",
          "name": "stderr",
          "text": [
            "     45/100      16.5G      0.896     0.7204      1.139         35        640: 100%|██████████| 35/35 [00:08<00:00,  3.89it/s]\n",
            "                 Class     Images  Instances      Box(P          R      mAP50  mAP50-95): 100%|██████████| 2/2 [00:00<00:00,  5.28it/s]"
          ]
        },
        {
          "output_type": "stream",
          "name": "stdout",
          "text": [
            "                   all         50         81      0.363      0.371      0.345      0.215\n"
          ]
        },
        {
          "output_type": "stream",
          "name": "stderr",
          "text": [
            "\n"
          ]
        },
        {
          "output_type": "stream",
          "name": "stdout",
          "text": [
            "\n",
            "      Epoch    GPU_mem   box_loss   cls_loss   dfl_loss  Instances       Size\n"
          ]
        },
        {
          "output_type": "stream",
          "name": "stderr",
          "text": [
            "     46/100      16.7G     0.8864     0.7149      1.126         51        640: 100%|██████████| 35/35 [00:09<00:00,  3.88it/s]\n",
            "                 Class     Images  Instances      Box(P          R      mAP50  mAP50-95): 100%|██████████| 2/2 [00:00<00:00,  5.76it/s]"
          ]
        },
        {
          "output_type": "stream",
          "name": "stdout",
          "text": [
            "                   all         50         81      0.524      0.422       0.34      0.191\n"
          ]
        },
        {
          "output_type": "stream",
          "name": "stderr",
          "text": [
            "\n"
          ]
        },
        {
          "output_type": "stream",
          "name": "stdout",
          "text": [
            "\n",
            "      Epoch    GPU_mem   box_loss   cls_loss   dfl_loss  Instances       Size\n"
          ]
        },
        {
          "output_type": "stream",
          "name": "stderr",
          "text": [
            "     47/100      16.7G      0.874      0.681      1.122         71        640: 100%|██████████| 35/35 [00:09<00:00,  3.89it/s]\n",
            "                 Class     Images  Instances      Box(P          R      mAP50  mAP50-95): 100%|██████████| 2/2 [00:00<00:00,  5.81it/s]"
          ]
        },
        {
          "output_type": "stream",
          "name": "stdout",
          "text": [
            "                   all         50         81      0.513      0.361      0.371      0.203\n"
          ]
        },
        {
          "output_type": "stream",
          "name": "stderr",
          "text": [
            "\n"
          ]
        },
        {
          "output_type": "stream",
          "name": "stdout",
          "text": [
            "\n",
            "      Epoch    GPU_mem   box_loss   cls_loss   dfl_loss  Instances       Size\n"
          ]
        },
        {
          "output_type": "stream",
          "name": "stderr",
          "text": [
            "     48/100      16.7G     0.8729     0.6777      1.135         33        640: 100%|██████████| 35/35 [00:08<00:00,  3.93it/s]\n",
            "                 Class     Images  Instances      Box(P          R      mAP50  mAP50-95): 100%|██████████| 2/2 [00:00<00:00,  5.32it/s]"
          ]
        },
        {
          "output_type": "stream",
          "name": "stdout",
          "text": [
            "                   all         50         81      0.327      0.408      0.362      0.234\n"
          ]
        },
        {
          "output_type": "stream",
          "name": "stderr",
          "text": [
            "\n"
          ]
        },
        {
          "output_type": "stream",
          "name": "stdout",
          "text": [
            "\n",
            "      Epoch    GPU_mem   box_loss   cls_loss   dfl_loss  Instances       Size\n"
          ]
        },
        {
          "output_type": "stream",
          "name": "stderr",
          "text": [
            "     49/100      16.5G     0.8736     0.7087      1.116         53        640: 100%|██████████| 35/35 [00:08<00:00,  3.94it/s]\n",
            "                 Class     Images  Instances      Box(P          R      mAP50  mAP50-95): 100%|██████████| 2/2 [00:00<00:00,  5.67it/s]"
          ]
        },
        {
          "output_type": "stream",
          "name": "stdout",
          "text": [
            "                   all         50         81      0.546      0.347      0.412      0.258\n"
          ]
        },
        {
          "output_type": "stream",
          "name": "stderr",
          "text": [
            "\n"
          ]
        },
        {
          "output_type": "stream",
          "name": "stdout",
          "text": [
            "\n",
            "      Epoch    GPU_mem   box_loss   cls_loss   dfl_loss  Instances       Size\n"
          ]
        },
        {
          "output_type": "stream",
          "name": "stderr",
          "text": [
            "     50/100      16.7G     0.8497     0.6762      1.107         63        640: 100%|██████████| 35/35 [00:09<00:00,  3.85it/s]\n",
            "                 Class     Images  Instances      Box(P          R      mAP50  mAP50-95): 100%|██████████| 2/2 [00:00<00:00,  5.50it/s]"
          ]
        },
        {
          "output_type": "stream",
          "name": "stdout",
          "text": [
            "                   all         50         81      0.405      0.446      0.348      0.199\n"
          ]
        },
        {
          "output_type": "stream",
          "name": "stderr",
          "text": [
            "\n"
          ]
        },
        {
          "output_type": "stream",
          "name": "stdout",
          "text": [
            "\n",
            "      Epoch    GPU_mem   box_loss   cls_loss   dfl_loss  Instances       Size\n"
          ]
        },
        {
          "output_type": "stream",
          "name": "stderr",
          "text": [
            "     51/100      16.7G     0.8068     0.6478      1.082         44        640: 100%|██████████| 35/35 [00:08<00:00,  3.90it/s]\n",
            "                 Class     Images  Instances      Box(P          R      mAP50  mAP50-95): 100%|██████████| 2/2 [00:00<00:00,  5.48it/s]"
          ]
        },
        {
          "output_type": "stream",
          "name": "stdout",
          "text": [
            "                   all         50         81      0.666      0.321      0.413      0.237\n"
          ]
        },
        {
          "output_type": "stream",
          "name": "stderr",
          "text": [
            "\n"
          ]
        },
        {
          "output_type": "stream",
          "name": "stdout",
          "text": [
            "\n",
            "      Epoch    GPU_mem   box_loss   cls_loss   dfl_loss  Instances       Size\n"
          ]
        },
        {
          "output_type": "stream",
          "name": "stderr",
          "text": [
            "     52/100      16.7G     0.8371     0.6786      1.103         93        640: 100%|██████████| 35/35 [00:08<00:00,  3.93it/s]\n",
            "                 Class     Images  Instances      Box(P          R      mAP50  mAP50-95): 100%|██████████| 2/2 [00:00<00:00,  5.64it/s]"
          ]
        },
        {
          "output_type": "stream",
          "name": "stdout",
          "text": [
            "                   all         50         81      0.662      0.353      0.394      0.243\n"
          ]
        },
        {
          "output_type": "stream",
          "name": "stderr",
          "text": [
            "\n"
          ]
        },
        {
          "output_type": "stream",
          "name": "stdout",
          "text": [
            "\n",
            "      Epoch    GPU_mem   box_loss   cls_loss   dfl_loss  Instances       Size\n"
          ]
        },
        {
          "output_type": "stream",
          "name": "stderr",
          "text": [
            "     53/100      16.5G     0.8132     0.6429      1.063         49        640: 100%|██████████| 35/35 [00:08<00:00,  3.90it/s]\n",
            "                 Class     Images  Instances      Box(P          R      mAP50  mAP50-95): 100%|██████████| 2/2 [00:00<00:00,  5.12it/s]"
          ]
        },
        {
          "output_type": "stream",
          "name": "stdout",
          "text": [
            "                   all         50         81      0.537      0.334      0.351      0.214\n"
          ]
        },
        {
          "output_type": "stream",
          "name": "stderr",
          "text": [
            "\n"
          ]
        },
        {
          "output_type": "stream",
          "name": "stdout",
          "text": [
            "\n",
            "      Epoch    GPU_mem   box_loss   cls_loss   dfl_loss  Instances       Size\n"
          ]
        },
        {
          "output_type": "stream",
          "name": "stderr",
          "text": [
            "     54/100      16.7G     0.7999     0.6225       1.07         46        640: 100%|██████████| 35/35 [00:08<00:00,  3.93it/s]\n",
            "                 Class     Images  Instances      Box(P          R      mAP50  mAP50-95): 100%|██████████| 2/2 [00:00<00:00,  5.63it/s]"
          ]
        },
        {
          "output_type": "stream",
          "name": "stdout",
          "text": [
            "                   all         50         81      0.618      0.366      0.406       0.26\n"
          ]
        },
        {
          "output_type": "stream",
          "name": "stderr",
          "text": [
            "\n"
          ]
        },
        {
          "output_type": "stream",
          "name": "stdout",
          "text": [
            "\n",
            "      Epoch    GPU_mem   box_loss   cls_loss   dfl_loss  Instances       Size\n"
          ]
        },
        {
          "output_type": "stream",
          "name": "stderr",
          "text": [
            "     55/100      16.7G     0.8088     0.6081      1.083         44        640: 100%|██████████| 35/35 [00:09<00:00,  3.89it/s]\n",
            "                 Class     Images  Instances      Box(P          R      mAP50  mAP50-95): 100%|██████████| 2/2 [00:00<00:00,  5.50it/s]"
          ]
        },
        {
          "output_type": "stream",
          "name": "stdout",
          "text": [
            "                   all         50         81       0.46      0.417      0.416      0.233\n"
          ]
        },
        {
          "output_type": "stream",
          "name": "stderr",
          "text": [
            "\n"
          ]
        },
        {
          "output_type": "stream",
          "name": "stdout",
          "text": [
            "\n",
            "      Epoch    GPU_mem   box_loss   cls_loss   dfl_loss  Instances       Size\n"
          ]
        },
        {
          "output_type": "stream",
          "name": "stderr",
          "text": [
            "     56/100      16.7G     0.7883     0.5963      1.046         55        640: 100%|██████████| 35/35 [00:08<00:00,  3.91it/s]\n",
            "                 Class     Images  Instances      Box(P          R      mAP50  mAP50-95): 100%|██████████| 2/2 [00:00<00:00,  5.55it/s]"
          ]
        },
        {
          "output_type": "stream",
          "name": "stdout",
          "text": [
            "                   all         50         81      0.359      0.394      0.392      0.243\n"
          ]
        },
        {
          "output_type": "stream",
          "name": "stderr",
          "text": [
            "\n"
          ]
        },
        {
          "output_type": "stream",
          "name": "stdout",
          "text": [
            "\n",
            "      Epoch    GPU_mem   box_loss   cls_loss   dfl_loss  Instances       Size\n"
          ]
        },
        {
          "output_type": "stream",
          "name": "stderr",
          "text": [
            "     57/100      16.5G      0.791     0.6121      1.067         69        640: 100%|██████████| 35/35 [00:08<00:00,  3.96it/s]\n",
            "                 Class     Images  Instances      Box(P          R      mAP50  mAP50-95): 100%|██████████| 2/2 [00:00<00:00,  5.43it/s]"
          ]
        },
        {
          "output_type": "stream",
          "name": "stdout",
          "text": [
            "                   all         50         81      0.492      0.407      0.409      0.256\n"
          ]
        },
        {
          "output_type": "stream",
          "name": "stderr",
          "text": [
            "\n"
          ]
        },
        {
          "output_type": "stream",
          "name": "stdout",
          "text": [
            "\n",
            "      Epoch    GPU_mem   box_loss   cls_loss   dfl_loss  Instances       Size\n"
          ]
        },
        {
          "output_type": "stream",
          "name": "stderr",
          "text": [
            "     58/100      16.7G     0.7651     0.5624      1.033         61        640: 100%|██████████| 35/35 [00:09<00:00,  3.85it/s]\n",
            "                 Class     Images  Instances      Box(P          R      mAP50  mAP50-95): 100%|██████████| 2/2 [00:00<00:00,  5.70it/s]"
          ]
        },
        {
          "output_type": "stream",
          "name": "stdout",
          "text": [
            "                   all         50         81      0.457      0.446      0.424      0.257\n"
          ]
        },
        {
          "output_type": "stream",
          "name": "stderr",
          "text": [
            "\n"
          ]
        },
        {
          "output_type": "stream",
          "name": "stdout",
          "text": [
            "\n",
            "      Epoch    GPU_mem   box_loss   cls_loss   dfl_loss  Instances       Size\n"
          ]
        },
        {
          "output_type": "stream",
          "name": "stderr",
          "text": [
            "     59/100      16.7G     0.7597     0.5698      1.036         48        640: 100%|██████████| 35/35 [00:08<00:00,  3.92it/s]\n",
            "                 Class     Images  Instances      Box(P          R      mAP50  mAP50-95): 100%|██████████| 2/2 [00:00<00:00,  5.29it/s]"
          ]
        },
        {
          "output_type": "stream",
          "name": "stdout",
          "text": [
            "                   all         50         81      0.712      0.343      0.402      0.249\n"
          ]
        },
        {
          "output_type": "stream",
          "name": "stderr",
          "text": [
            "\n"
          ]
        },
        {
          "output_type": "stream",
          "name": "stdout",
          "text": [
            "\n",
            "      Epoch    GPU_mem   box_loss   cls_loss   dfl_loss  Instances       Size\n"
          ]
        },
        {
          "output_type": "stream",
          "name": "stderr",
          "text": [
            "     60/100      16.7G     0.7554     0.5667      1.038         77        640: 100%|██████████| 35/35 [00:08<00:00,  3.91it/s]\n",
            "                 Class     Images  Instances      Box(P          R      mAP50  mAP50-95): 100%|██████████| 2/2 [00:00<00:00,  5.68it/s]"
          ]
        },
        {
          "output_type": "stream",
          "name": "stdout",
          "text": [
            "                   all         50         81      0.252      0.383      0.319      0.194\n"
          ]
        },
        {
          "output_type": "stream",
          "name": "stderr",
          "text": [
            "\n"
          ]
        },
        {
          "output_type": "stream",
          "name": "stdout",
          "text": [
            "\n",
            "      Epoch    GPU_mem   box_loss   cls_loss   dfl_loss  Instances       Size\n"
          ]
        },
        {
          "output_type": "stream",
          "name": "stderr",
          "text": [
            "     61/100      16.5G     0.7255     0.5606      1.031         53        640: 100%|██████████| 35/35 [00:08<00:00,  3.91it/s]\n",
            "                 Class     Images  Instances      Box(P          R      mAP50  mAP50-95): 100%|██████████| 2/2 [00:00<00:00,  5.42it/s]"
          ]
        },
        {
          "output_type": "stream",
          "name": "stdout",
          "text": [
            "                   all         50         81      0.494      0.354      0.373       0.23\n"
          ]
        },
        {
          "output_type": "stream",
          "name": "stderr",
          "text": [
            "\n"
          ]
        },
        {
          "output_type": "stream",
          "name": "stdout",
          "text": [
            "\n",
            "      Epoch    GPU_mem   box_loss   cls_loss   dfl_loss  Instances       Size\n"
          ]
        },
        {
          "output_type": "stream",
          "name": "stderr",
          "text": [
            "     62/100      16.7G     0.7022     0.5339      1.022         29        640: 100%|██████████| 35/35 [00:08<00:00,  3.90it/s]\n",
            "                 Class     Images  Instances      Box(P          R      mAP50  mAP50-95): 100%|██████████| 2/2 [00:00<00:00,  5.66it/s]"
          ]
        },
        {
          "output_type": "stream",
          "name": "stdout",
          "text": [
            "                   all         50         81      0.454      0.445      0.432      0.264\n"
          ]
        },
        {
          "output_type": "stream",
          "name": "stderr",
          "text": [
            "\n"
          ]
        },
        {
          "output_type": "stream",
          "name": "stdout",
          "text": [
            "\n",
            "      Epoch    GPU_mem   box_loss   cls_loss   dfl_loss  Instances       Size\n"
          ]
        },
        {
          "output_type": "stream",
          "name": "stderr",
          "text": [
            "     63/100      16.7G     0.7262      0.524      1.018         62        640: 100%|██████████| 35/35 [00:09<00:00,  3.88it/s]\n",
            "                 Class     Images  Instances      Box(P          R      mAP50  mAP50-95): 100%|██████████| 2/2 [00:00<00:00,  5.56it/s]"
          ]
        },
        {
          "output_type": "stream",
          "name": "stdout",
          "text": [
            "                   all         50         81      0.376       0.48      0.394      0.245\n"
          ]
        },
        {
          "output_type": "stream",
          "name": "stderr",
          "text": [
            "\n"
          ]
        },
        {
          "output_type": "stream",
          "name": "stdout",
          "text": [
            "\n",
            "      Epoch    GPU_mem   box_loss   cls_loss   dfl_loss  Instances       Size\n"
          ]
        },
        {
          "output_type": "stream",
          "name": "stderr",
          "text": [
            "     64/100      16.7G     0.7381     0.5594      1.046         57        640: 100%|██████████| 35/35 [00:09<00:00,  3.84it/s]\n",
            "                 Class     Images  Instances      Box(P          R      mAP50  mAP50-95): 100%|██████████| 2/2 [00:00<00:00,  4.90it/s]"
          ]
        },
        {
          "output_type": "stream",
          "name": "stdout",
          "text": [
            "                   all         50         81       0.46      0.441      0.381      0.233\n"
          ]
        },
        {
          "output_type": "stream",
          "name": "stderr",
          "text": [
            "\n"
          ]
        },
        {
          "output_type": "stream",
          "name": "stdout",
          "text": [
            "\n",
            "      Epoch    GPU_mem   box_loss   cls_loss   dfl_loss  Instances       Size\n"
          ]
        },
        {
          "output_type": "stream",
          "name": "stderr",
          "text": [
            "     65/100      16.5G     0.7144     0.5203      1.012         84        640: 100%|██████████| 35/35 [00:08<00:00,  3.97it/s]\n",
            "                 Class     Images  Instances      Box(P          R      mAP50  mAP50-95): 100%|██████████| 2/2 [00:00<00:00,  5.75it/s]"
          ]
        },
        {
          "output_type": "stream",
          "name": "stdout",
          "text": [
            "                   all         50         81      0.352      0.359      0.365       0.22\n"
          ]
        },
        {
          "output_type": "stream",
          "name": "stderr",
          "text": [
            "\n"
          ]
        },
        {
          "output_type": "stream",
          "name": "stdout",
          "text": [
            "\n",
            "      Epoch    GPU_mem   box_loss   cls_loss   dfl_loss  Instances       Size\n"
          ]
        },
        {
          "output_type": "stream",
          "name": "stderr",
          "text": [
            "     66/100      16.7G     0.6931     0.5191      1.026         70        640: 100%|██████████| 35/35 [00:09<00:00,  3.88it/s]\n",
            "                 Class     Images  Instances      Box(P          R      mAP50  mAP50-95): 100%|██████████| 2/2 [00:00<00:00,  5.54it/s]"
          ]
        },
        {
          "output_type": "stream",
          "name": "stdout",
          "text": [
            "                   all         50         81      0.492      0.351      0.353      0.232\n"
          ]
        },
        {
          "output_type": "stream",
          "name": "stderr",
          "text": [
            "\n"
          ]
        },
        {
          "output_type": "stream",
          "name": "stdout",
          "text": [
            "\n",
            "      Epoch    GPU_mem   box_loss   cls_loss   dfl_loss  Instances       Size\n"
          ]
        },
        {
          "output_type": "stream",
          "name": "stderr",
          "text": [
            "     67/100      16.7G     0.7006     0.5065      1.019         73        640: 100%|██████████| 35/35 [00:09<00:00,  3.85it/s]\n",
            "                 Class     Images  Instances      Box(P          R      mAP50  mAP50-95): 100%|██████████| 2/2 [00:00<00:00,  5.08it/s]"
          ]
        },
        {
          "output_type": "stream",
          "name": "stdout",
          "text": [
            "                   all         50         81      0.562       0.33      0.359      0.234\n"
          ]
        },
        {
          "output_type": "stream",
          "name": "stderr",
          "text": [
            "\n"
          ]
        },
        {
          "output_type": "stream",
          "name": "stdout",
          "text": [
            "\n",
            "      Epoch    GPU_mem   box_loss   cls_loss   dfl_loss  Instances       Size\n"
          ]
        },
        {
          "output_type": "stream",
          "name": "stderr",
          "text": [
            "     68/100      16.7G     0.6796     0.5031      1.022         39        640: 100%|██████████| 35/35 [00:08<00:00,  3.91it/s]\n",
            "                 Class     Images  Instances      Box(P          R      mAP50  mAP50-95): 100%|██████████| 2/2 [00:00<00:00,  5.70it/s]"
          ]
        },
        {
          "output_type": "stream",
          "name": "stdout",
          "text": [
            "                   all         50         81      0.391      0.431      0.344      0.219\n"
          ]
        },
        {
          "output_type": "stream",
          "name": "stderr",
          "text": [
            "\n"
          ]
        },
        {
          "output_type": "stream",
          "name": "stdout",
          "text": [
            "\n",
            "      Epoch    GPU_mem   box_loss   cls_loss   dfl_loss  Instances       Size\n"
          ]
        },
        {
          "output_type": "stream",
          "name": "stderr",
          "text": [
            "     69/100      16.5G     0.6785     0.4891      1.006         45        640: 100%|██████████| 35/35 [00:08<00:00,  3.91it/s]\n",
            "                 Class     Images  Instances      Box(P          R      mAP50  mAP50-95): 100%|██████████| 2/2 [00:00<00:00,  5.30it/s]"
          ]
        },
        {
          "output_type": "stream",
          "name": "stdout",
          "text": [
            "                   all         50         81      0.298      0.396      0.336      0.217\n"
          ]
        },
        {
          "output_type": "stream",
          "name": "stderr",
          "text": [
            "\n"
          ]
        },
        {
          "output_type": "stream",
          "name": "stdout",
          "text": [
            "\n",
            "      Epoch    GPU_mem   box_loss   cls_loss   dfl_loss  Instances       Size\n"
          ]
        },
        {
          "output_type": "stream",
          "name": "stderr",
          "text": [
            "     70/100      16.7G     0.6674     0.4861     0.9931         63        640: 100%|██████████| 35/35 [00:08<00:00,  3.91it/s]\n",
            "                 Class     Images  Instances      Box(P          R      mAP50  mAP50-95): 100%|██████████| 2/2 [00:00<00:00,  5.12it/s]"
          ]
        },
        {
          "output_type": "stream",
          "name": "stdout",
          "text": [
            "                   all         50         81      0.397      0.323      0.349      0.223\n"
          ]
        },
        {
          "output_type": "stream",
          "name": "stderr",
          "text": [
            "\n"
          ]
        },
        {
          "output_type": "stream",
          "name": "stdout",
          "text": [
            "\n",
            "      Epoch    GPU_mem   box_loss   cls_loss   dfl_loss  Instances       Size\n"
          ]
        },
        {
          "output_type": "stream",
          "name": "stderr",
          "text": [
            "     71/100      16.7G     0.6474     0.4854      1.003         66        640: 100%|██████████| 35/35 [00:09<00:00,  3.89it/s]\n",
            "                 Class     Images  Instances      Box(P          R      mAP50  mAP50-95): 100%|██████████| 2/2 [00:00<00:00,  5.73it/s]"
          ]
        },
        {
          "output_type": "stream",
          "name": "stdout",
          "text": [
            "                   all         50         81      0.572      0.307      0.354      0.213\n"
          ]
        },
        {
          "output_type": "stream",
          "name": "stderr",
          "text": [
            "\n"
          ]
        },
        {
          "output_type": "stream",
          "name": "stdout",
          "text": [
            "\n",
            "      Epoch    GPU_mem   box_loss   cls_loss   dfl_loss  Instances       Size\n"
          ]
        },
        {
          "output_type": "stream",
          "name": "stderr",
          "text": [
            "     72/100      16.8G     0.6539     0.4871     0.9947         95        640: 100%|██████████| 35/35 [00:09<00:00,  3.86it/s]\n",
            "                 Class     Images  Instances      Box(P          R      mAP50  mAP50-95): 100%|██████████| 2/2 [00:00<00:00,  5.35it/s]"
          ]
        },
        {
          "output_type": "stream",
          "name": "stdout",
          "text": [
            "                   all         50         81      0.237      0.411      0.358      0.213\n"
          ]
        },
        {
          "output_type": "stream",
          "name": "stderr",
          "text": [
            "\n"
          ]
        },
        {
          "output_type": "stream",
          "name": "stdout",
          "text": [
            "\n",
            "      Epoch    GPU_mem   box_loss   cls_loss   dfl_loss  Instances       Size\n"
          ]
        },
        {
          "output_type": "stream",
          "name": "stderr",
          "text": [
            "     73/100      16.5G     0.6421     0.4573     0.9848         34        640: 100%|██████████| 35/35 [00:08<00:00,  3.93it/s]\n",
            "                 Class     Images  Instances      Box(P          R      mAP50  mAP50-95): 100%|██████████| 2/2 [00:00<00:00,  5.37it/s]"
          ]
        },
        {
          "output_type": "stream",
          "name": "stdout",
          "text": [
            "                   all         50         81      0.391      0.416      0.406      0.246\n"
          ]
        },
        {
          "output_type": "stream",
          "name": "stderr",
          "text": [
            "\n"
          ]
        },
        {
          "output_type": "stream",
          "name": "stdout",
          "text": [
            "\n",
            "      Epoch    GPU_mem   box_loss   cls_loss   dfl_loss  Instances       Size\n"
          ]
        },
        {
          "output_type": "stream",
          "name": "stderr",
          "text": [
            "     74/100      16.7G     0.6409     0.4701     0.9861         38        640: 100%|██████████| 35/35 [00:09<00:00,  3.88it/s]\n",
            "                 Class     Images  Instances      Box(P          R      mAP50  mAP50-95): 100%|██████████| 2/2 [00:00<00:00,  5.64it/s]"
          ]
        },
        {
          "output_type": "stream",
          "name": "stdout",
          "text": [
            "                   all         50         81      0.609      0.363      0.397      0.247\n"
          ]
        },
        {
          "output_type": "stream",
          "name": "stderr",
          "text": [
            "\n"
          ]
        },
        {
          "output_type": "stream",
          "name": "stdout",
          "text": [
            "\n",
            "      Epoch    GPU_mem   box_loss   cls_loss   dfl_loss  Instances       Size\n"
          ]
        },
        {
          "output_type": "stream",
          "name": "stderr",
          "text": [
            "     75/100      16.7G     0.6398      0.478     0.9951         44        640: 100%|██████████| 35/35 [00:09<00:00,  3.87it/s]\n",
            "                 Class     Images  Instances      Box(P          R      mAP50  mAP50-95): 100%|██████████| 2/2 [00:00<00:00,  5.49it/s]"
          ]
        },
        {
          "output_type": "stream",
          "name": "stdout",
          "text": [
            "                   all         50         81      0.306      0.404      0.351      0.223\n"
          ]
        },
        {
          "output_type": "stream",
          "name": "stderr",
          "text": [
            "\n"
          ]
        },
        {
          "output_type": "stream",
          "name": "stdout",
          "text": [
            "\n",
            "      Epoch    GPU_mem   box_loss   cls_loss   dfl_loss  Instances       Size\n"
          ]
        },
        {
          "output_type": "stream",
          "name": "stderr",
          "text": [
            "     76/100      16.7G     0.6287     0.4713     0.9822         38        640: 100%|██████████| 35/35 [00:08<00:00,  3.89it/s]\n",
            "                 Class     Images  Instances      Box(P          R      mAP50  mAP50-95): 100%|██████████| 2/2 [00:00<00:00,  5.73it/s]"
          ]
        },
        {
          "output_type": "stream",
          "name": "stdout",
          "text": [
            "                   all         50         81      0.482      0.375      0.354       0.23\n"
          ]
        },
        {
          "output_type": "stream",
          "name": "stderr",
          "text": [
            "\n"
          ]
        },
        {
          "output_type": "stream",
          "name": "stdout",
          "text": [
            "\n",
            "      Epoch    GPU_mem   box_loss   cls_loss   dfl_loss  Instances       Size\n"
          ]
        },
        {
          "output_type": "stream",
          "name": "stderr",
          "text": [
            "     77/100      16.5G     0.6318     0.4737     0.9734         46        640: 100%|██████████| 35/35 [00:08<00:00,  3.89it/s]\n",
            "                 Class     Images  Instances      Box(P          R      mAP50  mAP50-95): 100%|██████████| 2/2 [00:00<00:00,  5.68it/s]"
          ]
        },
        {
          "output_type": "stream",
          "name": "stdout",
          "text": [
            "                   all         50         81      0.344      0.475      0.389       0.25\n"
          ]
        },
        {
          "output_type": "stream",
          "name": "stderr",
          "text": [
            "\n"
          ]
        },
        {
          "output_type": "stream",
          "name": "stdout",
          "text": [
            "\n",
            "      Epoch    GPU_mem   box_loss   cls_loss   dfl_loss  Instances       Size\n"
          ]
        },
        {
          "output_type": "stream",
          "name": "stderr",
          "text": [
            "     78/100      16.7G      0.616      0.459     0.9726         47        640: 100%|██████████| 35/35 [00:09<00:00,  3.86it/s]\n",
            "                 Class     Images  Instances      Box(P          R      mAP50  mAP50-95): 100%|██████████| 2/2 [00:00<00:00,  5.35it/s]"
          ]
        },
        {
          "output_type": "stream",
          "name": "stdout",
          "text": [
            "                   all         50         81      0.581      0.353      0.403      0.256\n"
          ]
        },
        {
          "output_type": "stream",
          "name": "stderr",
          "text": [
            "\n"
          ]
        },
        {
          "output_type": "stream",
          "name": "stdout",
          "text": [
            "\n",
            "      Epoch    GPU_mem   box_loss   cls_loss   dfl_loss  Instances       Size\n"
          ]
        },
        {
          "output_type": "stream",
          "name": "stderr",
          "text": [
            "     79/100      16.7G     0.6059     0.4404     0.9728         68        640: 100%|██████████| 35/35 [00:08<00:00,  3.92it/s]\n",
            "                 Class     Images  Instances      Box(P          R      mAP50  mAP50-95): 100%|██████████| 2/2 [00:00<00:00,  5.75it/s]"
          ]
        },
        {
          "output_type": "stream",
          "name": "stdout",
          "text": [
            "                   all         50         81      0.545       0.43       0.41       0.27\n"
          ]
        },
        {
          "output_type": "stream",
          "name": "stderr",
          "text": [
            "\n"
          ]
        },
        {
          "output_type": "stream",
          "name": "stdout",
          "text": [
            "\n",
            "      Epoch    GPU_mem   box_loss   cls_loss   dfl_loss  Instances       Size\n"
          ]
        },
        {
          "output_type": "stream",
          "name": "stderr",
          "text": [
            "     80/100      16.7G     0.5929     0.4439     0.9694         59        640: 100%|██████████| 35/35 [00:09<00:00,  3.86it/s]\n",
            "                 Class     Images  Instances      Box(P          R      mAP50  mAP50-95): 100%|██████████| 2/2 [00:00<00:00,  5.65it/s]"
          ]
        },
        {
          "output_type": "stream",
          "name": "stdout",
          "text": [
            "                   all         50         81       0.49      0.359      0.367       0.24\n"
          ]
        },
        {
          "output_type": "stream",
          "name": "stderr",
          "text": [
            "\n"
          ]
        },
        {
          "output_type": "stream",
          "name": "stdout",
          "text": [
            "\n",
            "      Epoch    GPU_mem   box_loss   cls_loss   dfl_loss  Instances       Size\n"
          ]
        },
        {
          "output_type": "stream",
          "name": "stderr",
          "text": [
            "     81/100      16.5G      0.582     0.4261     0.9529         63        640: 100%|██████████| 35/35 [00:08<00:00,  3.94it/s]\n",
            "                 Class     Images  Instances      Box(P          R      mAP50  mAP50-95): 100%|██████████| 2/2 [00:00<00:00,  5.12it/s]"
          ]
        },
        {
          "output_type": "stream",
          "name": "stdout",
          "text": [
            "                   all         50         81      0.442      0.385      0.366      0.237\n"
          ]
        },
        {
          "output_type": "stream",
          "name": "stderr",
          "text": [
            "\n"
          ]
        },
        {
          "output_type": "stream",
          "name": "stdout",
          "text": [
            "\n",
            "      Epoch    GPU_mem   box_loss   cls_loss   dfl_loss  Instances       Size\n"
          ]
        },
        {
          "output_type": "stream",
          "name": "stderr",
          "text": [
            "     82/100      16.7G     0.5725     0.4258     0.9498         48        640: 100%|██████████| 35/35 [00:08<00:00,  3.92it/s]\n",
            "                 Class     Images  Instances      Box(P          R      mAP50  mAP50-95): 100%|██████████| 2/2 [00:00<00:00,  5.80it/s]"
          ]
        },
        {
          "output_type": "stream",
          "name": "stdout",
          "text": [
            "                   all         50         81      0.392      0.362       0.38      0.244\n"
          ]
        },
        {
          "output_type": "stream",
          "name": "stderr",
          "text": [
            "\n"
          ]
        },
        {
          "output_type": "stream",
          "name": "stdout",
          "text": [
            "\n",
            "      Epoch    GPU_mem   box_loss   cls_loss   dfl_loss  Instances       Size\n"
          ]
        },
        {
          "output_type": "stream",
          "name": "stderr",
          "text": [
            "     83/100      16.7G     0.5948     0.4394     0.9642         54        640: 100%|██████████| 35/35 [00:09<00:00,  3.86it/s]\n",
            "                 Class     Images  Instances      Box(P          R      mAP50  mAP50-95): 100%|██████████| 2/2 [00:00<00:00,  5.19it/s]"
          ]
        },
        {
          "output_type": "stream",
          "name": "stdout",
          "text": [
            "                   all         50         81      0.479      0.347      0.376      0.235\n"
          ]
        },
        {
          "output_type": "stream",
          "name": "stderr",
          "text": [
            "\n"
          ]
        },
        {
          "output_type": "stream",
          "name": "stdout",
          "text": [
            "\n",
            "      Epoch    GPU_mem   box_loss   cls_loss   dfl_loss  Instances       Size\n"
          ]
        },
        {
          "output_type": "stream",
          "name": "stderr",
          "text": [
            "     84/100      16.8G     0.5829     0.4425     0.9738         55        640: 100%|██████████| 35/35 [00:08<00:00,  3.94it/s]\n",
            "                 Class     Images  Instances      Box(P          R      mAP50  mAP50-95): 100%|██████████| 2/2 [00:00<00:00,  5.42it/s]"
          ]
        },
        {
          "output_type": "stream",
          "name": "stdout",
          "text": [
            "                   all         50         81      0.521      0.356      0.387      0.248\n"
          ]
        },
        {
          "output_type": "stream",
          "name": "stderr",
          "text": [
            "\n"
          ]
        },
        {
          "output_type": "stream",
          "name": "stdout",
          "text": [
            "\n",
            "      Epoch    GPU_mem   box_loss   cls_loss   dfl_loss  Instances       Size\n"
          ]
        },
        {
          "output_type": "stream",
          "name": "stderr",
          "text": [
            "     85/100      16.5G     0.5618     0.4177     0.9518         44        640: 100%|██████████| 35/35 [00:08<00:00,  3.94it/s]\n",
            "                 Class     Images  Instances      Box(P          R      mAP50  mAP50-95): 100%|██████████| 2/2 [00:00<00:00,  5.60it/s]"
          ]
        },
        {
          "output_type": "stream",
          "name": "stdout",
          "text": [
            "                   all         50         81       0.48      0.392      0.358      0.228\n"
          ]
        },
        {
          "output_type": "stream",
          "name": "stderr",
          "text": [
            "\n"
          ]
        },
        {
          "output_type": "stream",
          "name": "stdout",
          "text": [
            "\n",
            "      Epoch    GPU_mem   box_loss   cls_loss   dfl_loss  Instances       Size\n"
          ]
        },
        {
          "output_type": "stream",
          "name": "stderr",
          "text": [
            "     86/100      16.7G     0.5604     0.4105     0.9566         74        640: 100%|██████████| 35/35 [00:08<00:00,  3.90it/s]\n",
            "                 Class     Images  Instances      Box(P          R      mAP50  mAP50-95): 100%|██████████| 2/2 [00:00<00:00,  5.40it/s]"
          ]
        },
        {
          "output_type": "stream",
          "name": "stdout",
          "text": [
            "                   all         50         81      0.465      0.329      0.371       0.23\n"
          ]
        },
        {
          "output_type": "stream",
          "name": "stderr",
          "text": [
            "\n"
          ]
        },
        {
          "output_type": "stream",
          "name": "stdout",
          "text": [
            "\n",
            "      Epoch    GPU_mem   box_loss   cls_loss   dfl_loss  Instances       Size\n"
          ]
        },
        {
          "output_type": "stream",
          "name": "stderr",
          "text": [
            "     87/100      16.7G     0.5421     0.3993      0.929         47        640: 100%|██████████| 35/35 [00:08<00:00,  3.92it/s]\n",
            "                 Class     Images  Instances      Box(P          R      mAP50  mAP50-95): 100%|██████████| 2/2 [00:00<00:00,  5.45it/s]"
          ]
        },
        {
          "output_type": "stream",
          "name": "stdout",
          "text": [
            "                   all         50         81      0.276      0.341      0.373      0.232\n"
          ]
        },
        {
          "output_type": "stream",
          "name": "stderr",
          "text": [
            "\n"
          ]
        },
        {
          "output_type": "stream",
          "name": "stdout",
          "text": [
            "\n",
            "      Epoch    GPU_mem   box_loss   cls_loss   dfl_loss  Instances       Size\n"
          ]
        },
        {
          "output_type": "stream",
          "name": "stderr",
          "text": [
            "     88/100      16.8G     0.5437     0.3977     0.9483         68        640: 100%|██████████| 35/35 [00:09<00:00,  3.89it/s]\n",
            "                 Class     Images  Instances      Box(P          R      mAP50  mAP50-95): 100%|██████████| 2/2 [00:00<00:00,  5.78it/s]"
          ]
        },
        {
          "output_type": "stream",
          "name": "stdout",
          "text": [
            "                   all         50         81      0.338       0.35      0.361      0.223\n"
          ]
        },
        {
          "output_type": "stream",
          "name": "stderr",
          "text": [
            "\n"
          ]
        },
        {
          "output_type": "stream",
          "name": "stdout",
          "text": [
            "\n",
            "      Epoch    GPU_mem   box_loss   cls_loss   dfl_loss  Instances       Size\n"
          ]
        },
        {
          "output_type": "stream",
          "name": "stderr",
          "text": [
            "     89/100      16.5G     0.5522      0.396     0.9381         69        640: 100%|██████████| 35/35 [00:09<00:00,  3.87it/s]\n",
            "                 Class     Images  Instances      Box(P          R      mAP50  mAP50-95): 100%|██████████| 2/2 [00:00<00:00,  5.49it/s]"
          ]
        },
        {
          "output_type": "stream",
          "name": "stdout",
          "text": [
            "                   all         50         81      0.329      0.427       0.36      0.217\n"
          ]
        },
        {
          "output_type": "stream",
          "name": "stderr",
          "text": [
            "\n"
          ]
        },
        {
          "output_type": "stream",
          "name": "stdout",
          "text": [
            "\n",
            "      Epoch    GPU_mem   box_loss   cls_loss   dfl_loss  Instances       Size\n"
          ]
        },
        {
          "output_type": "stream",
          "name": "stderr",
          "text": [
            "     90/100      16.7G     0.5399     0.4028     0.9384         41        640: 100%|██████████| 35/35 [00:08<00:00,  3.94it/s]\n",
            "                 Class     Images  Instances      Box(P          R      mAP50  mAP50-95): 100%|██████████| 2/2 [00:00<00:00,  5.77it/s]"
          ]
        },
        {
          "output_type": "stream",
          "name": "stdout",
          "text": [
            "                   all         50         81      0.323      0.403      0.361      0.216\n"
          ]
        },
        {
          "output_type": "stream",
          "name": "stderr",
          "text": [
            "\n"
          ]
        },
        {
          "output_type": "stream",
          "name": "stdout",
          "text": [
            "Closing dataloader mosaic\n",
            "\u001b[34m\u001b[1malbumentations: \u001b[0mBlur(p=0.01, blur_limit=(3, 7)), MedianBlur(p=0.01, blur_limit=(3, 7)), ToGray(p=0.01, num_output_channels=3, method='weighted_average'), CLAHE(p=0.01, clip_limit=(1.0, 4.0), tile_grid_size=(8, 8))\n",
            "\n",
            "      Epoch    GPU_mem   box_loss   cls_loss   dfl_loss  Instances       Size\n"
          ]
        },
        {
          "output_type": "stream",
          "name": "stderr",
          "text": [
            "     91/100      16.7G     0.5006      0.331     0.8979         35        640: 100%|██████████| 35/35 [00:12<00:00,  2.91it/s]\n",
            "                 Class     Images  Instances      Box(P          R      mAP50  mAP50-95): 100%|██████████| 2/2 [00:00<00:00,  5.31it/s]"
          ]
        },
        {
          "output_type": "stream",
          "name": "stdout",
          "text": [
            "                   all         50         81      0.337      0.447       0.37      0.225\n"
          ]
        },
        {
          "output_type": "stream",
          "name": "stderr",
          "text": [
            "\n"
          ]
        },
        {
          "output_type": "stream",
          "name": "stdout",
          "text": [
            "\n",
            "      Epoch    GPU_mem   box_loss   cls_loss   dfl_loss  Instances       Size\n"
          ]
        },
        {
          "output_type": "stream",
          "name": "stderr",
          "text": [
            "     92/100      16.7G     0.4824     0.3154     0.8845         30        640: 100%|██████████| 35/35 [00:08<00:00,  3.89it/s]\n",
            "                 Class     Images  Instances      Box(P          R      mAP50  mAP50-95): 100%|██████████| 2/2 [00:00<00:00,  5.47it/s]"
          ]
        },
        {
          "output_type": "stream",
          "name": "stdout",
          "text": [
            "                   all         50         81      0.268      0.339      0.365      0.221\n"
          ]
        },
        {
          "output_type": "stream",
          "name": "stderr",
          "text": [
            "\n"
          ]
        },
        {
          "output_type": "stream",
          "name": "stdout",
          "text": [
            "\n",
            "      Epoch    GPU_mem   box_loss   cls_loss   dfl_loss  Instances       Size\n"
          ]
        },
        {
          "output_type": "stream",
          "name": "stderr",
          "text": [
            "     93/100      16.5G     0.4651     0.2915      0.861         31        640: 100%|██████████| 35/35 [00:08<00:00,  3.97it/s]\n",
            "                 Class     Images  Instances      Box(P          R      mAP50  mAP50-95): 100%|██████████| 2/2 [00:00<00:00,  5.71it/s]"
          ]
        },
        {
          "output_type": "stream",
          "name": "stdout",
          "text": [
            "                   all         50         81      0.269      0.332      0.372      0.235\n"
          ]
        },
        {
          "output_type": "stream",
          "name": "stderr",
          "text": [
            "\n"
          ]
        },
        {
          "output_type": "stream",
          "name": "stdout",
          "text": [
            "\n",
            "      Epoch    GPU_mem   box_loss   cls_loss   dfl_loss  Instances       Size\n"
          ]
        },
        {
          "output_type": "stream",
          "name": "stderr",
          "text": [
            "     94/100      16.7G     0.4491     0.3039     0.8799         23        640: 100%|██████████| 35/35 [00:09<00:00,  3.85it/s]\n",
            "                 Class     Images  Instances      Box(P          R      mAP50  mAP50-95): 100%|██████████| 2/2 [00:00<00:00,  5.33it/s]"
          ]
        },
        {
          "output_type": "stream",
          "name": "stdout",
          "text": [
            "                   all         50         81      0.325      0.394      0.366      0.229\n"
          ]
        },
        {
          "output_type": "stream",
          "name": "stderr",
          "text": [
            "\n"
          ]
        },
        {
          "output_type": "stream",
          "name": "stdout",
          "text": [
            "\n",
            "      Epoch    GPU_mem   box_loss   cls_loss   dfl_loss  Instances       Size\n"
          ]
        },
        {
          "output_type": "stream",
          "name": "stderr",
          "text": [
            "     95/100      16.7G     0.4355     0.2937     0.8628         35        640: 100%|██████████| 35/35 [00:08<00:00,  3.92it/s]\n",
            "                 Class     Images  Instances      Box(P          R      mAP50  mAP50-95): 100%|██████████| 2/2 [00:00<00:00,  5.57it/s]"
          ]
        },
        {
          "output_type": "stream",
          "name": "stdout",
          "text": [
            "                   all         50         81      0.261      0.383      0.375      0.239\n"
          ]
        },
        {
          "output_type": "stream",
          "name": "stderr",
          "text": [
            "\n"
          ]
        },
        {
          "output_type": "stream",
          "name": "stdout",
          "text": [
            "\n",
            "      Epoch    GPU_mem   box_loss   cls_loss   dfl_loss  Instances       Size\n"
          ]
        },
        {
          "output_type": "stream",
          "name": "stderr",
          "text": [
            "     96/100      16.7G      0.431     0.2885     0.8458         39        640: 100%|██████████| 35/35 [00:08<00:00,  3.92it/s]\n",
            "                 Class     Images  Instances      Box(P          R      mAP50  mAP50-95): 100%|██████████| 2/2 [00:00<00:00,  5.61it/s]"
          ]
        },
        {
          "output_type": "stream",
          "name": "stdout",
          "text": [
            "                   all         50         81      0.261        0.4      0.376      0.248\n"
          ]
        },
        {
          "output_type": "stream",
          "name": "stderr",
          "text": [
            "\n"
          ]
        },
        {
          "output_type": "stream",
          "name": "stdout",
          "text": [
            "\n",
            "      Epoch    GPU_mem   box_loss   cls_loss   dfl_loss  Instances       Size\n"
          ]
        },
        {
          "output_type": "stream",
          "name": "stderr",
          "text": [
            "     97/100      16.5G     0.4264     0.2819     0.8506         24        640: 100%|██████████| 35/35 [00:08<00:00,  3.90it/s]\n",
            "                 Class     Images  Instances      Box(P          R      mAP50  mAP50-95): 100%|██████████| 2/2 [00:00<00:00,  5.62it/s]"
          ]
        },
        {
          "output_type": "stream",
          "name": "stdout",
          "text": [
            "                   all         50         81      0.332      0.414      0.379      0.247\n"
          ]
        },
        {
          "output_type": "stream",
          "name": "stderr",
          "text": [
            "\n"
          ]
        },
        {
          "output_type": "stream",
          "name": "stdout",
          "text": [
            "\n",
            "      Epoch    GPU_mem   box_loss   cls_loss   dfl_loss  Instances       Size\n"
          ]
        },
        {
          "output_type": "stream",
          "name": "stderr",
          "text": [
            "     98/100      16.7G     0.4071     0.2799     0.8525         22        640: 100%|██████████| 35/35 [00:08<00:00,  3.94it/s]\n",
            "                 Class     Images  Instances      Box(P          R      mAP50  mAP50-95): 100%|██████████| 2/2 [00:00<00:00,  5.40it/s]"
          ]
        },
        {
          "output_type": "stream",
          "name": "stdout",
          "text": [
            "                   all         50         81      0.275      0.405      0.383      0.243\n"
          ]
        },
        {
          "output_type": "stream",
          "name": "stderr",
          "text": [
            "\n"
          ]
        },
        {
          "output_type": "stream",
          "name": "stdout",
          "text": [
            "\n",
            "      Epoch    GPU_mem   box_loss   cls_loss   dfl_loss  Instances       Size\n"
          ]
        },
        {
          "output_type": "stream",
          "name": "stderr",
          "text": [
            "     99/100      16.7G     0.4111     0.2785     0.8605         24        640: 100%|██████████| 35/35 [00:09<00:00,  3.87it/s]\n",
            "                 Class     Images  Instances      Box(P          R      mAP50  mAP50-95): 100%|██████████| 2/2 [00:00<00:00,  5.47it/s]"
          ]
        },
        {
          "output_type": "stream",
          "name": "stdout",
          "text": [
            "                   all         50         81      0.284      0.422       0.38      0.249\n"
          ]
        },
        {
          "output_type": "stream",
          "name": "stderr",
          "text": [
            "\n"
          ]
        },
        {
          "output_type": "stream",
          "name": "stdout",
          "text": [
            "\n",
            "      Epoch    GPU_mem   box_loss   cls_loss   dfl_loss  Instances       Size\n"
          ]
        },
        {
          "output_type": "stream",
          "name": "stderr",
          "text": [
            "    100/100      16.7G     0.4076     0.2734     0.8499         24        640: 100%|██████████| 35/35 [00:08<00:00,  3.89it/s]\n",
            "                 Class     Images  Instances      Box(P          R      mAP50  mAP50-95): 100%|██████████| 2/2 [00:00<00:00,  5.33it/s]"
          ]
        },
        {
          "output_type": "stream",
          "name": "stdout",
          "text": [
            "                   all         50         81      0.278      0.426       0.38      0.248\n"
          ]
        },
        {
          "output_type": "stream",
          "name": "stderr",
          "text": [
            "\n"
          ]
        },
        {
          "output_type": "stream",
          "name": "stdout",
          "text": [
            "\n",
            "100 epochs completed in 0.322 hours.\n",
            "Optimizer stripped from runs/detect/train/weights/last.pt, 114.4MB\n",
            "Optimizer stripped from runs/detect/train/weights/best.pt, 114.4MB\n",
            "\n",
            "Validating runs/detect/train/weights/best.pt...\n",
            "Ultralytics 8.3.59 🚀 Python-3.10.12 torch-2.5.1+cu121 CUDA:0 (NVIDIA A100-SXM4-40GB, 40514MiB)\n",
            "YOLO11x summary (fused): 464 layers, 56,860,519 parameters, 0 gradients, 194.6 GFLOPs\n"
          ]
        },
        {
          "output_type": "stream",
          "name": "stderr",
          "text": [
            "                 Class     Images  Instances      Box(P          R      mAP50  mAP50-95): 100%|██████████| 2/2 [00:00<00:00,  4.60it/s]\n"
          ]
        },
        {
          "output_type": "stream",
          "name": "stdout",
          "text": [
            "                   all         50         81      0.545      0.431       0.41      0.273\n",
            "           Aerosol can          1          1      0.756          1      0.995      0.895\n",
            "        Aluminium foil          3          4      0.821       0.75      0.766      0.602\n",
            "                Bottle         14         19       0.63      0.718      0.777      0.474\n",
            "            Bottle cap          2          2      0.213        0.5      0.535      0.211\n",
            "                   Can          6          6      0.673      0.689      0.743      0.274\n",
            "                Carton          4          5      0.331      0.308       0.45      0.337\n",
            "             Cigarette          2          4      0.159       0.25      0.107     0.0298\n",
            "                   Cup          3          5      0.472        0.2      0.294       0.21\n",
            "            Food waste          1          1          1          0     0.0905     0.0362\n",
            "                   Lid          1          1          1          0          0          0\n",
            "         Other plastic          2          2          1          0          0          0\n",
            "                 Paper          6          6      0.216      0.333      0.232      0.167\n",
            "             Paper bag          1          1          0          0          0          0\n",
            " Plastic bag & wrapper         17         19      0.524      0.638      0.644      0.383\n",
            "     Plastic container          2          2       0.21        0.5      0.255      0.153\n",
            "               Pop tab          1          1          1          0          0          0\n",
            "           Scrap metal          1          1      0.371          1      0.995      0.697\n",
            "       Styrofoam piece          1          1      0.435      0.871      0.497      0.448\n",
            "Speed: 0.1ms preprocess, 4.5ms inference, 0.0ms loss, 0.8ms postprocess per image\n",
            "Results saved to \u001b[1mruns/detect/train\u001b[0m\n"
          ]
        },
        {
          "output_type": "execute_result",
          "data": {
            "text/plain": [
              "ultralytics.utils.metrics.DetMetrics object with attributes:\n",
              "\n",
              "ap_class_index: array([ 0,  1,  4,  5,  7,  8,  9, 10, 11, 13, 14, 15, 16, 17, 18, 21, 23, 27])\n",
              "box: ultralytics.utils.metrics.Metric object\n",
              "confusion_matrix: <ultralytics.utils.metrics.ConfusionMatrix object at 0x7cfa641f6d40>\n",
              "curves: ['Precision-Recall(B)', 'F1-Confidence(B)', 'Precision-Confidence(B)', 'Recall-Confidence(B)']\n",
              "curves_results: [[array([          0,    0.001001,    0.002002,    0.003003,    0.004004,    0.005005,    0.006006,    0.007007,    0.008008,    0.009009,     0.01001,    0.011011,    0.012012,    0.013013,    0.014014,    0.015015,    0.016016,    0.017017,    0.018018,    0.019019,     0.02002,    0.021021,    0.022022,    0.023023,\n",
              "          0.024024,    0.025025,    0.026026,    0.027027,    0.028028,    0.029029,     0.03003,    0.031031,    0.032032,    0.033033,    0.034034,    0.035035,    0.036036,    0.037037,    0.038038,    0.039039,     0.04004,    0.041041,    0.042042,    0.043043,    0.044044,    0.045045,    0.046046,    0.047047,\n",
              "          0.048048,    0.049049,     0.05005,    0.051051,    0.052052,    0.053053,    0.054054,    0.055055,    0.056056,    0.057057,    0.058058,    0.059059,     0.06006,    0.061061,    0.062062,    0.063063,    0.064064,    0.065065,    0.066066,    0.067067,    0.068068,    0.069069,     0.07007,    0.071071,\n",
              "          0.072072,    0.073073,    0.074074,    0.075075,    0.076076,    0.077077,    0.078078,    0.079079,     0.08008,    0.081081,    0.082082,    0.083083,    0.084084,    0.085085,    0.086086,    0.087087,    0.088088,    0.089089,     0.09009,    0.091091,    0.092092,    0.093093,    0.094094,    0.095095,\n",
              "          0.096096,    0.097097,    0.098098,    0.099099,      0.1001,      0.1011,      0.1021,      0.1031,      0.1041,     0.10511,     0.10611,     0.10711,     0.10811,     0.10911,     0.11011,     0.11111,     0.11211,     0.11311,     0.11411,     0.11512,     0.11612,     0.11712,     0.11812,     0.11912,\n",
              "           0.12012,     0.12112,     0.12212,     0.12312,     0.12412,     0.12513,     0.12613,     0.12713,     0.12813,     0.12913,     0.13013,     0.13113,     0.13213,     0.13313,     0.13413,     0.13514,     0.13614,     0.13714,     0.13814,     0.13914,     0.14014,     0.14114,     0.14214,     0.14314,\n",
              "           0.14414,     0.14515,     0.14615,     0.14715,     0.14815,     0.14915,     0.15015,     0.15115,     0.15215,     0.15315,     0.15415,     0.15516,     0.15616,     0.15716,     0.15816,     0.15916,     0.16016,     0.16116,     0.16216,     0.16316,     0.16416,     0.16517,     0.16617,     0.16717,\n",
              "           0.16817,     0.16917,     0.17017,     0.17117,     0.17217,     0.17317,     0.17417,     0.17518,     0.17618,     0.17718,     0.17818,     0.17918,     0.18018,     0.18118,     0.18218,     0.18318,     0.18418,     0.18519,     0.18619,     0.18719,     0.18819,     0.18919,     0.19019,     0.19119,\n",
              "           0.19219,     0.19319,     0.19419,      0.1952,      0.1962,      0.1972,      0.1982,      0.1992,      0.2002,      0.2012,      0.2022,      0.2032,      0.2042,     0.20521,     0.20621,     0.20721,     0.20821,     0.20921,     0.21021,     0.21121,     0.21221,     0.21321,     0.21421,     0.21522,\n",
              "           0.21622,     0.21722,     0.21822,     0.21922,     0.22022,     0.22122,     0.22222,     0.22322,     0.22422,     0.22523,     0.22623,     0.22723,     0.22823,     0.22923,     0.23023,     0.23123,     0.23223,     0.23323,     0.23423,     0.23524,     0.23624,     0.23724,     0.23824,     0.23924,\n",
              "           0.24024,     0.24124,     0.24224,     0.24324,     0.24424,     0.24525,     0.24625,     0.24725,     0.24825,     0.24925,     0.25025,     0.25125,     0.25225,     0.25325,     0.25425,     0.25526,     0.25626,     0.25726,     0.25826,     0.25926,     0.26026,     0.26126,     0.26226,     0.26326,\n",
              "           0.26426,     0.26527,     0.26627,     0.26727,     0.26827,     0.26927,     0.27027,     0.27127,     0.27227,     0.27327,     0.27427,     0.27528,     0.27628,     0.27728,     0.27828,     0.27928,     0.28028,     0.28128,     0.28228,     0.28328,     0.28428,     0.28529,     0.28629,     0.28729,\n",
              "           0.28829,     0.28929,     0.29029,     0.29129,     0.29229,     0.29329,     0.29429,      0.2953,      0.2963,      0.2973,      0.2983,      0.2993,      0.3003,      0.3013,      0.3023,      0.3033,      0.3043,     0.30531,     0.30631,     0.30731,     0.30831,     0.30931,     0.31031,     0.31131,\n",
              "           0.31231,     0.31331,     0.31431,     0.31532,     0.31632,     0.31732,     0.31832,     0.31932,     0.32032,     0.32132,     0.32232,     0.32332,     0.32432,     0.32533,     0.32633,     0.32733,     0.32833,     0.32933,     0.33033,     0.33133,     0.33233,     0.33333,     0.33433,     0.33534,\n",
              "           0.33634,     0.33734,     0.33834,     0.33934,     0.34034,     0.34134,     0.34234,     0.34334,     0.34434,     0.34535,     0.34635,     0.34735,     0.34835,     0.34935,     0.35035,     0.35135,     0.35235,     0.35335,     0.35435,     0.35536,     0.35636,     0.35736,     0.35836,     0.35936,\n",
              "           0.36036,     0.36136,     0.36236,     0.36336,     0.36436,     0.36537,     0.36637,     0.36737,     0.36837,     0.36937,     0.37037,     0.37137,     0.37237,     0.37337,     0.37437,     0.37538,     0.37638,     0.37738,     0.37838,     0.37938,     0.38038,     0.38138,     0.38238,     0.38338,\n",
              "           0.38438,     0.38539,     0.38639,     0.38739,     0.38839,     0.38939,     0.39039,     0.39139,     0.39239,     0.39339,     0.39439,      0.3954,      0.3964,      0.3974,      0.3984,      0.3994,      0.4004,      0.4014,      0.4024,      0.4034,      0.4044,     0.40541,     0.40641,     0.40741,\n",
              "           0.40841,     0.40941,     0.41041,     0.41141,     0.41241,     0.41341,     0.41441,     0.41542,     0.41642,     0.41742,     0.41842,     0.41942,     0.42042,     0.42142,     0.42242,     0.42342,     0.42442,     0.42543,     0.42643,     0.42743,     0.42843,     0.42943,     0.43043,     0.43143,\n",
              "           0.43243,     0.43343,     0.43443,     0.43544,     0.43644,     0.43744,     0.43844,     0.43944,     0.44044,     0.44144,     0.44244,     0.44344,     0.44444,     0.44545,     0.44645,     0.44745,     0.44845,     0.44945,     0.45045,     0.45145,     0.45245,     0.45345,     0.45445,     0.45546,\n",
              "           0.45646,     0.45746,     0.45846,     0.45946,     0.46046,     0.46146,     0.46246,     0.46346,     0.46446,     0.46547,     0.46647,     0.46747,     0.46847,     0.46947,     0.47047,     0.47147,     0.47247,     0.47347,     0.47447,     0.47548,     0.47648,     0.47748,     0.47848,     0.47948,\n",
              "           0.48048,     0.48148,     0.48248,     0.48348,     0.48448,     0.48549,     0.48649,     0.48749,     0.48849,     0.48949,     0.49049,     0.49149,     0.49249,     0.49349,     0.49449,      0.4955,      0.4965,      0.4975,      0.4985,      0.4995,      0.5005,      0.5015,      0.5025,      0.5035,\n",
              "            0.5045,     0.50551,     0.50651,     0.50751,     0.50851,     0.50951,     0.51051,     0.51151,     0.51251,     0.51351,     0.51451,     0.51552,     0.51652,     0.51752,     0.51852,     0.51952,     0.52052,     0.52152,     0.52252,     0.52352,     0.52452,     0.52553,     0.52653,     0.52753,\n",
              "           0.52853,     0.52953,     0.53053,     0.53153,     0.53253,     0.53353,     0.53453,     0.53554,     0.53654,     0.53754,     0.53854,     0.53954,     0.54054,     0.54154,     0.54254,     0.54354,     0.54454,     0.54555,     0.54655,     0.54755,     0.54855,     0.54955,     0.55055,     0.55155,\n",
              "           0.55255,     0.55355,     0.55455,     0.55556,     0.55656,     0.55756,     0.55856,     0.55956,     0.56056,     0.56156,     0.56256,     0.56356,     0.56456,     0.56557,     0.56657,     0.56757,     0.56857,     0.56957,     0.57057,     0.57157,     0.57257,     0.57357,     0.57457,     0.57558,\n",
              "           0.57658,     0.57758,     0.57858,     0.57958,     0.58058,     0.58158,     0.58258,     0.58358,     0.58458,     0.58559,     0.58659,     0.58759,     0.58859,     0.58959,     0.59059,     0.59159,     0.59259,     0.59359,     0.59459,      0.5956,      0.5966,      0.5976,      0.5986,      0.5996,\n",
              "            0.6006,      0.6016,      0.6026,      0.6036,      0.6046,     0.60561,     0.60661,     0.60761,     0.60861,     0.60961,     0.61061,     0.61161,     0.61261,     0.61361,     0.61461,     0.61562,     0.61662,     0.61762,     0.61862,     0.61962,     0.62062,     0.62162,     0.62262,     0.62362,\n",
              "           0.62462,     0.62563,     0.62663,     0.62763,     0.62863,     0.62963,     0.63063,     0.63163,     0.63263,     0.63363,     0.63463,     0.63564,     0.63664,     0.63764,     0.63864,     0.63964,     0.64064,     0.64164,     0.64264,     0.64364,     0.64464,     0.64565,     0.64665,     0.64765,\n",
              "           0.64865,     0.64965,     0.65065,     0.65165,     0.65265,     0.65365,     0.65465,     0.65566,     0.65666,     0.65766,     0.65866,     0.65966,     0.66066,     0.66166,     0.66266,     0.66366,     0.66466,     0.66567,     0.66667,     0.66767,     0.66867,     0.66967,     0.67067,     0.67167,\n",
              "           0.67267,     0.67367,     0.67467,     0.67568,     0.67668,     0.67768,     0.67868,     0.67968,     0.68068,     0.68168,     0.68268,     0.68368,     0.68468,     0.68569,     0.68669,     0.68769,     0.68869,     0.68969,     0.69069,     0.69169,     0.69269,     0.69369,     0.69469,      0.6957,\n",
              "            0.6967,      0.6977,      0.6987,      0.6997,      0.7007,      0.7017,      0.7027,      0.7037,      0.7047,     0.70571,     0.70671,     0.70771,     0.70871,     0.70971,     0.71071,     0.71171,     0.71271,     0.71371,     0.71471,     0.71572,     0.71672,     0.71772,     0.71872,     0.71972,\n",
              "           0.72072,     0.72172,     0.72272,     0.72372,     0.72472,     0.72573,     0.72673,     0.72773,     0.72873,     0.72973,     0.73073,     0.73173,     0.73273,     0.73373,     0.73473,     0.73574,     0.73674,     0.73774,     0.73874,     0.73974,     0.74074,     0.74174,     0.74274,     0.74374,\n",
              "           0.74474,     0.74575,     0.74675,     0.74775,     0.74875,     0.74975,     0.75075,     0.75175,     0.75275,     0.75375,     0.75475,     0.75576,     0.75676,     0.75776,     0.75876,     0.75976,     0.76076,     0.76176,     0.76276,     0.76376,     0.76476,     0.76577,     0.76677,     0.76777,\n",
              "           0.76877,     0.76977,     0.77077,     0.77177,     0.77277,     0.77377,     0.77477,     0.77578,     0.77678,     0.77778,     0.77878,     0.77978,     0.78078,     0.78178,     0.78278,     0.78378,     0.78478,     0.78579,     0.78679,     0.78779,     0.78879,     0.78979,     0.79079,     0.79179,\n",
              "           0.79279,     0.79379,     0.79479,      0.7958,      0.7968,      0.7978,      0.7988,      0.7998,      0.8008,      0.8018,      0.8028,      0.8038,      0.8048,     0.80581,     0.80681,     0.80781,     0.80881,     0.80981,     0.81081,     0.81181,     0.81281,     0.81381,     0.81481,     0.81582,\n",
              "           0.81682,     0.81782,     0.81882,     0.81982,     0.82082,     0.82182,     0.82282,     0.82382,     0.82482,     0.82583,     0.82683,     0.82783,     0.82883,     0.82983,     0.83083,     0.83183,     0.83283,     0.83383,     0.83483,     0.83584,     0.83684,     0.83784,     0.83884,     0.83984,\n",
              "           0.84084,     0.84184,     0.84284,     0.84384,     0.84484,     0.84585,     0.84685,     0.84785,     0.84885,     0.84985,     0.85085,     0.85185,     0.85285,     0.85385,     0.85485,     0.85586,     0.85686,     0.85786,     0.85886,     0.85986,     0.86086,     0.86186,     0.86286,     0.86386,\n",
              "           0.86486,     0.86587,     0.86687,     0.86787,     0.86887,     0.86987,     0.87087,     0.87187,     0.87287,     0.87387,     0.87487,     0.87588,     0.87688,     0.87788,     0.87888,     0.87988,     0.88088,     0.88188,     0.88288,     0.88388,     0.88488,     0.88589,     0.88689,     0.88789,\n",
              "           0.88889,     0.88989,     0.89089,     0.89189,     0.89289,     0.89389,     0.89489,      0.8959,      0.8969,      0.8979,      0.8989,      0.8999,      0.9009,      0.9019,      0.9029,      0.9039,      0.9049,     0.90591,     0.90691,     0.90791,     0.90891,     0.90991,     0.91091,     0.91191,\n",
              "           0.91291,     0.91391,     0.91491,     0.91592,     0.91692,     0.91792,     0.91892,     0.91992,     0.92092,     0.92192,     0.92292,     0.92392,     0.92492,     0.92593,     0.92693,     0.92793,     0.92893,     0.92993,     0.93093,     0.93193,     0.93293,     0.93393,     0.93493,     0.93594,\n",
              "           0.93694,     0.93794,     0.93894,     0.93994,     0.94094,     0.94194,     0.94294,     0.94394,     0.94494,     0.94595,     0.94695,     0.94795,     0.94895,     0.94995,     0.95095,     0.95195,     0.95295,     0.95395,     0.95495,     0.95596,     0.95696,     0.95796,     0.95896,     0.95996,\n",
              "           0.96096,     0.96196,     0.96296,     0.96396,     0.96496,     0.96597,     0.96697,     0.96797,     0.96897,     0.96997,     0.97097,     0.97197,     0.97297,     0.97397,     0.97497,     0.97598,     0.97698,     0.97798,     0.97898,     0.97998,     0.98098,     0.98198,     0.98298,     0.98398,\n",
              "           0.98498,     0.98599,     0.98699,     0.98799,     0.98899,     0.98999,     0.99099,     0.99199,     0.99299,     0.99399,     0.99499,       0.996,       0.997,       0.998,       0.999,           1]), array([[          1,           1,           1, ...,           1,           1,           0],\n",
              "       [          1,           1,           1, ...,   0.0012644,  0.00063221,           0],\n",
              "       [          1,           1,           1, ...,   0.0055745,   0.0027873,           0],\n",
              "       ...,\n",
              "       [          0,           0,           0, ...,           0,           0,           0],\n",
              "       [          1,           1,           1, ...,           1,           1,           0],\n",
              "       [        0.5,         0.5,         0.5, ...,         0.5,         0.5,           0]]), 'Recall', 'Precision'], [array([          0,    0.001001,    0.002002,    0.003003,    0.004004,    0.005005,    0.006006,    0.007007,    0.008008,    0.009009,     0.01001,    0.011011,    0.012012,    0.013013,    0.014014,    0.015015,    0.016016,    0.017017,    0.018018,    0.019019,     0.02002,    0.021021,    0.022022,    0.023023,\n",
              "          0.024024,    0.025025,    0.026026,    0.027027,    0.028028,    0.029029,     0.03003,    0.031031,    0.032032,    0.033033,    0.034034,    0.035035,    0.036036,    0.037037,    0.038038,    0.039039,     0.04004,    0.041041,    0.042042,    0.043043,    0.044044,    0.045045,    0.046046,    0.047047,\n",
              "          0.048048,    0.049049,     0.05005,    0.051051,    0.052052,    0.053053,    0.054054,    0.055055,    0.056056,    0.057057,    0.058058,    0.059059,     0.06006,    0.061061,    0.062062,    0.063063,    0.064064,    0.065065,    0.066066,    0.067067,    0.068068,    0.069069,     0.07007,    0.071071,\n",
              "          0.072072,    0.073073,    0.074074,    0.075075,    0.076076,    0.077077,    0.078078,    0.079079,     0.08008,    0.081081,    0.082082,    0.083083,    0.084084,    0.085085,    0.086086,    0.087087,    0.088088,    0.089089,     0.09009,    0.091091,    0.092092,    0.093093,    0.094094,    0.095095,\n",
              "          0.096096,    0.097097,    0.098098,    0.099099,      0.1001,      0.1011,      0.1021,      0.1031,      0.1041,     0.10511,     0.10611,     0.10711,     0.10811,     0.10911,     0.11011,     0.11111,     0.11211,     0.11311,     0.11411,     0.11512,     0.11612,     0.11712,     0.11812,     0.11912,\n",
              "           0.12012,     0.12112,     0.12212,     0.12312,     0.12412,     0.12513,     0.12613,     0.12713,     0.12813,     0.12913,     0.13013,     0.13113,     0.13213,     0.13313,     0.13413,     0.13514,     0.13614,     0.13714,     0.13814,     0.13914,     0.14014,     0.14114,     0.14214,     0.14314,\n",
              "           0.14414,     0.14515,     0.14615,     0.14715,     0.14815,     0.14915,     0.15015,     0.15115,     0.15215,     0.15315,     0.15415,     0.15516,     0.15616,     0.15716,     0.15816,     0.15916,     0.16016,     0.16116,     0.16216,     0.16316,     0.16416,     0.16517,     0.16617,     0.16717,\n",
              "           0.16817,     0.16917,     0.17017,     0.17117,     0.17217,     0.17317,     0.17417,     0.17518,     0.17618,     0.17718,     0.17818,     0.17918,     0.18018,     0.18118,     0.18218,     0.18318,     0.18418,     0.18519,     0.18619,     0.18719,     0.18819,     0.18919,     0.19019,     0.19119,\n",
              "           0.19219,     0.19319,     0.19419,      0.1952,      0.1962,      0.1972,      0.1982,      0.1992,      0.2002,      0.2012,      0.2022,      0.2032,      0.2042,     0.20521,     0.20621,     0.20721,     0.20821,     0.20921,     0.21021,     0.21121,     0.21221,     0.21321,     0.21421,     0.21522,\n",
              "           0.21622,     0.21722,     0.21822,     0.21922,     0.22022,     0.22122,     0.22222,     0.22322,     0.22422,     0.22523,     0.22623,     0.22723,     0.22823,     0.22923,     0.23023,     0.23123,     0.23223,     0.23323,     0.23423,     0.23524,     0.23624,     0.23724,     0.23824,     0.23924,\n",
              "           0.24024,     0.24124,     0.24224,     0.24324,     0.24424,     0.24525,     0.24625,     0.24725,     0.24825,     0.24925,     0.25025,     0.25125,     0.25225,     0.25325,     0.25425,     0.25526,     0.25626,     0.25726,     0.25826,     0.25926,     0.26026,     0.26126,     0.26226,     0.26326,\n",
              "           0.26426,     0.26527,     0.26627,     0.26727,     0.26827,     0.26927,     0.27027,     0.27127,     0.27227,     0.27327,     0.27427,     0.27528,     0.27628,     0.27728,     0.27828,     0.27928,     0.28028,     0.28128,     0.28228,     0.28328,     0.28428,     0.28529,     0.28629,     0.28729,\n",
              "           0.28829,     0.28929,     0.29029,     0.29129,     0.29229,     0.29329,     0.29429,      0.2953,      0.2963,      0.2973,      0.2983,      0.2993,      0.3003,      0.3013,      0.3023,      0.3033,      0.3043,     0.30531,     0.30631,     0.30731,     0.30831,     0.30931,     0.31031,     0.31131,\n",
              "           0.31231,     0.31331,     0.31431,     0.31532,     0.31632,     0.31732,     0.31832,     0.31932,     0.32032,     0.32132,     0.32232,     0.32332,     0.32432,     0.32533,     0.32633,     0.32733,     0.32833,     0.32933,     0.33033,     0.33133,     0.33233,     0.33333,     0.33433,     0.33534,\n",
              "           0.33634,     0.33734,     0.33834,     0.33934,     0.34034,     0.34134,     0.34234,     0.34334,     0.34434,     0.34535,     0.34635,     0.34735,     0.34835,     0.34935,     0.35035,     0.35135,     0.35235,     0.35335,     0.35435,     0.35536,     0.35636,     0.35736,     0.35836,     0.35936,\n",
              "           0.36036,     0.36136,     0.36236,     0.36336,     0.36436,     0.36537,     0.36637,     0.36737,     0.36837,     0.36937,     0.37037,     0.37137,     0.37237,     0.37337,     0.37437,     0.37538,     0.37638,     0.37738,     0.37838,     0.37938,     0.38038,     0.38138,     0.38238,     0.38338,\n",
              "           0.38438,     0.38539,     0.38639,     0.38739,     0.38839,     0.38939,     0.39039,     0.39139,     0.39239,     0.39339,     0.39439,      0.3954,      0.3964,      0.3974,      0.3984,      0.3994,      0.4004,      0.4014,      0.4024,      0.4034,      0.4044,     0.40541,     0.40641,     0.40741,\n",
              "           0.40841,     0.40941,     0.41041,     0.41141,     0.41241,     0.41341,     0.41441,     0.41542,     0.41642,     0.41742,     0.41842,     0.41942,     0.42042,     0.42142,     0.42242,     0.42342,     0.42442,     0.42543,     0.42643,     0.42743,     0.42843,     0.42943,     0.43043,     0.43143,\n",
              "           0.43243,     0.43343,     0.43443,     0.43544,     0.43644,     0.43744,     0.43844,     0.43944,     0.44044,     0.44144,     0.44244,     0.44344,     0.44444,     0.44545,     0.44645,     0.44745,     0.44845,     0.44945,     0.45045,     0.45145,     0.45245,     0.45345,     0.45445,     0.45546,\n",
              "           0.45646,     0.45746,     0.45846,     0.45946,     0.46046,     0.46146,     0.46246,     0.46346,     0.46446,     0.46547,     0.46647,     0.46747,     0.46847,     0.46947,     0.47047,     0.47147,     0.47247,     0.47347,     0.47447,     0.47548,     0.47648,     0.47748,     0.47848,     0.47948,\n",
              "           0.48048,     0.48148,     0.48248,     0.48348,     0.48448,     0.48549,     0.48649,     0.48749,     0.48849,     0.48949,     0.49049,     0.49149,     0.49249,     0.49349,     0.49449,      0.4955,      0.4965,      0.4975,      0.4985,      0.4995,      0.5005,      0.5015,      0.5025,      0.5035,\n",
              "            0.5045,     0.50551,     0.50651,     0.50751,     0.50851,     0.50951,     0.51051,     0.51151,     0.51251,     0.51351,     0.51451,     0.51552,     0.51652,     0.51752,     0.51852,     0.51952,     0.52052,     0.52152,     0.52252,     0.52352,     0.52452,     0.52553,     0.52653,     0.52753,\n",
              "           0.52853,     0.52953,     0.53053,     0.53153,     0.53253,     0.53353,     0.53453,     0.53554,     0.53654,     0.53754,     0.53854,     0.53954,     0.54054,     0.54154,     0.54254,     0.54354,     0.54454,     0.54555,     0.54655,     0.54755,     0.54855,     0.54955,     0.55055,     0.55155,\n",
              "           0.55255,     0.55355,     0.55455,     0.55556,     0.55656,     0.55756,     0.55856,     0.55956,     0.56056,     0.56156,     0.56256,     0.56356,     0.56456,     0.56557,     0.56657,     0.56757,     0.56857,     0.56957,     0.57057,     0.57157,     0.57257,     0.57357,     0.57457,     0.57558,\n",
              "           0.57658,     0.57758,     0.57858,     0.57958,     0.58058,     0.58158,     0.58258,     0.58358,     0.58458,     0.58559,     0.58659,     0.58759,     0.58859,     0.58959,     0.59059,     0.59159,     0.59259,     0.59359,     0.59459,      0.5956,      0.5966,      0.5976,      0.5986,      0.5996,\n",
              "            0.6006,      0.6016,      0.6026,      0.6036,      0.6046,     0.60561,     0.60661,     0.60761,     0.60861,     0.60961,     0.61061,     0.61161,     0.61261,     0.61361,     0.61461,     0.61562,     0.61662,     0.61762,     0.61862,     0.61962,     0.62062,     0.62162,     0.62262,     0.62362,\n",
              "           0.62462,     0.62563,     0.62663,     0.62763,     0.62863,     0.62963,     0.63063,     0.63163,     0.63263,     0.63363,     0.63463,     0.63564,     0.63664,     0.63764,     0.63864,     0.63964,     0.64064,     0.64164,     0.64264,     0.64364,     0.64464,     0.64565,     0.64665,     0.64765,\n",
              "           0.64865,     0.64965,     0.65065,     0.65165,     0.65265,     0.65365,     0.65465,     0.65566,     0.65666,     0.65766,     0.65866,     0.65966,     0.66066,     0.66166,     0.66266,     0.66366,     0.66466,     0.66567,     0.66667,     0.66767,     0.66867,     0.66967,     0.67067,     0.67167,\n",
              "           0.67267,     0.67367,     0.67467,     0.67568,     0.67668,     0.67768,     0.67868,     0.67968,     0.68068,     0.68168,     0.68268,     0.68368,     0.68468,     0.68569,     0.68669,     0.68769,     0.68869,     0.68969,     0.69069,     0.69169,     0.69269,     0.69369,     0.69469,      0.6957,\n",
              "            0.6967,      0.6977,      0.6987,      0.6997,      0.7007,      0.7017,      0.7027,      0.7037,      0.7047,     0.70571,     0.70671,     0.70771,     0.70871,     0.70971,     0.71071,     0.71171,     0.71271,     0.71371,     0.71471,     0.71572,     0.71672,     0.71772,     0.71872,     0.71972,\n",
              "           0.72072,     0.72172,     0.72272,     0.72372,     0.72472,     0.72573,     0.72673,     0.72773,     0.72873,     0.72973,     0.73073,     0.73173,     0.73273,     0.73373,     0.73473,     0.73574,     0.73674,     0.73774,     0.73874,     0.73974,     0.74074,     0.74174,     0.74274,     0.74374,\n",
              "           0.74474,     0.74575,     0.74675,     0.74775,     0.74875,     0.74975,     0.75075,     0.75175,     0.75275,     0.75375,     0.75475,     0.75576,     0.75676,     0.75776,     0.75876,     0.75976,     0.76076,     0.76176,     0.76276,     0.76376,     0.76476,     0.76577,     0.76677,     0.76777,\n",
              "           0.76877,     0.76977,     0.77077,     0.77177,     0.77277,     0.77377,     0.77477,     0.77578,     0.77678,     0.77778,     0.77878,     0.77978,     0.78078,     0.78178,     0.78278,     0.78378,     0.78478,     0.78579,     0.78679,     0.78779,     0.78879,     0.78979,     0.79079,     0.79179,\n",
              "           0.79279,     0.79379,     0.79479,      0.7958,      0.7968,      0.7978,      0.7988,      0.7998,      0.8008,      0.8018,      0.8028,      0.8038,      0.8048,     0.80581,     0.80681,     0.80781,     0.80881,     0.80981,     0.81081,     0.81181,     0.81281,     0.81381,     0.81481,     0.81582,\n",
              "           0.81682,     0.81782,     0.81882,     0.81982,     0.82082,     0.82182,     0.82282,     0.82382,     0.82482,     0.82583,     0.82683,     0.82783,     0.82883,     0.82983,     0.83083,     0.83183,     0.83283,     0.83383,     0.83483,     0.83584,     0.83684,     0.83784,     0.83884,     0.83984,\n",
              "           0.84084,     0.84184,     0.84284,     0.84384,     0.84484,     0.84585,     0.84685,     0.84785,     0.84885,     0.84985,     0.85085,     0.85185,     0.85285,     0.85385,     0.85485,     0.85586,     0.85686,     0.85786,     0.85886,     0.85986,     0.86086,     0.86186,     0.86286,     0.86386,\n",
              "           0.86486,     0.86587,     0.86687,     0.86787,     0.86887,     0.86987,     0.87087,     0.87187,     0.87287,     0.87387,     0.87487,     0.87588,     0.87688,     0.87788,     0.87888,     0.87988,     0.88088,     0.88188,     0.88288,     0.88388,     0.88488,     0.88589,     0.88689,     0.88789,\n",
              "           0.88889,     0.88989,     0.89089,     0.89189,     0.89289,     0.89389,     0.89489,      0.8959,      0.8969,      0.8979,      0.8989,      0.8999,      0.9009,      0.9019,      0.9029,      0.9039,      0.9049,     0.90591,     0.90691,     0.90791,     0.90891,     0.90991,     0.91091,     0.91191,\n",
              "           0.91291,     0.91391,     0.91491,     0.91592,     0.91692,     0.91792,     0.91892,     0.91992,     0.92092,     0.92192,     0.92292,     0.92392,     0.92492,     0.92593,     0.92693,     0.92793,     0.92893,     0.92993,     0.93093,     0.93193,     0.93293,     0.93393,     0.93493,     0.93594,\n",
              "           0.93694,     0.93794,     0.93894,     0.93994,     0.94094,     0.94194,     0.94294,     0.94394,     0.94494,     0.94595,     0.94695,     0.94795,     0.94895,     0.94995,     0.95095,     0.95195,     0.95295,     0.95395,     0.95495,     0.95596,     0.95696,     0.95796,     0.95896,     0.95996,\n",
              "           0.96096,     0.96196,     0.96296,     0.96396,     0.96496,     0.96597,     0.96697,     0.96797,     0.96897,     0.96997,     0.97097,     0.97197,     0.97297,     0.97397,     0.97497,     0.97598,     0.97698,     0.97798,     0.97898,     0.97998,     0.98098,     0.98198,     0.98298,     0.98398,\n",
              "           0.98498,     0.98599,     0.98699,     0.98799,     0.98899,     0.98999,     0.99099,     0.99199,     0.99299,     0.99399,     0.99499,       0.996,       0.997,       0.998,       0.999,           1]), array([[       0.25,        0.25,        0.25, ...,           0,           0,           0],\n",
              "       [    0.26087,     0.26087,     0.34481, ...,           0,           0,           0],\n",
              "       [    0.44156,     0.44156,     0.49592, ...,           0,           0,           0],\n",
              "       ...,\n",
              "       [          0,           0,           0, ...,           0,           0,           0],\n",
              "       [        0.4,         0.4,     0.40075, ...,           0,           0,           0],\n",
              "       [   0.076923,    0.076923,     0.12339, ...,           0,           0,           0]]), 'Confidence', 'F1'], [array([          0,    0.001001,    0.002002,    0.003003,    0.004004,    0.005005,    0.006006,    0.007007,    0.008008,    0.009009,     0.01001,    0.011011,    0.012012,    0.013013,    0.014014,    0.015015,    0.016016,    0.017017,    0.018018,    0.019019,     0.02002,    0.021021,    0.022022,    0.023023,\n",
              "          0.024024,    0.025025,    0.026026,    0.027027,    0.028028,    0.029029,     0.03003,    0.031031,    0.032032,    0.033033,    0.034034,    0.035035,    0.036036,    0.037037,    0.038038,    0.039039,     0.04004,    0.041041,    0.042042,    0.043043,    0.044044,    0.045045,    0.046046,    0.047047,\n",
              "          0.048048,    0.049049,     0.05005,    0.051051,    0.052052,    0.053053,    0.054054,    0.055055,    0.056056,    0.057057,    0.058058,    0.059059,     0.06006,    0.061061,    0.062062,    0.063063,    0.064064,    0.065065,    0.066066,    0.067067,    0.068068,    0.069069,     0.07007,    0.071071,\n",
              "          0.072072,    0.073073,    0.074074,    0.075075,    0.076076,    0.077077,    0.078078,    0.079079,     0.08008,    0.081081,    0.082082,    0.083083,    0.084084,    0.085085,    0.086086,    0.087087,    0.088088,    0.089089,     0.09009,    0.091091,    0.092092,    0.093093,    0.094094,    0.095095,\n",
              "          0.096096,    0.097097,    0.098098,    0.099099,      0.1001,      0.1011,      0.1021,      0.1031,      0.1041,     0.10511,     0.10611,     0.10711,     0.10811,     0.10911,     0.11011,     0.11111,     0.11211,     0.11311,     0.11411,     0.11512,     0.11612,     0.11712,     0.11812,     0.11912,\n",
              "           0.12012,     0.12112,     0.12212,     0.12312,     0.12412,     0.12513,     0.12613,     0.12713,     0.12813,     0.12913,     0.13013,     0.13113,     0.13213,     0.13313,     0.13413,     0.13514,     0.13614,     0.13714,     0.13814,     0.13914,     0.14014,     0.14114,     0.14214,     0.14314,\n",
              "           0.14414,     0.14515,     0.14615,     0.14715,     0.14815,     0.14915,     0.15015,     0.15115,     0.15215,     0.15315,     0.15415,     0.15516,     0.15616,     0.15716,     0.15816,     0.15916,     0.16016,     0.16116,     0.16216,     0.16316,     0.16416,     0.16517,     0.16617,     0.16717,\n",
              "           0.16817,     0.16917,     0.17017,     0.17117,     0.17217,     0.17317,     0.17417,     0.17518,     0.17618,     0.17718,     0.17818,     0.17918,     0.18018,     0.18118,     0.18218,     0.18318,     0.18418,     0.18519,     0.18619,     0.18719,     0.18819,     0.18919,     0.19019,     0.19119,\n",
              "           0.19219,     0.19319,     0.19419,      0.1952,      0.1962,      0.1972,      0.1982,      0.1992,      0.2002,      0.2012,      0.2022,      0.2032,      0.2042,     0.20521,     0.20621,     0.20721,     0.20821,     0.20921,     0.21021,     0.21121,     0.21221,     0.21321,     0.21421,     0.21522,\n",
              "           0.21622,     0.21722,     0.21822,     0.21922,     0.22022,     0.22122,     0.22222,     0.22322,     0.22422,     0.22523,     0.22623,     0.22723,     0.22823,     0.22923,     0.23023,     0.23123,     0.23223,     0.23323,     0.23423,     0.23524,     0.23624,     0.23724,     0.23824,     0.23924,\n",
              "           0.24024,     0.24124,     0.24224,     0.24324,     0.24424,     0.24525,     0.24625,     0.24725,     0.24825,     0.24925,     0.25025,     0.25125,     0.25225,     0.25325,     0.25425,     0.25526,     0.25626,     0.25726,     0.25826,     0.25926,     0.26026,     0.26126,     0.26226,     0.26326,\n",
              "           0.26426,     0.26527,     0.26627,     0.26727,     0.26827,     0.26927,     0.27027,     0.27127,     0.27227,     0.27327,     0.27427,     0.27528,     0.27628,     0.27728,     0.27828,     0.27928,     0.28028,     0.28128,     0.28228,     0.28328,     0.28428,     0.28529,     0.28629,     0.28729,\n",
              "           0.28829,     0.28929,     0.29029,     0.29129,     0.29229,     0.29329,     0.29429,      0.2953,      0.2963,      0.2973,      0.2983,      0.2993,      0.3003,      0.3013,      0.3023,      0.3033,      0.3043,     0.30531,     0.30631,     0.30731,     0.30831,     0.30931,     0.31031,     0.31131,\n",
              "           0.31231,     0.31331,     0.31431,     0.31532,     0.31632,     0.31732,     0.31832,     0.31932,     0.32032,     0.32132,     0.32232,     0.32332,     0.32432,     0.32533,     0.32633,     0.32733,     0.32833,     0.32933,     0.33033,     0.33133,     0.33233,     0.33333,     0.33433,     0.33534,\n",
              "           0.33634,     0.33734,     0.33834,     0.33934,     0.34034,     0.34134,     0.34234,     0.34334,     0.34434,     0.34535,     0.34635,     0.34735,     0.34835,     0.34935,     0.35035,     0.35135,     0.35235,     0.35335,     0.35435,     0.35536,     0.35636,     0.35736,     0.35836,     0.35936,\n",
              "           0.36036,     0.36136,     0.36236,     0.36336,     0.36436,     0.36537,     0.36637,     0.36737,     0.36837,     0.36937,     0.37037,     0.37137,     0.37237,     0.37337,     0.37437,     0.37538,     0.37638,     0.37738,     0.37838,     0.37938,     0.38038,     0.38138,     0.38238,     0.38338,\n",
              "           0.38438,     0.38539,     0.38639,     0.38739,     0.38839,     0.38939,     0.39039,     0.39139,     0.39239,     0.39339,     0.39439,      0.3954,      0.3964,      0.3974,      0.3984,      0.3994,      0.4004,      0.4014,      0.4024,      0.4034,      0.4044,     0.40541,     0.40641,     0.40741,\n",
              "           0.40841,     0.40941,     0.41041,     0.41141,     0.41241,     0.41341,     0.41441,     0.41542,     0.41642,     0.41742,     0.41842,     0.41942,     0.42042,     0.42142,     0.42242,     0.42342,     0.42442,     0.42543,     0.42643,     0.42743,     0.42843,     0.42943,     0.43043,     0.43143,\n",
              "           0.43243,     0.43343,     0.43443,     0.43544,     0.43644,     0.43744,     0.43844,     0.43944,     0.44044,     0.44144,     0.44244,     0.44344,     0.44444,     0.44545,     0.44645,     0.44745,     0.44845,     0.44945,     0.45045,     0.45145,     0.45245,     0.45345,     0.45445,     0.45546,\n",
              "           0.45646,     0.45746,     0.45846,     0.45946,     0.46046,     0.46146,     0.46246,     0.46346,     0.46446,     0.46547,     0.46647,     0.46747,     0.46847,     0.46947,     0.47047,     0.47147,     0.47247,     0.47347,     0.47447,     0.47548,     0.47648,     0.47748,     0.47848,     0.47948,\n",
              "           0.48048,     0.48148,     0.48248,     0.48348,     0.48448,     0.48549,     0.48649,     0.48749,     0.48849,     0.48949,     0.49049,     0.49149,     0.49249,     0.49349,     0.49449,      0.4955,      0.4965,      0.4975,      0.4985,      0.4995,      0.5005,      0.5015,      0.5025,      0.5035,\n",
              "            0.5045,     0.50551,     0.50651,     0.50751,     0.50851,     0.50951,     0.51051,     0.51151,     0.51251,     0.51351,     0.51451,     0.51552,     0.51652,     0.51752,     0.51852,     0.51952,     0.52052,     0.52152,     0.52252,     0.52352,     0.52452,     0.52553,     0.52653,     0.52753,\n",
              "           0.52853,     0.52953,     0.53053,     0.53153,     0.53253,     0.53353,     0.53453,     0.53554,     0.53654,     0.53754,     0.53854,     0.53954,     0.54054,     0.54154,     0.54254,     0.54354,     0.54454,     0.54555,     0.54655,     0.54755,     0.54855,     0.54955,     0.55055,     0.55155,\n",
              "           0.55255,     0.55355,     0.55455,     0.55556,     0.55656,     0.55756,     0.55856,     0.55956,     0.56056,     0.56156,     0.56256,     0.56356,     0.56456,     0.56557,     0.56657,     0.56757,     0.56857,     0.56957,     0.57057,     0.57157,     0.57257,     0.57357,     0.57457,     0.57558,\n",
              "           0.57658,     0.57758,     0.57858,     0.57958,     0.58058,     0.58158,     0.58258,     0.58358,     0.58458,     0.58559,     0.58659,     0.58759,     0.58859,     0.58959,     0.59059,     0.59159,     0.59259,     0.59359,     0.59459,      0.5956,      0.5966,      0.5976,      0.5986,      0.5996,\n",
              "            0.6006,      0.6016,      0.6026,      0.6036,      0.6046,     0.60561,     0.60661,     0.60761,     0.60861,     0.60961,     0.61061,     0.61161,     0.61261,     0.61361,     0.61461,     0.61562,     0.61662,     0.61762,     0.61862,     0.61962,     0.62062,     0.62162,     0.62262,     0.62362,\n",
              "           0.62462,     0.62563,     0.62663,     0.62763,     0.62863,     0.62963,     0.63063,     0.63163,     0.63263,     0.63363,     0.63463,     0.63564,     0.63664,     0.63764,     0.63864,     0.63964,     0.64064,     0.64164,     0.64264,     0.64364,     0.64464,     0.64565,     0.64665,     0.64765,\n",
              "           0.64865,     0.64965,     0.65065,     0.65165,     0.65265,     0.65365,     0.65465,     0.65566,     0.65666,     0.65766,     0.65866,     0.65966,     0.66066,     0.66166,     0.66266,     0.66366,     0.66466,     0.66567,     0.66667,     0.66767,     0.66867,     0.66967,     0.67067,     0.67167,\n",
              "           0.67267,     0.67367,     0.67467,     0.67568,     0.67668,     0.67768,     0.67868,     0.67968,     0.68068,     0.68168,     0.68268,     0.68368,     0.68468,     0.68569,     0.68669,     0.68769,     0.68869,     0.68969,     0.69069,     0.69169,     0.69269,     0.69369,     0.69469,      0.6957,\n",
              "            0.6967,      0.6977,      0.6987,      0.6997,      0.7007,      0.7017,      0.7027,      0.7037,      0.7047,     0.70571,     0.70671,     0.70771,     0.70871,     0.70971,     0.71071,     0.71171,     0.71271,     0.71371,     0.71471,     0.71572,     0.71672,     0.71772,     0.71872,     0.71972,\n",
              "           0.72072,     0.72172,     0.72272,     0.72372,     0.72472,     0.72573,     0.72673,     0.72773,     0.72873,     0.72973,     0.73073,     0.73173,     0.73273,     0.73373,     0.73473,     0.73574,     0.73674,     0.73774,     0.73874,     0.73974,     0.74074,     0.74174,     0.74274,     0.74374,\n",
              "           0.74474,     0.74575,     0.74675,     0.74775,     0.74875,     0.74975,     0.75075,     0.75175,     0.75275,     0.75375,     0.75475,     0.75576,     0.75676,     0.75776,     0.75876,     0.75976,     0.76076,     0.76176,     0.76276,     0.76376,     0.76476,     0.76577,     0.76677,     0.76777,\n",
              "           0.76877,     0.76977,     0.77077,     0.77177,     0.77277,     0.77377,     0.77477,     0.77578,     0.77678,     0.77778,     0.77878,     0.77978,     0.78078,     0.78178,     0.78278,     0.78378,     0.78478,     0.78579,     0.78679,     0.78779,     0.78879,     0.78979,     0.79079,     0.79179,\n",
              "           0.79279,     0.79379,     0.79479,      0.7958,      0.7968,      0.7978,      0.7988,      0.7998,      0.8008,      0.8018,      0.8028,      0.8038,      0.8048,     0.80581,     0.80681,     0.80781,     0.80881,     0.80981,     0.81081,     0.81181,     0.81281,     0.81381,     0.81481,     0.81582,\n",
              "           0.81682,     0.81782,     0.81882,     0.81982,     0.82082,     0.82182,     0.82282,     0.82382,     0.82482,     0.82583,     0.82683,     0.82783,     0.82883,     0.82983,     0.83083,     0.83183,     0.83283,     0.83383,     0.83483,     0.83584,     0.83684,     0.83784,     0.83884,     0.83984,\n",
              "           0.84084,     0.84184,     0.84284,     0.84384,     0.84484,     0.84585,     0.84685,     0.84785,     0.84885,     0.84985,     0.85085,     0.85185,     0.85285,     0.85385,     0.85485,     0.85586,     0.85686,     0.85786,     0.85886,     0.85986,     0.86086,     0.86186,     0.86286,     0.86386,\n",
              "           0.86486,     0.86587,     0.86687,     0.86787,     0.86887,     0.86987,     0.87087,     0.87187,     0.87287,     0.87387,     0.87487,     0.87588,     0.87688,     0.87788,     0.87888,     0.87988,     0.88088,     0.88188,     0.88288,     0.88388,     0.88488,     0.88589,     0.88689,     0.88789,\n",
              "           0.88889,     0.88989,     0.89089,     0.89189,     0.89289,     0.89389,     0.89489,      0.8959,      0.8969,      0.8979,      0.8989,      0.8999,      0.9009,      0.9019,      0.9029,      0.9039,      0.9049,     0.90591,     0.90691,     0.90791,     0.90891,     0.90991,     0.91091,     0.91191,\n",
              "           0.91291,     0.91391,     0.91491,     0.91592,     0.91692,     0.91792,     0.91892,     0.91992,     0.92092,     0.92192,     0.92292,     0.92392,     0.92492,     0.92593,     0.92693,     0.92793,     0.92893,     0.92993,     0.93093,     0.93193,     0.93293,     0.93393,     0.93493,     0.93594,\n",
              "           0.93694,     0.93794,     0.93894,     0.93994,     0.94094,     0.94194,     0.94294,     0.94394,     0.94494,     0.94595,     0.94695,     0.94795,     0.94895,     0.94995,     0.95095,     0.95195,     0.95295,     0.95395,     0.95495,     0.95596,     0.95696,     0.95796,     0.95896,     0.95996,\n",
              "           0.96096,     0.96196,     0.96296,     0.96396,     0.96496,     0.96597,     0.96697,     0.96797,     0.96897,     0.96997,     0.97097,     0.97197,     0.97297,     0.97397,     0.97497,     0.97598,     0.97698,     0.97798,     0.97898,     0.97998,     0.98098,     0.98198,     0.98298,     0.98398,\n",
              "           0.98498,     0.98599,     0.98699,     0.98799,     0.98899,     0.98999,     0.99099,     0.99199,     0.99299,     0.99399,     0.99499,       0.996,       0.997,       0.998,       0.999,           1]), array([[    0.14286,     0.14286,     0.14286, ...,           1,           1,           1],\n",
              "       [    0.15789,     0.15789,     0.22386, ...,           1,           1,           1],\n",
              "       [     0.2931,      0.2931,     0.34303, ...,           1,           1,           1],\n",
              "       ...,\n",
              "       [          0,           0,           0, ...,           1,           1,           1],\n",
              "       [       0.25,        0.25,     0.25058, ...,           1,           1,           1],\n",
              "       [       0.04,        0.04,    0.065753, ...,           1,           1,           1]]), 'Confidence', 'Precision'], [array([          0,    0.001001,    0.002002,    0.003003,    0.004004,    0.005005,    0.006006,    0.007007,    0.008008,    0.009009,     0.01001,    0.011011,    0.012012,    0.013013,    0.014014,    0.015015,    0.016016,    0.017017,    0.018018,    0.019019,     0.02002,    0.021021,    0.022022,    0.023023,\n",
              "          0.024024,    0.025025,    0.026026,    0.027027,    0.028028,    0.029029,     0.03003,    0.031031,    0.032032,    0.033033,    0.034034,    0.035035,    0.036036,    0.037037,    0.038038,    0.039039,     0.04004,    0.041041,    0.042042,    0.043043,    0.044044,    0.045045,    0.046046,    0.047047,\n",
              "          0.048048,    0.049049,     0.05005,    0.051051,    0.052052,    0.053053,    0.054054,    0.055055,    0.056056,    0.057057,    0.058058,    0.059059,     0.06006,    0.061061,    0.062062,    0.063063,    0.064064,    0.065065,    0.066066,    0.067067,    0.068068,    0.069069,     0.07007,    0.071071,\n",
              "          0.072072,    0.073073,    0.074074,    0.075075,    0.076076,    0.077077,    0.078078,    0.079079,     0.08008,    0.081081,    0.082082,    0.083083,    0.084084,    0.085085,    0.086086,    0.087087,    0.088088,    0.089089,     0.09009,    0.091091,    0.092092,    0.093093,    0.094094,    0.095095,\n",
              "          0.096096,    0.097097,    0.098098,    0.099099,      0.1001,      0.1011,      0.1021,      0.1031,      0.1041,     0.10511,     0.10611,     0.10711,     0.10811,     0.10911,     0.11011,     0.11111,     0.11211,     0.11311,     0.11411,     0.11512,     0.11612,     0.11712,     0.11812,     0.11912,\n",
              "           0.12012,     0.12112,     0.12212,     0.12312,     0.12412,     0.12513,     0.12613,     0.12713,     0.12813,     0.12913,     0.13013,     0.13113,     0.13213,     0.13313,     0.13413,     0.13514,     0.13614,     0.13714,     0.13814,     0.13914,     0.14014,     0.14114,     0.14214,     0.14314,\n",
              "           0.14414,     0.14515,     0.14615,     0.14715,     0.14815,     0.14915,     0.15015,     0.15115,     0.15215,     0.15315,     0.15415,     0.15516,     0.15616,     0.15716,     0.15816,     0.15916,     0.16016,     0.16116,     0.16216,     0.16316,     0.16416,     0.16517,     0.16617,     0.16717,\n",
              "           0.16817,     0.16917,     0.17017,     0.17117,     0.17217,     0.17317,     0.17417,     0.17518,     0.17618,     0.17718,     0.17818,     0.17918,     0.18018,     0.18118,     0.18218,     0.18318,     0.18418,     0.18519,     0.18619,     0.18719,     0.18819,     0.18919,     0.19019,     0.19119,\n",
              "           0.19219,     0.19319,     0.19419,      0.1952,      0.1962,      0.1972,      0.1982,      0.1992,      0.2002,      0.2012,      0.2022,      0.2032,      0.2042,     0.20521,     0.20621,     0.20721,     0.20821,     0.20921,     0.21021,     0.21121,     0.21221,     0.21321,     0.21421,     0.21522,\n",
              "           0.21622,     0.21722,     0.21822,     0.21922,     0.22022,     0.22122,     0.22222,     0.22322,     0.22422,     0.22523,     0.22623,     0.22723,     0.22823,     0.22923,     0.23023,     0.23123,     0.23223,     0.23323,     0.23423,     0.23524,     0.23624,     0.23724,     0.23824,     0.23924,\n",
              "           0.24024,     0.24124,     0.24224,     0.24324,     0.24424,     0.24525,     0.24625,     0.24725,     0.24825,     0.24925,     0.25025,     0.25125,     0.25225,     0.25325,     0.25425,     0.25526,     0.25626,     0.25726,     0.25826,     0.25926,     0.26026,     0.26126,     0.26226,     0.26326,\n",
              "           0.26426,     0.26527,     0.26627,     0.26727,     0.26827,     0.26927,     0.27027,     0.27127,     0.27227,     0.27327,     0.27427,     0.27528,     0.27628,     0.27728,     0.27828,     0.27928,     0.28028,     0.28128,     0.28228,     0.28328,     0.28428,     0.28529,     0.28629,     0.28729,\n",
              "           0.28829,     0.28929,     0.29029,     0.29129,     0.29229,     0.29329,     0.29429,      0.2953,      0.2963,      0.2973,      0.2983,      0.2993,      0.3003,      0.3013,      0.3023,      0.3033,      0.3043,     0.30531,     0.30631,     0.30731,     0.30831,     0.30931,     0.31031,     0.31131,\n",
              "           0.31231,     0.31331,     0.31431,     0.31532,     0.31632,     0.31732,     0.31832,     0.31932,     0.32032,     0.32132,     0.32232,     0.32332,     0.32432,     0.32533,     0.32633,     0.32733,     0.32833,     0.32933,     0.33033,     0.33133,     0.33233,     0.33333,     0.33433,     0.33534,\n",
              "           0.33634,     0.33734,     0.33834,     0.33934,     0.34034,     0.34134,     0.34234,     0.34334,     0.34434,     0.34535,     0.34635,     0.34735,     0.34835,     0.34935,     0.35035,     0.35135,     0.35235,     0.35335,     0.35435,     0.35536,     0.35636,     0.35736,     0.35836,     0.35936,\n",
              "           0.36036,     0.36136,     0.36236,     0.36336,     0.36436,     0.36537,     0.36637,     0.36737,     0.36837,     0.36937,     0.37037,     0.37137,     0.37237,     0.37337,     0.37437,     0.37538,     0.37638,     0.37738,     0.37838,     0.37938,     0.38038,     0.38138,     0.38238,     0.38338,\n",
              "           0.38438,     0.38539,     0.38639,     0.38739,     0.38839,     0.38939,     0.39039,     0.39139,     0.39239,     0.39339,     0.39439,      0.3954,      0.3964,      0.3974,      0.3984,      0.3994,      0.4004,      0.4014,      0.4024,      0.4034,      0.4044,     0.40541,     0.40641,     0.40741,\n",
              "           0.40841,     0.40941,     0.41041,     0.41141,     0.41241,     0.41341,     0.41441,     0.41542,     0.41642,     0.41742,     0.41842,     0.41942,     0.42042,     0.42142,     0.42242,     0.42342,     0.42442,     0.42543,     0.42643,     0.42743,     0.42843,     0.42943,     0.43043,     0.43143,\n",
              "           0.43243,     0.43343,     0.43443,     0.43544,     0.43644,     0.43744,     0.43844,     0.43944,     0.44044,     0.44144,     0.44244,     0.44344,     0.44444,     0.44545,     0.44645,     0.44745,     0.44845,     0.44945,     0.45045,     0.45145,     0.45245,     0.45345,     0.45445,     0.45546,\n",
              "           0.45646,     0.45746,     0.45846,     0.45946,     0.46046,     0.46146,     0.46246,     0.46346,     0.46446,     0.46547,     0.46647,     0.46747,     0.46847,     0.46947,     0.47047,     0.47147,     0.47247,     0.47347,     0.47447,     0.47548,     0.47648,     0.47748,     0.47848,     0.47948,\n",
              "           0.48048,     0.48148,     0.48248,     0.48348,     0.48448,     0.48549,     0.48649,     0.48749,     0.48849,     0.48949,     0.49049,     0.49149,     0.49249,     0.49349,     0.49449,      0.4955,      0.4965,      0.4975,      0.4985,      0.4995,      0.5005,      0.5015,      0.5025,      0.5035,\n",
              "            0.5045,     0.50551,     0.50651,     0.50751,     0.50851,     0.50951,     0.51051,     0.51151,     0.51251,     0.51351,     0.51451,     0.51552,     0.51652,     0.51752,     0.51852,     0.51952,     0.52052,     0.52152,     0.52252,     0.52352,     0.52452,     0.52553,     0.52653,     0.52753,\n",
              "           0.52853,     0.52953,     0.53053,     0.53153,     0.53253,     0.53353,     0.53453,     0.53554,     0.53654,     0.53754,     0.53854,     0.53954,     0.54054,     0.54154,     0.54254,     0.54354,     0.54454,     0.54555,     0.54655,     0.54755,     0.54855,     0.54955,     0.55055,     0.55155,\n",
              "           0.55255,     0.55355,     0.55455,     0.55556,     0.55656,     0.55756,     0.55856,     0.55956,     0.56056,     0.56156,     0.56256,     0.56356,     0.56456,     0.56557,     0.56657,     0.56757,     0.56857,     0.56957,     0.57057,     0.57157,     0.57257,     0.57357,     0.57457,     0.57558,\n",
              "           0.57658,     0.57758,     0.57858,     0.57958,     0.58058,     0.58158,     0.58258,     0.58358,     0.58458,     0.58559,     0.58659,     0.58759,     0.58859,     0.58959,     0.59059,     0.59159,     0.59259,     0.59359,     0.59459,      0.5956,      0.5966,      0.5976,      0.5986,      0.5996,\n",
              "            0.6006,      0.6016,      0.6026,      0.6036,      0.6046,     0.60561,     0.60661,     0.60761,     0.60861,     0.60961,     0.61061,     0.61161,     0.61261,     0.61361,     0.61461,     0.61562,     0.61662,     0.61762,     0.61862,     0.61962,     0.62062,     0.62162,     0.62262,     0.62362,\n",
              "           0.62462,     0.62563,     0.62663,     0.62763,     0.62863,     0.62963,     0.63063,     0.63163,     0.63263,     0.63363,     0.63463,     0.63564,     0.63664,     0.63764,     0.63864,     0.63964,     0.64064,     0.64164,     0.64264,     0.64364,     0.64464,     0.64565,     0.64665,     0.64765,\n",
              "           0.64865,     0.64965,     0.65065,     0.65165,     0.65265,     0.65365,     0.65465,     0.65566,     0.65666,     0.65766,     0.65866,     0.65966,     0.66066,     0.66166,     0.66266,     0.66366,     0.66466,     0.66567,     0.66667,     0.66767,     0.66867,     0.66967,     0.67067,     0.67167,\n",
              "           0.67267,     0.67367,     0.67467,     0.67568,     0.67668,     0.67768,     0.67868,     0.67968,     0.68068,     0.68168,     0.68268,     0.68368,     0.68468,     0.68569,     0.68669,     0.68769,     0.68869,     0.68969,     0.69069,     0.69169,     0.69269,     0.69369,     0.69469,      0.6957,\n",
              "            0.6967,      0.6977,      0.6987,      0.6997,      0.7007,      0.7017,      0.7027,      0.7037,      0.7047,     0.70571,     0.70671,     0.70771,     0.70871,     0.70971,     0.71071,     0.71171,     0.71271,     0.71371,     0.71471,     0.71572,     0.71672,     0.71772,     0.71872,     0.71972,\n",
              "           0.72072,     0.72172,     0.72272,     0.72372,     0.72472,     0.72573,     0.72673,     0.72773,     0.72873,     0.72973,     0.73073,     0.73173,     0.73273,     0.73373,     0.73473,     0.73574,     0.73674,     0.73774,     0.73874,     0.73974,     0.74074,     0.74174,     0.74274,     0.74374,\n",
              "           0.74474,     0.74575,     0.74675,     0.74775,     0.74875,     0.74975,     0.75075,     0.75175,     0.75275,     0.75375,     0.75475,     0.75576,     0.75676,     0.75776,     0.75876,     0.75976,     0.76076,     0.76176,     0.76276,     0.76376,     0.76476,     0.76577,     0.76677,     0.76777,\n",
              "           0.76877,     0.76977,     0.77077,     0.77177,     0.77277,     0.77377,     0.77477,     0.77578,     0.77678,     0.77778,     0.77878,     0.77978,     0.78078,     0.78178,     0.78278,     0.78378,     0.78478,     0.78579,     0.78679,     0.78779,     0.78879,     0.78979,     0.79079,     0.79179,\n",
              "           0.79279,     0.79379,     0.79479,      0.7958,      0.7968,      0.7978,      0.7988,      0.7998,      0.8008,      0.8018,      0.8028,      0.8038,      0.8048,     0.80581,     0.80681,     0.80781,     0.80881,     0.80981,     0.81081,     0.81181,     0.81281,     0.81381,     0.81481,     0.81582,\n",
              "           0.81682,     0.81782,     0.81882,     0.81982,     0.82082,     0.82182,     0.82282,     0.82382,     0.82482,     0.82583,     0.82683,     0.82783,     0.82883,     0.82983,     0.83083,     0.83183,     0.83283,     0.83383,     0.83483,     0.83584,     0.83684,     0.83784,     0.83884,     0.83984,\n",
              "           0.84084,     0.84184,     0.84284,     0.84384,     0.84484,     0.84585,     0.84685,     0.84785,     0.84885,     0.84985,     0.85085,     0.85185,     0.85285,     0.85385,     0.85485,     0.85586,     0.85686,     0.85786,     0.85886,     0.85986,     0.86086,     0.86186,     0.86286,     0.86386,\n",
              "           0.86486,     0.86587,     0.86687,     0.86787,     0.86887,     0.86987,     0.87087,     0.87187,     0.87287,     0.87387,     0.87487,     0.87588,     0.87688,     0.87788,     0.87888,     0.87988,     0.88088,     0.88188,     0.88288,     0.88388,     0.88488,     0.88589,     0.88689,     0.88789,\n",
              "           0.88889,     0.88989,     0.89089,     0.89189,     0.89289,     0.89389,     0.89489,      0.8959,      0.8969,      0.8979,      0.8989,      0.8999,      0.9009,      0.9019,      0.9029,      0.9039,      0.9049,     0.90591,     0.90691,     0.90791,     0.90891,     0.90991,     0.91091,     0.91191,\n",
              "           0.91291,     0.91391,     0.91491,     0.91592,     0.91692,     0.91792,     0.91892,     0.91992,     0.92092,     0.92192,     0.92292,     0.92392,     0.92492,     0.92593,     0.92693,     0.92793,     0.92893,     0.92993,     0.93093,     0.93193,     0.93293,     0.93393,     0.93493,     0.93594,\n",
              "           0.93694,     0.93794,     0.93894,     0.93994,     0.94094,     0.94194,     0.94294,     0.94394,     0.94494,     0.94595,     0.94695,     0.94795,     0.94895,     0.94995,     0.95095,     0.95195,     0.95295,     0.95395,     0.95495,     0.95596,     0.95696,     0.95796,     0.95896,     0.95996,\n",
              "           0.96096,     0.96196,     0.96296,     0.96396,     0.96496,     0.96597,     0.96697,     0.96797,     0.96897,     0.96997,     0.97097,     0.97197,     0.97297,     0.97397,     0.97497,     0.97598,     0.97698,     0.97798,     0.97898,     0.97998,     0.98098,     0.98198,     0.98298,     0.98398,\n",
              "           0.98498,     0.98599,     0.98699,     0.98799,     0.98899,     0.98999,     0.99099,     0.99199,     0.99299,     0.99399,     0.99499,       0.996,       0.997,       0.998,       0.999,           1]), array([[          1,           1,           1, ...,           0,           0,           0],\n",
              "       [       0.75,        0.75,        0.75, ...,           0,           0,           0],\n",
              "       [    0.89474,     0.89474,     0.89474, ...,           0,           0,           0],\n",
              "       ...,\n",
              "       [          0,           0,           0, ...,           0,           0,           0],\n",
              "       [          1,           1,           1, ...,           0,           0,           0],\n",
              "       [          1,           1,           1, ...,           0,           0,           0]]), 'Confidence', 'Recall']]\n",
              "fitness: 0.28688605116502885\n",
              "keys: ['metrics/precision(B)', 'metrics/recall(B)', 'metrics/mAP50(B)', 'metrics/mAP50-95(B)']\n",
              "maps: array([     0.8955,      0.6023,     0.27321,     0.27321,     0.47388,     0.21075,     0.27321,     0.27443,      0.3374,    0.029825,     0.20988,    0.036182,     0.27321,           0,           0,     0.16716,           0,     0.38316,     0.15314,     0.27321,     0.27321,           0,     0.27321,      0.6965,\n",
              "           0.27321,     0.27321,     0.27321,     0.44775,     0.27321])\n",
              "names: {0: 'Aerosol can', 1: 'Aluminium foil', 2: 'Battery', 3: 'Blister pack', 4: 'Bottle', 5: 'Bottle cap', 6: 'Broken glass', 7: 'Can', 8: 'Carton', 9: 'Cigarette', 10: 'Cup', 11: 'Food waste', 12: 'Glass jar', 13: 'Lid', 14: 'Other plastic', 15: 'Paper', 16: 'Paper bag', 17: 'Plastic bag & wrapper', 18: 'Plastic container', 19: 'Plastic gloves', 20: 'Plastic utensils', 21: 'Pop tab', 22: 'Rope & strings', 23: 'Scrap metal', 24: 'Shoe', 25: 'Squeezable tube', 26: 'Straw', 27: 'Styrofoam piece', 28: 'Unlabeled litter'}\n",
              "plot: True\n",
              "results_dict: {'metrics/precision(B)': 0.5450836823716564, 'metrics/recall(B)': 0.4309334107108985, 'metrics/mAP50(B)': 0.4099379718109202, 'metrics/mAP50-95(B)': 0.27321361553770757, 'fitness': 0.28688605116502885}\n",
              "save_dir: PosixPath('runs/detect/train')\n",
              "speed: {'preprocess': 0.13183116912841797, 'inference': 4.532608985900879, 'loss': 0.0004863739013671875, 'postprocess': 0.8220195770263672}\n",
              "task: 'detect'"
            ]
          },
          "metadata": {},
          "execution_count": 5
        }
      ]
    },
    {
      "cell_type": "code",
      "source": [
        "# from ultralytics import YOLO\n",
        "\n",
        "# model = YOLO(\"/content/best.pt\")\n",
        "\n",
        "# model.predict(\n",
        "#     source=\"/content/drive/MyDrive/YOLOv11-litter-detec-folder/vecteezy_a-city-s-garbage_1803529.gif\",\n",
        "#     show = False,\n",
        "#     save = True,\n",
        "#     # conf = 0.6,\n",
        "#     line_width = 3,\n",
        "#     save_crop = False, # to crop and save only the litter img\n",
        "#     show_labels = True,\n",
        "#     show_conf = True,\n",
        "#     # classes = [0,1,2,3,4] # predict only the classes 0 upto 4\n",
        "\n",
        "# )\n",
        "\n",
        "\n",
        "import time\n",
        "import os\n",
        "import cv2\n",
        "from ultralytics import YOLO\n",
        "from sklearn.metrics import confusion_matrix, ConfusionMatrixDisplay\n",
        "import matplotlib.pyplot as plt\n",
        "\n",
        "# Initialize the YOLO model with the best weights\n",
        "model = YOLO(\"/content/runs/detect/train/weights/best.pt\")\n",
        "\n",
        "# Measure FPS for video inference\n",
        "video_path = \"/content/drive/MyDrive/YOLOv11-litter-detec-folder/vecteezy_a-city-s-garbage_1803529.gif\"\n",
        "cap = cv2.VideoCapture(video_path)\n",
        "\n",
        "start_time = time.time()\n",
        "frame_count = 0\n",
        "\n",
        "# Predict on each frame for FPS calculation\n",
        "while cap.isOpened():\n",
        "    ret, frame = cap.read()\n",
        "    if not ret:\n",
        "        break\n",
        "    model.predict(frame, show=False)\n",
        "    frame_count += 1\n",
        "\n",
        "end_time = time.time()\n",
        "cap.release()\n",
        "\n",
        "# Calculate FPS\n",
        "total_time = end_time - start_time\n",
        "fps = frame_count / total_time\n",
        "print(f\"FPS: {fps:.2f}\")\n",
        "\n",
        "# Generate Confusion Matrix\n",
        "true_labels = []\n",
        "predicted_labels = []\n",
        "\n",
        "# Read validation labels and store true labels per image\n",
        "val_labels_path = \"/content/drive/MyDrive/YOLOv11-litter-detec-folder/val/labels\"\n",
        "val_images_path = \"/content/drive/MyDrive/YOLOv11-litter-detec-folder/val/images\"\n",
        "\n",
        "# Loop through validation images and match predictions with true labels\n",
        "for image_file in os.listdir(val_images_path):\n",
        "    image_name = os.path.splitext(image_file)[0]  # Get image name without extension\n",
        "    label_file = os.path.join(val_labels_path, image_name + \".txt\")\n",
        "\n",
        "    # Read true labels for the current image\n",
        "    if os.path.exists(label_file):\n",
        "        with open(label_file, \"r\") as f:\n",
        "            true_classes = [int(line.split()[0]) for line in f.readlines()]\n",
        "    else:\n",
        "        true_classes = []  # No labels for this image\n",
        "\n",
        "    # Predict on the current image\n",
        "    image_path = os.path.join(val_images_path, image_file)\n",
        "    results = model.predict(source=image_path, show=False)\n",
        "    predicted_classes = [int(box.cls) for box in results[0].boxes]  # Predicted classes\n",
        "\n",
        "    # Align true and predicted labels by padding with -1 (no detection) if needed\n",
        "    max_len = max(len(true_classes), len(predicted_classes))\n",
        "    true_classes.extend([-1] * (max_len - len(true_classes)))  # Pad true labels\n",
        "    predicted_classes.extend([-1] * (max_len - len(predicted_classes)))  # Pad predicted labels\n",
        "\n",
        "    # Append the aligned labels\n",
        "    true_labels.extend(true_classes)\n",
        "    predicted_labels.extend(predicted_classes)\n",
        "\n",
        "# Compute and display the confusion matrix\n",
        "labels = list(range(29)) + [-1]  # Your 29 classes + \"No Detection\" class\n",
        "cm = confusion_matrix(true_labels, predicted_labels, labels=labels)\n",
        "disp = ConfusionMatrixDisplay(confusion_matrix=cm, display_labels=[\"Class \" + str(i) for i in range(29)] + [\"No Detection\"])\n",
        "disp.plot(cmap=plt.cm.Blues, xticks_rotation=\"vertical\")\n",
        "plt.title(\"Confusion Matrix\")\n",
        "plt.show()\n"
      ],
      "metadata": {
        "colab": {
          "base_uri": "https://localhost:8080/",
          "height": 1000
        },
        "id": "cPvayG-e2nCF",
        "outputId": "428e9ad8-c4b1-4025-9db9-36a6a0c33520"
      },
      "execution_count": null,
      "outputs": [
        {
          "output_type": "stream",
          "name": "stdout",
          "text": [
            "\n",
            "0: 288x640 2 Bottles, 1 Bottle cap, 1 Carton, 21.5ms\n",
            "Speed: 1.8ms preprocess, 21.5ms inference, 1.6ms postprocess per image at shape (1, 3, 288, 640)\n",
            "\n",
            "0: 288x640 2 Bottles, 1 Bottle cap, 1 Carton, 2 Plastic bag & wrappers, 19.1ms\n",
            "Speed: 1.7ms preprocess, 19.1ms inference, 1.4ms postprocess per image at shape (1, 3, 288, 640)\n",
            "\n",
            "0: 288x640 1 Bottle, 1 Carton, 2 Plastic bag & wrappers, 19.4ms\n",
            "Speed: 1.8ms preprocess, 19.4ms inference, 1.4ms postprocess per image at shape (1, 3, 288, 640)\n",
            "\n",
            "0: 288x640 1 Bottle, 1 Carton, 2 Plastic bag & wrappers, 19.1ms\n",
            "Speed: 1.9ms preprocess, 19.1ms inference, 1.3ms postprocess per image at shape (1, 3, 288, 640)\n",
            "\n",
            "0: 288x640 1 Bottle, 3 Plastic bag & wrappers, 19.1ms\n",
            "Speed: 1.9ms preprocess, 19.1ms inference, 1.4ms postprocess per image at shape (1, 3, 288, 640)\n",
            "\n",
            "0: 288x640 1 Bottle, 1 Carton, 2 Plastic bag & wrappers, 19.6ms\n",
            "Speed: 1.9ms preprocess, 19.6ms inference, 1.4ms postprocess per image at shape (1, 3, 288, 640)\n",
            "\n",
            "0: 288x640 1 Bottle, 1 Plastic bag & wrapper, 21.3ms\n",
            "Speed: 2.0ms preprocess, 21.3ms inference, 1.4ms postprocess per image at shape (1, 3, 288, 640)\n",
            "\n",
            "0: 288x640 1 Carton, 1 Plastic bag & wrapper, 19.4ms\n",
            "Speed: 1.8ms preprocess, 19.4ms inference, 1.4ms postprocess per image at shape (1, 3, 288, 640)\n",
            "\n",
            "0: 288x640 1 Bottle, 1 Bottle cap, 1 Carton, 2 Plastic bag & wrappers, 19.4ms\n",
            "Speed: 1.9ms preprocess, 19.4ms inference, 1.4ms postprocess per image at shape (1, 3, 288, 640)\n",
            "\n",
            "0: 288x640 1 Bottle, 1 Carton, 2 Plastic bag & wrappers, 19.5ms\n",
            "Speed: 1.9ms preprocess, 19.5ms inference, 1.4ms postprocess per image at shape (1, 3, 288, 640)\n",
            "\n",
            "0: 288x640 1 Bottle, 1 Carton, 19.6ms\n",
            "Speed: 1.8ms preprocess, 19.6ms inference, 1.4ms postprocess per image at shape (1, 3, 288, 640)\n",
            "\n",
            "0: 288x640 1 Bottle, 1 Bottle cap, 1 Carton, 19.4ms\n",
            "Speed: 2.1ms preprocess, 19.4ms inference, 1.5ms postprocess per image at shape (1, 3, 288, 640)\n",
            "\n",
            "0: 288x640 1 Bottle, 1 Bottle cap, 1 Carton, 1 Plastic bag & wrapper, 19.6ms\n",
            "Speed: 2.1ms preprocess, 19.6ms inference, 1.4ms postprocess per image at shape (1, 3, 288, 640)\n",
            "\n",
            "0: 288x640 1 Bottle, 1 Bottle cap, 1 Carton, 2 Plastic bag & wrappers, 19.8ms\n",
            "Speed: 1.9ms preprocess, 19.8ms inference, 1.4ms postprocess per image at shape (1, 3, 288, 640)\n",
            "\n",
            "0: 288x640 1 Bottle, 1 Bottle cap, 1 Carton, 19.5ms\n",
            "Speed: 1.8ms preprocess, 19.5ms inference, 1.4ms postprocess per image at shape (1, 3, 288, 640)\n",
            "\n",
            "0: 288x640 1 Bottle cap, 1 Carton, 1 Plastic bag & wrapper, 20.0ms\n",
            "Speed: 1.9ms preprocess, 20.0ms inference, 1.4ms postprocess per image at shape (1, 3, 288, 640)\n",
            "\n",
            "0: 288x640 1 Bottle cap, 1 Carton, 1 Plastic bag & wrapper, 19.5ms\n",
            "Speed: 1.7ms preprocess, 19.5ms inference, 1.4ms postprocess per image at shape (1, 3, 288, 640)\n",
            "\n",
            "0: 288x640 1 Bottle cap, 1 Carton, 1 Plastic bag & wrapper, 19.5ms\n",
            "Speed: 1.8ms preprocess, 19.5ms inference, 1.4ms postprocess per image at shape (1, 3, 288, 640)\n",
            "\n",
            "0: 288x640 1 Bottle cap, 1 Carton, 1 Plastic bag & wrapper, 19.4ms\n",
            "Speed: 1.9ms preprocess, 19.4ms inference, 1.4ms postprocess per image at shape (1, 3, 288, 640)\n",
            "\n",
            "0: 288x640 1 Bottle cap, 1 Carton, 1 Plastic bag & wrapper, 19.4ms\n",
            "Speed: 1.9ms preprocess, 19.4ms inference, 1.4ms postprocess per image at shape (1, 3, 288, 640)\n",
            "\n",
            "0: 288x640 1 Bottle cap, 1 Carton, 19.3ms\n",
            "Speed: 1.9ms preprocess, 19.3ms inference, 1.5ms postprocess per image at shape (1, 3, 288, 640)\n",
            "\n",
            "0: 288x640 1 Carton, 19.7ms\n",
            "Speed: 1.8ms preprocess, 19.7ms inference, 1.4ms postprocess per image at shape (1, 3, 288, 640)\n",
            "\n",
            "0: 288x640 1 Carton, 19.4ms\n",
            "Speed: 1.8ms preprocess, 19.4ms inference, 1.4ms postprocess per image at shape (1, 3, 288, 640)\n",
            "\n",
            "0: 288x640 1 Bottle cap, 1 Carton, 19.7ms\n",
            "Speed: 2.1ms preprocess, 19.7ms inference, 1.4ms postprocess per image at shape (1, 3, 288, 640)\n",
            "\n",
            "0: 288x640 1 Carton, 1 Plastic bag & wrapper, 21.4ms\n",
            "Speed: 1.8ms preprocess, 21.4ms inference, 1.5ms postprocess per image at shape (1, 3, 288, 640)\n",
            "\n",
            "0: 288x640 1 Carton, 2 Plastic bag & wrappers, 19.8ms\n",
            "Speed: 1.8ms preprocess, 19.8ms inference, 1.4ms postprocess per image at shape (1, 3, 288, 640)\n",
            "\n",
            "0: 288x640 1 Bottle, 1 Bottle cap, 1 Carton, 1 Plastic bag & wrapper, 21.6ms\n",
            "Speed: 2.2ms preprocess, 21.6ms inference, 1.5ms postprocess per image at shape (1, 3, 288, 640)\n",
            "\n",
            "0: 288x640 1 Bottle, 1 Bottle cap, 1 Carton, 19.5ms\n",
            "Speed: 1.9ms preprocess, 19.5ms inference, 1.4ms postprocess per image at shape (1, 3, 288, 640)\n",
            "\n",
            "0: 288x640 1 Plastic bag & wrapper, 20.1ms\n",
            "Speed: 2.0ms preprocess, 20.1ms inference, 1.4ms postprocess per image at shape (1, 3, 288, 640)\n",
            "\n",
            "0: 288x640 1 Bottle, 1 Bottle cap, 2 Plastic bag & wrappers, 22.5ms\n",
            "Speed: 1.9ms preprocess, 22.5ms inference, 1.5ms postprocess per image at shape (1, 3, 288, 640)\n",
            "\n",
            "0: 288x640 1 Bottle cap, 1 Plastic bag & wrapper, 20.3ms\n",
            "Speed: 1.8ms preprocess, 20.3ms inference, 1.4ms postprocess per image at shape (1, 3, 288, 640)\n",
            "\n",
            "0: 288x640 1 Bottle cap, 1 Carton, 1 Plastic bag & wrapper, 21.6ms\n",
            "Speed: 2.4ms preprocess, 21.6ms inference, 1.5ms postprocess per image at shape (1, 3, 288, 640)\n",
            "\n",
            "0: 288x640 1 Bottle cap, 2 Plastic bag & wrappers, 21.0ms\n",
            "Speed: 1.9ms preprocess, 21.0ms inference, 1.5ms postprocess per image at shape (1, 3, 288, 640)\n",
            "\n",
            "0: 288x640 1 Bottle, 1 Bottle cap, 3 Plastic bag & wrappers, 21.1ms\n",
            "Speed: 1.9ms preprocess, 21.1ms inference, 1.5ms postprocess per image at shape (1, 3, 288, 640)\n",
            "\n",
            "0: 288x640 1 Bottle, 1 Bottle cap, 3 Plastic bag & wrappers, 20.1ms\n",
            "Speed: 2.1ms preprocess, 20.1ms inference, 1.9ms postprocess per image at shape (1, 3, 288, 640)\n",
            "\n",
            "0: 288x640 2 Bottles, 1 Carton, 1 Plastic bag & wrapper, 19.6ms\n",
            "Speed: 1.9ms preprocess, 19.6ms inference, 1.4ms postprocess per image at shape (1, 3, 288, 640)\n",
            "\n",
            "0: 288x640 1 Bottle, 1 Bottle cap, 1 Carton, 2 Plastic bag & wrappers, 20.1ms\n",
            "Speed: 1.9ms preprocess, 20.1ms inference, 1.5ms postprocess per image at shape (1, 3, 288, 640)\n",
            "\n",
            "0: 288x640 1 Bottle cap, 1 Carton, 2 Plastic bag & wrappers, 20.2ms\n",
            "Speed: 1.9ms preprocess, 20.2ms inference, 1.7ms postprocess per image at shape (1, 3, 288, 640)\n",
            "\n",
            "0: 288x640 1 Bottle cap, 1 Can, 1 Carton, 1 Plastic bag & wrapper, 20.2ms\n",
            "Speed: 1.8ms preprocess, 20.2ms inference, 1.4ms postprocess per image at shape (1, 3, 288, 640)\n",
            "\n",
            "0: 288x640 1 Can, 1 Carton, 2 Plastic bag & wrappers, 19.8ms\n",
            "Speed: 2.0ms preprocess, 19.8ms inference, 1.5ms postprocess per image at shape (1, 3, 288, 640)\n",
            "\n",
            "0: 288x640 1 Bottle, 1 Plastic bag & wrapper, 20.4ms\n",
            "Speed: 2.0ms preprocess, 20.4ms inference, 1.4ms postprocess per image at shape (1, 3, 288, 640)\n",
            "\n",
            "0: 288x640 1 Bottle, 2 Plastic bag & wrappers, 19.8ms\n",
            "Speed: 1.8ms preprocess, 19.8ms inference, 1.4ms postprocess per image at shape (1, 3, 288, 640)\n",
            "\n",
            "0: 288x640 1 Bottle cap, 1 Carton, 1 Plastic bag & wrapper, 22.8ms\n",
            "Speed: 1.7ms preprocess, 22.8ms inference, 1.4ms postprocess per image at shape (1, 3, 288, 640)\n",
            "\n",
            "0: 288x640 1 Plastic bag & wrapper, 21.6ms\n",
            "Speed: 2.1ms preprocess, 21.6ms inference, 1.5ms postprocess per image at shape (1, 3, 288, 640)\n",
            "\n",
            "0: 288x640 1 Plastic bag & wrapper, 22.4ms\n",
            "Speed: 1.9ms preprocess, 22.4ms inference, 1.4ms postprocess per image at shape (1, 3, 288, 640)\n",
            "\n",
            "0: 288x640 1 Can, 1 Carton, 20.4ms\n",
            "Speed: 2.2ms preprocess, 20.4ms inference, 1.4ms postprocess per image at shape (1, 3, 288, 640)\n",
            "\n",
            "0: 288x640 1 Can, 1 Carton, 20.4ms\n",
            "Speed: 1.8ms preprocess, 20.4ms inference, 1.5ms postprocess per image at shape (1, 3, 288, 640)\n",
            "\n",
            "0: 288x640 1 Bottle, 1 Bottle cap, 1 Plastic bag & wrapper, 21.2ms\n",
            "Speed: 1.8ms preprocess, 21.2ms inference, 1.5ms postprocess per image at shape (1, 3, 288, 640)\n",
            "\n",
            "0: 288x640 1 Bottle cap, 1 Carton, 19.9ms\n",
            "Speed: 1.7ms preprocess, 19.9ms inference, 1.4ms postprocess per image at shape (1, 3, 288, 640)\n",
            "\n",
            "0: 288x640 1 Bottle cap, 1 Can, 1 Carton, 3 Plastic bag & wrappers, 19.5ms\n",
            "Speed: 2.0ms preprocess, 19.5ms inference, 1.5ms postprocess per image at shape (1, 3, 288, 640)\n",
            "\n",
            "0: 288x640 1 Bottle cap, 2 Plastic bag & wrappers, 25.4ms\n",
            "Speed: 1.9ms preprocess, 25.4ms inference, 1.4ms postprocess per image at shape (1, 3, 288, 640)\n",
            "\n",
            "0: 288x640 1 Bottle cap, 1 Carton, 20.1ms\n",
            "Speed: 1.8ms preprocess, 20.1ms inference, 1.4ms postprocess per image at shape (1, 3, 288, 640)\n",
            "\n",
            "0: 288x640 1 Bottle cap, 1 Carton, 19.7ms\n",
            "Speed: 2.0ms preprocess, 19.7ms inference, 1.4ms postprocess per image at shape (1, 3, 288, 640)\n",
            "\n",
            "0: 288x640 1 Bottle, 1 Bottle cap, 1 Carton, 2 Plastic bag & wrappers, 20.0ms\n",
            "Speed: 2.0ms preprocess, 20.0ms inference, 1.4ms postprocess per image at shape (1, 3, 288, 640)\n",
            "\n",
            "0: 288x640 1 Bottle cap, 2 Plastic bag & wrappers, 20.3ms\n",
            "Speed: 1.8ms preprocess, 20.3ms inference, 1.4ms postprocess per image at shape (1, 3, 288, 640)\n",
            "\n",
            "0: 288x640 1 Bottle cap, 3 Plastic bag & wrappers, 19.8ms\n",
            "Speed: 1.7ms preprocess, 19.8ms inference, 1.4ms postprocess per image at shape (1, 3, 288, 640)\n",
            "\n",
            "0: 288x640 1 Bottle, 1 Bottle cap, 1 Can, 2 Plastic bag & wrappers, 20.2ms\n",
            "Speed: 1.8ms preprocess, 20.2ms inference, 1.4ms postprocess per image at shape (1, 3, 288, 640)\n",
            "\n",
            "0: 288x640 1 Bottle cap, 2 Plastic bag & wrappers, 20.3ms\n",
            "Speed: 2.1ms preprocess, 20.3ms inference, 1.4ms postprocess per image at shape (1, 3, 288, 640)\n",
            "\n",
            "0: 288x640 1 Bottle, 1 Carton, 1 Plastic bag & wrapper, 19.3ms\n",
            "Speed: 2.1ms preprocess, 19.3ms inference, 1.4ms postprocess per image at shape (1, 3, 288, 640)\n",
            "\n",
            "0: 288x640 1 Bottle, 2 Plastic bag & wrappers, 21.4ms\n",
            "Speed: 1.9ms preprocess, 21.4ms inference, 1.4ms postprocess per image at shape (1, 3, 288, 640)\n",
            "\n",
            "0: 288x640 1 Bottle, 1 Plastic bag & wrapper, 20.1ms\n",
            "Speed: 1.8ms preprocess, 20.1ms inference, 1.4ms postprocess per image at shape (1, 3, 288, 640)\n",
            "\n",
            "0: 288x640 1 Bottle, 1 Carton, 1 Plastic bag & wrapper, 20.1ms\n",
            "Speed: 1.7ms preprocess, 20.1ms inference, 1.4ms postprocess per image at shape (1, 3, 288, 640)\n",
            "\n",
            "0: 288x640 1 Bottle, 1 Bottle cap, 1 Plastic bag & wrapper, 19.5ms\n",
            "Speed: 2.0ms preprocess, 19.5ms inference, 1.4ms postprocess per image at shape (1, 3, 288, 640)\n",
            "\n",
            "0: 288x640 1 Bottle, 1 Bottle cap, 2 Plastic bag & wrappers, 19.7ms\n",
            "Speed: 1.8ms preprocess, 19.7ms inference, 1.4ms postprocess per image at shape (1, 3, 288, 640)\n",
            "\n",
            "0: 288x640 1 Bottle, 1 Bottle cap, 1 Carton, 3 Plastic bag & wrappers, 20.5ms\n",
            "Speed: 1.9ms preprocess, 20.5ms inference, 1.4ms postprocess per image at shape (1, 3, 288, 640)\n",
            "\n",
            "0: 288x640 1 Bottle, 1 Bottle cap, 3 Plastic bag & wrappers, 19.4ms\n",
            "Speed: 2.0ms preprocess, 19.4ms inference, 1.4ms postprocess per image at shape (1, 3, 288, 640)\n",
            "\n",
            "0: 288x640 1 Bottle, 1 Bottle cap, 3 Plastic bag & wrappers, 23.0ms\n",
            "Speed: 1.9ms preprocess, 23.0ms inference, 1.7ms postprocess per image at shape (1, 3, 288, 640)\n",
            "\n",
            "0: 288x640 1 Bottle cap, 1 Carton, 3 Plastic bag & wrappers, 20.1ms\n",
            "Speed: 1.9ms preprocess, 20.1ms inference, 1.4ms postprocess per image at shape (1, 3, 288, 640)\n",
            "\n",
            "0: 288x640 1 Bottle, 1 Carton, 3 Plastic bag & wrappers, 20.8ms\n",
            "Speed: 2.3ms preprocess, 20.8ms inference, 1.5ms postprocess per image at shape (1, 3, 288, 640)\n",
            "\n",
            "0: 288x640 1 Bottle, 1 Bottle cap, 1 Carton, 1 Plastic bag & wrapper, 19.7ms\n",
            "Speed: 1.8ms preprocess, 19.7ms inference, 1.4ms postprocess per image at shape (1, 3, 288, 640)\n",
            "\n",
            "0: 288x640 1 Bottle, 3 Plastic bag & wrappers, 20.2ms\n",
            "Speed: 1.8ms preprocess, 20.2ms inference, 1.4ms postprocess per image at shape (1, 3, 288, 640)\n",
            "\n",
            "0: 288x640 3 Plastic bag & wrappers, 19.4ms\n",
            "Speed: 2.0ms preprocess, 19.4ms inference, 1.4ms postprocess per image at shape (1, 3, 288, 640)\n",
            "\n",
            "0: 288x640 1 Bottle cap, 3 Plastic bag & wrappers, 20.0ms\n",
            "Speed: 1.7ms preprocess, 20.0ms inference, 1.4ms postprocess per image at shape (1, 3, 288, 640)\n",
            "\n",
            "0: 288x640 1 Bottle, 3 Plastic bag & wrappers, 19.8ms\n",
            "Speed: 2.1ms preprocess, 19.8ms inference, 1.6ms postprocess per image at shape (1, 3, 288, 640)\n",
            "\n",
            "0: 288x640 1 Bottle, 2 Plastic bag & wrappers, 20.4ms\n",
            "Speed: 2.3ms preprocess, 20.4ms inference, 2.7ms postprocess per image at shape (1, 3, 288, 640)\n",
            "\n",
            "0: 288x640 1 Bottle, 1 Bottle cap, 3 Plastic bag & wrappers, 19.9ms\n",
            "Speed: 2.4ms preprocess, 19.9ms inference, 1.7ms postprocess per image at shape (1, 3, 288, 640)\n",
            "\n",
            "0: 288x640 1 Bottle, 1 Bottle cap, 1 Plastic bag & wrapper, 20.8ms\n",
            "Speed: 2.0ms preprocess, 20.8ms inference, 1.3ms postprocess per image at shape (1, 3, 288, 640)\n",
            "\n",
            "0: 288x640 1 Bottle, 1 Bottle cap, 1 Plastic bag & wrapper, 19.3ms\n",
            "Speed: 2.0ms preprocess, 19.3ms inference, 1.3ms postprocess per image at shape (1, 3, 288, 640)\n",
            "\n",
            "0: 288x640 1 Bottle, 1 Plastic bag & wrapper, 19.3ms\n",
            "Speed: 1.9ms preprocess, 19.3ms inference, 1.4ms postprocess per image at shape (1, 3, 288, 640)\n",
            "\n",
            "0: 288x640 1 Bottle, 1 Bottle cap, 2 Plastic bag & wrappers, 19.3ms\n",
            "Speed: 2.0ms preprocess, 19.3ms inference, 1.4ms postprocess per image at shape (1, 3, 288, 640)\n",
            "\n",
            "0: 288x640 1 Bottle, 1 Bottle cap, 1 Carton, 1 Plastic bag & wrapper, 19.8ms\n",
            "Speed: 1.7ms preprocess, 19.8ms inference, 1.4ms postprocess per image at shape (1, 3, 288, 640)\n",
            "\n",
            "0: 288x640 1 Bottle, 3 Plastic bag & wrappers, 21.0ms\n",
            "Speed: 2.0ms preprocess, 21.0ms inference, 1.6ms postprocess per image at shape (1, 3, 288, 640)\n",
            "\n",
            "0: 288x640 1 Bottle, 1 Plastic bag & wrapper, 19.4ms\n",
            "Speed: 2.0ms preprocess, 19.4ms inference, 1.5ms postprocess per image at shape (1, 3, 288, 640)\n",
            "\n",
            "0: 288x640 2 Bottles, 1 Plastic bag & wrapper, 19.3ms\n",
            "Speed: 2.1ms preprocess, 19.3ms inference, 1.4ms postprocess per image at shape (1, 3, 288, 640)\n",
            "\n",
            "0: 288x640 1 Bottle, 1 Bottle cap, 1 Plastic bag & wrapper, 19.3ms\n",
            "Speed: 1.8ms preprocess, 19.3ms inference, 1.4ms postprocess per image at shape (1, 3, 288, 640)\n",
            "\n",
            "0: 288x640 1 Bottle, 1 Bottle cap, 1 Plastic bag & wrapper, 20.4ms\n",
            "Speed: 1.8ms preprocess, 20.4ms inference, 1.5ms postprocess per image at shape (1, 3, 288, 640)\n",
            "\n",
            "0: 288x640 1 Bottle, 2 Plastic bag & wrappers, 20.4ms\n",
            "Speed: 1.9ms preprocess, 20.4ms inference, 1.4ms postprocess per image at shape (1, 3, 288, 640)\n",
            "\n",
            "0: 288x640 1 Bottle, 1 Bottle cap, 2 Plastic bag & wrappers, 20.1ms\n",
            "Speed: 1.8ms preprocess, 20.1ms inference, 1.4ms postprocess per image at shape (1, 3, 288, 640)\n",
            "\n",
            "0: 288x640 1 Bottle, 1 Bottle cap, 2 Plastic bag & wrappers, 20.0ms\n",
            "Speed: 1.9ms preprocess, 20.0ms inference, 1.4ms postprocess per image at shape (1, 3, 288, 640)\n",
            "\n",
            "0: 288x640 1 Bottle, 1 Bottle cap, 3 Plastic bag & wrappers, 19.5ms\n",
            "Speed: 2.0ms preprocess, 19.5ms inference, 1.4ms postprocess per image at shape (1, 3, 288, 640)\n",
            "\n",
            "0: 288x640 1 Bottle, 1 Bottle cap, 1 Carton, 3 Plastic bag & wrappers, 19.3ms\n",
            "Speed: 2.0ms preprocess, 19.3ms inference, 1.4ms postprocess per image at shape (1, 3, 288, 640)\n",
            "\n",
            "0: 288x640 1 Bottle, 1 Bottle cap, 2 Plastic bag & wrappers, 19.6ms\n",
            "Speed: 1.7ms preprocess, 19.6ms inference, 1.4ms postprocess per image at shape (1, 3, 288, 640)\n",
            "\n",
            "0: 288x640 1 Bottle, 1 Bottle cap, 1 Plastic bag & wrapper, 19.0ms\n",
            "Speed: 2.2ms preprocess, 19.0ms inference, 1.3ms postprocess per image at shape (1, 3, 288, 640)\n",
            "\n",
            "0: 288x640 1 Bottle, 1 Bottle cap, 1 Plastic bag & wrapper, 18.8ms\n",
            "Speed: 1.6ms preprocess, 18.8ms inference, 1.3ms postprocess per image at shape (1, 3, 288, 640)\n",
            "\n",
            "0: 288x640 1 Bottle, 1 Bottle cap, 1 Plastic bag & wrapper, 19.2ms\n",
            "Speed: 1.7ms preprocess, 19.2ms inference, 1.4ms postprocess per image at shape (1, 3, 288, 640)\n",
            "\n",
            "0: 288x640 1 Bottle, 1 Bottle cap, 1 Plastic bag & wrapper, 20.2ms\n",
            "Speed: 1.8ms preprocess, 20.2ms inference, 1.5ms postprocess per image at shape (1, 3, 288, 640)\n",
            "\n",
            "0: 288x640 1 Bottle, 1 Bottle cap, 1 Plastic bag & wrapper, 19.9ms\n",
            "Speed: 1.9ms preprocess, 19.9ms inference, 1.4ms postprocess per image at shape (1, 3, 288, 640)\n",
            "\n",
            "0: 288x640 1 Bottle, 1 Bottle cap, 1 Can, 19.6ms\n",
            "Speed: 2.0ms preprocess, 19.6ms inference, 1.4ms postprocess per image at shape (1, 3, 288, 640)\n",
            "\n",
            "0: 288x640 1 Bottle, 1 Bottle cap, 2 Plastic bag & wrappers, 20.5ms\n",
            "Speed: 2.0ms preprocess, 20.5ms inference, 1.4ms postprocess per image at shape (1, 3, 288, 640)\n",
            "\n",
            "0: 288x640 1 Bottle, 1 Bottle cap, 1 Carton, 1 Plastic bag & wrapper, 19.3ms\n",
            "Speed: 2.0ms preprocess, 19.3ms inference, 1.4ms postprocess per image at shape (1, 3, 288, 640)\n",
            "\n",
            "0: 288x640 1 Bottle, 1 Bottle cap, 1 Carton, 1 Plastic bag & wrapper, 19.2ms\n",
            "Speed: 1.8ms preprocess, 19.2ms inference, 1.3ms postprocess per image at shape (1, 3, 288, 640)\n",
            "\n",
            "0: 288x640 1 Plastic bag & wrapper, 19.0ms\n",
            "Speed: 1.7ms preprocess, 19.0ms inference, 1.3ms postprocess per image at shape (1, 3, 288, 640)\n",
            "\n",
            "0: 288x640 3 Plastic bag & wrappers, 19.1ms\n",
            "Speed: 1.8ms preprocess, 19.1ms inference, 1.4ms postprocess per image at shape (1, 3, 288, 640)\n",
            "\n",
            "0: 288x640 1 Bottle, 1 Bottle cap, 1 Can, 1 Carton, 2 Plastic bag & wrappers, 19.6ms\n",
            "Speed: 1.9ms preprocess, 19.6ms inference, 1.4ms postprocess per image at shape (1, 3, 288, 640)\n",
            "\n",
            "0: 288x640 1 Bottle, 1 Carton, 1 Plastic bag & wrapper, 19.6ms\n",
            "Speed: 1.8ms preprocess, 19.6ms inference, 1.4ms postprocess per image at shape (1, 3, 288, 640)\n",
            "\n",
            "0: 288x640 1 Bottle, 1 Bottle cap, 1 Carton, 1 Plastic bag & wrapper, 20.6ms\n",
            "Speed: 1.9ms preprocess, 20.6ms inference, 1.4ms postprocess per image at shape (1, 3, 288, 640)\n",
            "\n",
            "0: 288x640 1 Bottle cap, 1 Carton, 1 Plastic bag & wrapper, 20.3ms\n",
            "Speed: 2.0ms preprocess, 20.3ms inference, 1.4ms postprocess per image at shape (1, 3, 288, 640)\n",
            "\n",
            "0: 288x640 1 Bottle cap, 1 Carton, 2 Plastic bag & wrappers, 20.8ms\n",
            "Speed: 1.9ms preprocess, 20.8ms inference, 1.4ms postprocess per image at shape (1, 3, 288, 640)\n",
            "\n",
            "0: 288x640 1 Bottle, 1 Bottle cap, 1 Carton, 4 Plastic bag & wrappers, 20.5ms\n",
            "Speed: 1.9ms preprocess, 20.5ms inference, 1.4ms postprocess per image at shape (1, 3, 288, 640)\n",
            "\n",
            "0: 288x640 1 Bottle cap, 3 Plastic bag & wrappers, 22.6ms\n",
            "Speed: 1.8ms preprocess, 22.6ms inference, 1.5ms postprocess per image at shape (1, 3, 288, 640)\n",
            "\n",
            "0: 288x640 1 Bottle, 1 Bottle cap, 2 Plastic bag & wrappers, 20.3ms\n",
            "Speed: 1.9ms preprocess, 20.3ms inference, 1.5ms postprocess per image at shape (1, 3, 288, 640)\n",
            "\n",
            "0: 288x640 1 Bottle, 1 Bottle cap, 1 Carton, 1 Plastic bag & wrapper, 20.4ms\n",
            "Speed: 1.8ms preprocess, 20.4ms inference, 1.5ms postprocess per image at shape (1, 3, 288, 640)\n",
            "\n",
            "0: 288x640 1 Carton, 20.5ms\n",
            "Speed: 1.7ms preprocess, 20.5ms inference, 1.4ms postprocess per image at shape (1, 3, 288, 640)\n",
            "\n",
            "0: 288x640 1 Plastic bag & wrapper, 20.4ms\n",
            "Speed: 1.8ms preprocess, 20.4ms inference, 1.4ms postprocess per image at shape (1, 3, 288, 640)\n",
            "\n",
            "0: 288x640 1 Carton, 2 Plastic bag & wrappers, 20.4ms\n",
            "Speed: 1.8ms preprocess, 20.4ms inference, 1.4ms postprocess per image at shape (1, 3, 288, 640)\n",
            "\n",
            "0: 288x640 3 Plastic bag & wrappers, 19.6ms\n",
            "Speed: 1.7ms preprocess, 19.6ms inference, 1.4ms postprocess per image at shape (1, 3, 288, 640)\n",
            "\n",
            "0: 288x640 1 Plastic bag & wrapper, 19.2ms\n",
            "Speed: 1.7ms preprocess, 19.2ms inference, 1.3ms postprocess per image at shape (1, 3, 288, 640)\n",
            "\n",
            "0: 288x640 1 Bottle cap, 1 Carton, 1 Plastic bag & wrapper, 19.8ms\n",
            "Speed: 1.7ms preprocess, 19.8ms inference, 1.4ms postprocess per image at shape (1, 3, 288, 640)\n",
            "\n",
            "0: 288x640 1 Carton, 1 Plastic bag & wrapper, 19.6ms\n",
            "Speed: 1.8ms preprocess, 19.6ms inference, 1.4ms postprocess per image at shape (1, 3, 288, 640)\n",
            "\n",
            "0: 288x640 1 Bottle cap, 1 Carton, 1 Plastic bag & wrapper, 19.9ms\n",
            "Speed: 1.7ms preprocess, 19.9ms inference, 1.4ms postprocess per image at shape (1, 3, 288, 640)\n",
            "\n",
            "0: 288x640 1 Bottle cap, 1 Carton, 1 Plastic bag & wrapper, 19.4ms\n",
            "Speed: 1.7ms preprocess, 19.4ms inference, 1.3ms postprocess per image at shape (1, 3, 288, 640)\n",
            "\n",
            "0: 288x640 1 Bottle cap, 1 Can, 2 Plastic bag & wrappers, 19.6ms\n",
            "Speed: 1.9ms preprocess, 19.6ms inference, 1.4ms postprocess per image at shape (1, 3, 288, 640)\n",
            "\n",
            "0: 288x640 1 Bottle, 2 Plastic bag & wrappers, 19.1ms\n",
            "Speed: 1.8ms preprocess, 19.1ms inference, 1.3ms postprocess per image at shape (1, 3, 288, 640)\n",
            "\n",
            "0: 288x640 1 Bottle, 3 Plastic bag & wrappers, 20.5ms\n",
            "Speed: 1.8ms preprocess, 20.5ms inference, 1.4ms postprocess per image at shape (1, 3, 288, 640)\n",
            "\n",
            "0: 288x640 1 Can, 1 Carton, 2 Plastic bag & wrappers, 19.3ms\n",
            "Speed: 1.7ms preprocess, 19.3ms inference, 1.4ms postprocess per image at shape (1, 3, 288, 640)\n",
            "\n",
            "0: 288x640 1 Bottle, 1 Can, 3 Plastic bag & wrappers, 20.5ms\n",
            "Speed: 1.9ms preprocess, 20.5ms inference, 1.5ms postprocess per image at shape (1, 3, 288, 640)\n",
            "\n",
            "0: 288x640 1 Bottle, 5 Plastic bag & wrappers, 19.6ms\n",
            "Speed: 1.8ms preprocess, 19.6ms inference, 1.4ms postprocess per image at shape (1, 3, 288, 640)\n",
            "\n",
            "0: 288x640 1 Bottle, 1 Bottle cap, 2 Plastic bag & wrappers, 28.9ms\n",
            "Speed: 3.3ms preprocess, 28.9ms inference, 1.9ms postprocess per image at shape (1, 3, 288, 640)\n",
            "\n",
            "0: 288x640 1 Bottle, 1 Bottle cap, 1 Carton, 20.0ms\n",
            "Speed: 2.0ms preprocess, 20.0ms inference, 1.5ms postprocess per image at shape (1, 3, 288, 640)\n",
            "\n",
            "0: 288x640 1 Bottle cap, 1 Can, 1 Plastic bag & wrapper, 19.9ms\n",
            "Speed: 2.1ms preprocess, 19.9ms inference, 1.7ms postprocess per image at shape (1, 3, 288, 640)\n",
            "\n",
            "0: 288x640 1 Bottle cap, 1 Plastic bag & wrapper, 20.9ms\n",
            "Speed: 2.1ms preprocess, 20.9ms inference, 1.6ms postprocess per image at shape (1, 3, 288, 640)\n",
            "\n",
            "0: 288x640 1 Bottle cap, 22.8ms\n",
            "Speed: 2.0ms preprocess, 22.8ms inference, 1.7ms postprocess per image at shape (1, 3, 288, 640)\n",
            "\n",
            "0: 288x640 1 Bottle cap, 22.1ms\n",
            "Speed: 2.0ms preprocess, 22.1ms inference, 1.5ms postprocess per image at shape (1, 3, 288, 640)\n",
            "\n",
            "0: 288x640 1 Bottle cap, 1 Plastic bag & wrapper, 22.8ms\n",
            "Speed: 2.8ms preprocess, 22.8ms inference, 1.6ms postprocess per image at shape (1, 3, 288, 640)\n",
            "\n",
            "0: 288x640 1 Bottle cap, 21.5ms\n",
            "Speed: 2.1ms preprocess, 21.5ms inference, 1.4ms postprocess per image at shape (1, 3, 288, 640)\n",
            "\n",
            "0: 288x640 1 Bottle cap, 19.3ms\n",
            "Speed: 1.8ms preprocess, 19.3ms inference, 1.4ms postprocess per image at shape (1, 3, 288, 640)\n",
            "\n",
            "0: 288x640 1 Bottle cap, 1 Plastic bag & wrapper, 19.7ms\n",
            "Speed: 2.1ms preprocess, 19.7ms inference, 1.4ms postprocess per image at shape (1, 3, 288, 640)\n",
            "\n",
            "0: 288x640 1 Bottle cap, 1 Can, 1 Carton, 1 Plastic bag & wrapper, 19.3ms\n",
            "Speed: 1.9ms preprocess, 19.3ms inference, 1.4ms postprocess per image at shape (1, 3, 288, 640)\n",
            "\n",
            "0: 288x640 1 Bottle cap, 1 Carton, 20.6ms\n",
            "Speed: 2.0ms preprocess, 20.6ms inference, 1.4ms postprocess per image at shape (1, 3, 288, 640)\n",
            "\n",
            "0: 288x640 1 Bottle cap, 1 Can, 19.9ms\n",
            "Speed: 1.7ms preprocess, 19.9ms inference, 1.4ms postprocess per image at shape (1, 3, 288, 640)\n",
            "\n",
            "0: 288x640 1 Bottle cap, 1 Plastic bag & wrapper, 19.2ms\n",
            "Speed: 2.0ms preprocess, 19.2ms inference, 1.4ms postprocess per image at shape (1, 3, 288, 640)\n",
            "\n",
            "0: 288x640 1 Bottle cap, 1 Carton, 1 Plastic bag & wrapper, 24.1ms\n",
            "Speed: 1.8ms preprocess, 24.1ms inference, 1.5ms postprocess per image at shape (1, 3, 288, 640)\n",
            "\n",
            "0: 288x640 1 Bottle cap, 1 Carton, 1 Plastic bag & wrapper, 20.0ms\n",
            "Speed: 1.8ms preprocess, 20.0ms inference, 1.4ms postprocess per image at shape (1, 3, 288, 640)\n",
            "\n",
            "0: 288x640 1 Bottle cap, 1 Carton, 1 Plastic bag & wrapper, 19.8ms\n",
            "Speed: 2.0ms preprocess, 19.8ms inference, 1.4ms postprocess per image at shape (1, 3, 288, 640)\n",
            "\n",
            "0: 288x640 1 Bottle cap, 1 Carton, 2 Plastic bag & wrappers, 20.7ms\n",
            "Speed: 2.2ms preprocess, 20.7ms inference, 1.5ms postprocess per image at shape (1, 3, 288, 640)\n",
            "\n",
            "0: 288x640 1 Bottle cap, 1 Carton, 1 Plastic bag & wrapper, 20.6ms\n",
            "Speed: 1.8ms preprocess, 20.6ms inference, 1.5ms postprocess per image at shape (1, 3, 288, 640)\n",
            "\n",
            "0: 288x640 1 Bottle cap, 1 Carton, 1 Plastic bag & wrapper, 20.2ms\n",
            "Speed: 1.9ms preprocess, 20.2ms inference, 1.4ms postprocess per image at shape (1, 3, 288, 640)\n",
            "\n",
            "0: 288x640 1 Bottle cap, 1 Carton, 3 Plastic bag & wrappers, 20.0ms\n",
            "Speed: 1.8ms preprocess, 20.0ms inference, 1.4ms postprocess per image at shape (1, 3, 288, 640)\n",
            "\n",
            "0: 288x640 1 Bottle cap, 3 Plastic bag & wrappers, 20.8ms\n",
            "Speed: 2.2ms preprocess, 20.8ms inference, 1.4ms postprocess per image at shape (1, 3, 288, 640)\n",
            "\n",
            "0: 288x640 3 Plastic bag & wrappers, 19.9ms\n",
            "Speed: 2.0ms preprocess, 19.9ms inference, 1.4ms postprocess per image at shape (1, 3, 288, 640)\n",
            "\n",
            "0: 288x640 2 Plastic bag & wrappers, 19.3ms\n",
            "Speed: 2.0ms preprocess, 19.3ms inference, 1.4ms postprocess per image at shape (1, 3, 288, 640)\n",
            "\n",
            "0: 288x640 3 Plastic bag & wrappers, 19.4ms\n",
            "Speed: 2.0ms preprocess, 19.4ms inference, 1.4ms postprocess per image at shape (1, 3, 288, 640)\n",
            "\n",
            "0: 288x640 3 Plastic bag & wrappers, 19.7ms\n",
            "Speed: 1.7ms preprocess, 19.7ms inference, 1.4ms postprocess per image at shape (1, 3, 288, 640)\n",
            "\n",
            "0: 288x640 1 Carton, 1 Plastic bag & wrapper, 20.8ms\n",
            "Speed: 2.1ms preprocess, 20.8ms inference, 1.4ms postprocess per image at shape (1, 3, 288, 640)\n",
            "\n",
            "0: 288x640 2 Plastic bag & wrappers, 20.3ms\n",
            "Speed: 2.0ms preprocess, 20.3ms inference, 1.4ms postprocess per image at shape (1, 3, 288, 640)\n",
            "\n",
            "0: 288x640 3 Plastic bag & wrappers, 20.3ms\n",
            "Speed: 2.0ms preprocess, 20.3ms inference, 1.4ms postprocess per image at shape (1, 3, 288, 640)\n",
            "\n",
            "0: 288x640 1 Bottle, 1 Carton, 2 Plastic bag & wrappers, 19.4ms\n",
            "Speed: 1.7ms preprocess, 19.4ms inference, 1.4ms postprocess per image at shape (1, 3, 288, 640)\n",
            "\n",
            "0: 288x640 1 Bottle, 1 Plastic bag & wrapper, 19.1ms\n",
            "Speed: 1.8ms preprocess, 19.1ms inference, 1.4ms postprocess per image at shape (1, 3, 288, 640)\n",
            "\n",
            "0: 288x640 1 Bottle, 3 Plastic bag & wrappers, 19.4ms\n",
            "Speed: 1.8ms preprocess, 19.4ms inference, 1.3ms postprocess per image at shape (1, 3, 288, 640)\n",
            "\n",
            "0: 288x640 1 Bottle cap, 2 Plastic bag & wrappers, 19.3ms\n",
            "Speed: 1.7ms preprocess, 19.3ms inference, 1.4ms postprocess per image at shape (1, 3, 288, 640)\n",
            "\n",
            "0: 288x640 1 Bottle, 1 Bottle cap, 2 Plastic bag & wrappers, 19.7ms\n",
            "Speed: 1.7ms preprocess, 19.7ms inference, 1.4ms postprocess per image at shape (1, 3, 288, 640)\n",
            "\n",
            "0: 288x640 1 Bottle, 2 Plastic bag & wrappers, 19.8ms\n",
            "Speed: 1.9ms preprocess, 19.8ms inference, 1.4ms postprocess per image at shape (1, 3, 288, 640)\n",
            "\n",
            "0: 288x640 2 Plastic bag & wrappers, 20.0ms\n",
            "Speed: 1.9ms preprocess, 20.0ms inference, 1.5ms postprocess per image at shape (1, 3, 288, 640)\n",
            "\n",
            "0: 288x640 1 Bottle cap, 1 Plastic bag & wrapper, 20.3ms\n",
            "Speed: 2.1ms preprocess, 20.3ms inference, 1.4ms postprocess per image at shape (1, 3, 288, 640)\n",
            "\n",
            "0: 288x640 1 Bottle cap, 1 Plastic bag & wrapper, 19.4ms\n",
            "Speed: 1.7ms preprocess, 19.4ms inference, 1.4ms postprocess per image at shape (1, 3, 288, 640)\n",
            "\n",
            "0: 288x640 2 Plastic bag & wrappers, 19.7ms\n",
            "Speed: 1.9ms preprocess, 19.7ms inference, 1.4ms postprocess per image at shape (1, 3, 288, 640)\n",
            "\n",
            "0: 288x640 1 Plastic bag & wrapper, 20.0ms\n",
            "Speed: 1.8ms preprocess, 20.0ms inference, 1.4ms postprocess per image at shape (1, 3, 288, 640)\n",
            "\n",
            "0: 288x640 1 Bottle cap, 2 Plastic bag & wrappers, 19.4ms\n",
            "Speed: 2.0ms preprocess, 19.4ms inference, 1.4ms postprocess per image at shape (1, 3, 288, 640)\n",
            "\n",
            "0: 288x640 1 Bottle cap, 1 Plastic bag & wrapper, 19.9ms\n",
            "Speed: 2.1ms preprocess, 19.9ms inference, 1.4ms postprocess per image at shape (1, 3, 288, 640)\n",
            "\n",
            "0: 288x640 1 Bottle cap, 1 Plastic bag & wrapper, 19.4ms\n",
            "Speed: 1.8ms preprocess, 19.4ms inference, 1.4ms postprocess per image at shape (1, 3, 288, 640)\n",
            "\n",
            "0: 288x640 1 Bottle cap, 2 Plastic bag & wrappers, 19.3ms\n",
            "Speed: 2.0ms preprocess, 19.3ms inference, 1.4ms postprocess per image at shape (1, 3, 288, 640)\n",
            "\n",
            "0: 288x640 1 Plastic bag & wrapper, 19.4ms\n",
            "Speed: 2.0ms preprocess, 19.4ms inference, 1.4ms postprocess per image at shape (1, 3, 288, 640)\n",
            "\n",
            "0: 288x640 1 Bottle, 1 Plastic bag & wrapper, 19.5ms\n",
            "Speed: 2.0ms preprocess, 19.5ms inference, 1.5ms postprocess per image at shape (1, 3, 288, 640)\n",
            "\n",
            "0: 288x640 1 Plastic bag & wrapper, 20.0ms\n",
            "Speed: 1.8ms preprocess, 20.0ms inference, 1.8ms postprocess per image at shape (1, 3, 288, 640)\n",
            "\n",
            "0: 288x640 1 Plastic bag & wrapper, 21.0ms\n",
            "Speed: 1.8ms preprocess, 21.0ms inference, 1.4ms postprocess per image at shape (1, 3, 288, 640)\n",
            "\n",
            "0: 288x640 1 Bottle cap, 1 Plastic bag & wrapper, 19.4ms\n",
            "Speed: 1.7ms preprocess, 19.4ms inference, 1.4ms postprocess per image at shape (1, 3, 288, 640)\n",
            "\n",
            "0: 288x640 1 Bottle, 1 Bottle cap, 1 Plastic bag & wrapper, 19.2ms\n",
            "Speed: 2.0ms preprocess, 19.2ms inference, 1.4ms postprocess per image at shape (1, 3, 288, 640)\n",
            "\n",
            "0: 288x640 1 Plastic bag & wrapper, 19.4ms\n",
            "Speed: 1.9ms preprocess, 19.4ms inference, 1.4ms postprocess per image at shape (1, 3, 288, 640)\n",
            "\n",
            "0: 288x640 1 Bottle cap, 1 Plastic bag & wrapper, 19.3ms\n",
            "Speed: 2.1ms preprocess, 19.3ms inference, 1.4ms postprocess per image at shape (1, 3, 288, 640)\n",
            "\n",
            "0: 288x640 1 Bottle cap, 2 Plastic bag & wrappers, 19.3ms\n",
            "Speed: 1.7ms preprocess, 19.3ms inference, 1.4ms postprocess per image at shape (1, 3, 288, 640)\n",
            "\n",
            "0: 288x640 1 Bottle cap, 2 Plastic bag & wrappers, 19.2ms\n",
            "Speed: 2.0ms preprocess, 19.2ms inference, 1.4ms postprocess per image at shape (1, 3, 288, 640)\n",
            "\n",
            "0: 288x640 1 Bottle cap, 1 Carton, 1 Plastic bag & wrapper, 36.8ms\n",
            "Speed: 2.3ms preprocess, 36.8ms inference, 1.5ms postprocess per image at shape (1, 3, 288, 640)\n",
            "\n",
            "0: 288x640 1 Bottle cap, 2 Plastic bag & wrappers, 19.9ms\n",
            "Speed: 1.9ms preprocess, 19.9ms inference, 1.4ms postprocess per image at shape (1, 3, 288, 640)\n",
            "\n",
            "0: 288x640 1 Bottle cap, 1 Carton, 1 Plastic bag & wrapper, 19.9ms\n",
            "Speed: 2.1ms preprocess, 19.9ms inference, 1.4ms postprocess per image at shape (1, 3, 288, 640)\n",
            "\n",
            "0: 288x640 1 Bottle cap, 1 Carton, 2 Plastic bag & wrappers, 19.4ms\n",
            "Speed: 1.6ms preprocess, 19.4ms inference, 1.4ms postprocess per image at shape (1, 3, 288, 640)\n",
            "\n",
            "0: 288x640 1 Plastic bag & wrapper, 20.3ms\n",
            "Speed: 1.8ms preprocess, 20.3ms inference, 1.4ms postprocess per image at shape (1, 3, 288, 640)\n",
            "\n",
            "0: 288x640 1 Plastic bag & wrapper, 34.9ms\n",
            "Speed: 1.8ms preprocess, 34.9ms inference, 2.3ms postprocess per image at shape (1, 3, 288, 640)\n",
            "\n",
            "0: 288x640 1 Bottle cap, 1 Carton, 2 Plastic bag & wrappers, 19.8ms\n",
            "Speed: 1.9ms preprocess, 19.8ms inference, 1.4ms postprocess per image at shape (1, 3, 288, 640)\n",
            "\n",
            "0: 288x640 1 Bottle cap, 1 Plastic bag & wrapper, 19.7ms\n",
            "Speed: 1.8ms preprocess, 19.7ms inference, 1.4ms postprocess per image at shape (1, 3, 288, 640)\n",
            "\n",
            "0: 288x640 1 Bottle, 1 Bottle cap, 3 Plastic bag & wrappers, 19.4ms\n",
            "Speed: 1.9ms preprocess, 19.4ms inference, 1.4ms postprocess per image at shape (1, 3, 288, 640)\n",
            "\n",
            "0: 288x640 1 Bottle cap, 2 Plastic bag & wrappers, 19.2ms\n",
            "Speed: 1.8ms preprocess, 19.2ms inference, 1.3ms postprocess per image at shape (1, 3, 288, 640)\n",
            "\n",
            "0: 288x640 1 Bottle cap, 1 Carton, 1 Plastic bag & wrapper, 19.5ms\n",
            "Speed: 1.8ms preprocess, 19.5ms inference, 1.3ms postprocess per image at shape (1, 3, 288, 640)\n",
            "\n",
            "0: 288x640 1 Carton, 1 Plastic bag & wrapper, 19.5ms\n",
            "Speed: 1.8ms preprocess, 19.5ms inference, 1.4ms postprocess per image at shape (1, 3, 288, 640)\n",
            "\n",
            "0: 288x640 1 Bottle cap, 1 Carton, 2 Plastic bag & wrappers, 19.6ms\n",
            "Speed: 1.7ms preprocess, 19.6ms inference, 1.6ms postprocess per image at shape (1, 3, 288, 640)\n",
            "\n",
            "0: 288x640 1 Bottle cap, 3 Plastic bag & wrappers, 19.3ms\n",
            "Speed: 1.8ms preprocess, 19.3ms inference, 1.4ms postprocess per image at shape (1, 3, 288, 640)\n",
            "\n",
            "0: 288x640 1 Bottle cap, 2 Plastic bag & wrappers, 19.3ms\n",
            "Speed: 1.7ms preprocess, 19.3ms inference, 1.4ms postprocess per image at shape (1, 3, 288, 640)\n",
            "\n",
            "0: 288x640 1 Bottle cap, 2 Plastic bag & wrappers, 19.4ms\n",
            "Speed: 1.7ms preprocess, 19.4ms inference, 1.4ms postprocess per image at shape (1, 3, 288, 640)\n",
            "\n",
            "0: 288x640 1 Bottle cap, 2 Plastic bag & wrappers, 23.8ms\n",
            "Speed: 2.0ms preprocess, 23.8ms inference, 1.5ms postprocess per image at shape (1, 3, 288, 640)\n",
            "\n",
            "0: 288x640 1 Bottle cap, 1 Plastic bag & wrapper, 20.0ms\n",
            "Speed: 2.0ms preprocess, 20.0ms inference, 1.4ms postprocess per image at shape (1, 3, 288, 640)\n",
            "\n",
            "0: 288x640 1 Plastic bag & wrapper, 21.9ms\n",
            "Speed: 1.8ms preprocess, 21.9ms inference, 1.4ms postprocess per image at shape (1, 3, 288, 640)\n",
            "\n",
            "0: 288x640 1 Plastic bag & wrapper, 20.2ms\n",
            "Speed: 2.1ms preprocess, 20.2ms inference, 1.4ms postprocess per image at shape (1, 3, 288, 640)\n",
            "\n",
            "0: 288x640 1 Plastic bag & wrapper, 19.3ms\n",
            "Speed: 1.8ms preprocess, 19.3ms inference, 1.4ms postprocess per image at shape (1, 3, 288, 640)\n",
            "\n",
            "0: 288x640 1 Plastic bag & wrapper, 20.8ms\n",
            "Speed: 1.7ms preprocess, 20.8ms inference, 1.4ms postprocess per image at shape (1, 3, 288, 640)\n",
            "\n",
            "0: 288x640 2 Plastic bag & wrappers, 19.4ms\n",
            "Speed: 1.8ms preprocess, 19.4ms inference, 1.3ms postprocess per image at shape (1, 3, 288, 640)\n",
            "\n",
            "0: 288x640 1 Plastic bag & wrapper, 19.5ms\n",
            "Speed: 1.7ms preprocess, 19.5ms inference, 1.4ms postprocess per image at shape (1, 3, 288, 640)\n",
            "\n",
            "0: 288x640 1 Plastic bag & wrapper, 20.0ms\n",
            "Speed: 1.7ms preprocess, 20.0ms inference, 1.4ms postprocess per image at shape (1, 3, 288, 640)\n",
            "\n",
            "0: 288x640 1 Plastic bag & wrapper, 19.2ms\n",
            "Speed: 1.7ms preprocess, 19.2ms inference, 1.4ms postprocess per image at shape (1, 3, 288, 640)\n",
            "\n",
            "0: 288x640 1 Plastic bag & wrapper, 19.7ms\n",
            "Speed: 1.7ms preprocess, 19.7ms inference, 1.4ms postprocess per image at shape (1, 3, 288, 640)\n",
            "\n",
            "0: 288x640 1 Bottle cap, 2 Plastic bag & wrappers, 19.4ms\n",
            "Speed: 1.7ms preprocess, 19.4ms inference, 1.4ms postprocess per image at shape (1, 3, 288, 640)\n",
            "\n",
            "0: 288x640 2 Plastic bag & wrappers, 19.9ms\n",
            "Speed: 1.8ms preprocess, 19.9ms inference, 1.4ms postprocess per image at shape (1, 3, 288, 640)\n",
            "\n",
            "0: 288x640 1 Bottle cap, 2 Plastic bag & wrappers, 20.7ms\n",
            "Speed: 1.9ms preprocess, 20.7ms inference, 1.3ms postprocess per image at shape (1, 3, 288, 640)\n",
            "\n",
            "0: 288x640 1 Bottle cap, 2 Plastic bag & wrappers, 19.2ms\n",
            "Speed: 1.7ms preprocess, 19.2ms inference, 1.3ms postprocess per image at shape (1, 3, 288, 640)\n",
            "\n",
            "0: 288x640 2 Plastic bag & wrappers, 19.3ms\n",
            "Speed: 2.0ms preprocess, 19.3ms inference, 1.4ms postprocess per image at shape (1, 3, 288, 640)\n",
            "\n",
            "0: 288x640 1 Bottle cap, 2 Plastic bag & wrappers, 19.3ms\n",
            "Speed: 1.7ms preprocess, 19.3ms inference, 1.4ms postprocess per image at shape (1, 3, 288, 640)\n",
            "\n",
            "0: 288x640 1 Bottle cap, 3 Plastic bag & wrappers, 19.9ms\n",
            "Speed: 1.9ms preprocess, 19.9ms inference, 1.4ms postprocess per image at shape (1, 3, 288, 640)\n",
            "\n",
            "0: 288x640 1 Bottle cap, 20.0ms\n",
            "Speed: 2.0ms preprocess, 20.0ms inference, 1.4ms postprocess per image at shape (1, 3, 288, 640)\n",
            "\n",
            "0: 288x640 1 Bottle cap, 1 Carton, 2 Plastic bag & wrappers, 19.6ms\n",
            "Speed: 1.7ms preprocess, 19.6ms inference, 1.4ms postprocess per image at shape (1, 3, 288, 640)\n",
            "\n",
            "0: 288x640 1 Bottle cap, 19.7ms\n",
            "Speed: 1.7ms preprocess, 19.7ms inference, 1.4ms postprocess per image at shape (1, 3, 288, 640)\n",
            "\n",
            "0: 288x640 1 Bottle, 1 Bottle cap, 1 Plastic bag & wrapper, 19.8ms\n",
            "Speed: 1.7ms preprocess, 19.8ms inference, 1.6ms postprocess per image at shape (1, 3, 288, 640)\n",
            "\n",
            "0: 288x640 1 Bottle, 3 Plastic bag & wrappers, 19.8ms\n",
            "Speed: 1.8ms preprocess, 19.8ms inference, 1.4ms postprocess per image at shape (1, 3, 288, 640)\n",
            "\n",
            "0: 288x640 1 Bottle, 2 Plastic bag & wrappers, 19.9ms\n",
            "Speed: 1.8ms preprocess, 19.9ms inference, 1.4ms postprocess per image at shape (1, 3, 288, 640)\n",
            "\n",
            "0: 288x640 1 Bottle, 2 Plastic bag & wrappers, 19.8ms\n",
            "Speed: 2.1ms preprocess, 19.8ms inference, 1.4ms postprocess per image at shape (1, 3, 288, 640)\n",
            "\n",
            "0: 288x640 1 Bottle, 1 Plastic bag & wrapper, 19.6ms\n",
            "Speed: 2.0ms preprocess, 19.6ms inference, 1.4ms postprocess per image at shape (1, 3, 288, 640)\n",
            "\n",
            "0: 288x640 1 Bottle, 2 Plastic bag & wrappers, 19.9ms\n",
            "Speed: 1.9ms preprocess, 19.9ms inference, 1.4ms postprocess per image at shape (1, 3, 288, 640)\n",
            "\n",
            "0: 288x640 1 Bottle, 1 Bottle cap, 20.0ms\n",
            "Speed: 1.9ms preprocess, 20.0ms inference, 1.4ms postprocess per image at shape (1, 3, 288, 640)\n",
            "\n",
            "0: 288x640 1 Bottle, 2 Plastic bag & wrappers, 19.5ms\n",
            "Speed: 1.6ms preprocess, 19.5ms inference, 1.4ms postprocess per image at shape (1, 3, 288, 640)\n",
            "\n",
            "0: 288x640 3 Plastic bag & wrappers, 20.6ms\n",
            "Speed: 1.7ms preprocess, 20.6ms inference, 1.4ms postprocess per image at shape (1, 3, 288, 640)\n",
            "\n",
            "0: 288x640 1 Bottle cap, 20.3ms\n",
            "Speed: 2.1ms preprocess, 20.3ms inference, 1.4ms postprocess per image at shape (1, 3, 288, 640)\n",
            "\n",
            "0: 288x640 2 Plastic bag & wrappers, 20.6ms\n",
            "Speed: 1.8ms preprocess, 20.6ms inference, 1.4ms postprocess per image at shape (1, 3, 288, 640)\n",
            "\n",
            "0: 288x640 1 Plastic bag & wrapper, 19.3ms\n",
            "Speed: 2.0ms preprocess, 19.3ms inference, 1.4ms postprocess per image at shape (1, 3, 288, 640)\n",
            "\n",
            "0: 288x640 1 Carton, 1 Plastic bag & wrapper, 19.4ms\n",
            "Speed: 1.9ms preprocess, 19.4ms inference, 1.4ms postprocess per image at shape (1, 3, 288, 640)\n",
            "\n",
            "0: 288x640 1 Bottle, 1 Bottle cap, 1 Plastic bag & wrapper, 20.1ms\n",
            "Speed: 1.7ms preprocess, 20.1ms inference, 1.4ms postprocess per image at shape (1, 3, 288, 640)\n",
            "\n",
            "0: 288x640 1 Bottle, 1 Bottle cap, 2 Plastic bag & wrappers, 19.2ms\n",
            "Speed: 1.9ms preprocess, 19.2ms inference, 1.4ms postprocess per image at shape (1, 3, 288, 640)\n",
            "\n",
            "0: 288x640 1 Can, 1 Plastic bag & wrapper, 19.5ms\n",
            "Speed: 1.7ms preprocess, 19.5ms inference, 1.4ms postprocess per image at shape (1, 3, 288, 640)\n",
            "\n",
            "0: 288x640 1 Bottle, 1 Plastic bag & wrapper, 20.4ms\n",
            "Speed: 2.2ms preprocess, 20.4ms inference, 1.5ms postprocess per image at shape (1, 3, 288, 640)\n",
            "\n",
            "0: 288x640 2 Plastic bag & wrappers, 19.7ms\n",
            "Speed: 1.8ms preprocess, 19.7ms inference, 1.4ms postprocess per image at shape (1, 3, 288, 640)\n",
            "\n",
            "0: 288x640 1 Bottle cap, 1 Can, 1 Plastic bag & wrapper, 19.6ms\n",
            "Speed: 1.8ms preprocess, 19.6ms inference, 1.4ms postprocess per image at shape (1, 3, 288, 640)\n",
            "\n",
            "0: 288x640 1 Bottle cap, 2 Plastic bag & wrappers, 19.4ms\n",
            "Speed: 1.7ms preprocess, 19.4ms inference, 1.4ms postprocess per image at shape (1, 3, 288, 640)\n",
            "\n",
            "0: 288x640 1 Bottle cap, 1 Plastic bag & wrapper, 20.4ms\n",
            "Speed: 1.7ms preprocess, 20.4ms inference, 1.4ms postprocess per image at shape (1, 3, 288, 640)\n",
            "\n",
            "0: 288x640 1 Bottle cap, 19.2ms\n",
            "Speed: 1.7ms preprocess, 19.2ms inference, 1.3ms postprocess per image at shape (1, 3, 288, 640)\n",
            "\n",
            "0: 288x640 1 Bottle cap, 1 Plastic bag & wrapper, 19.2ms\n",
            "Speed: 1.7ms preprocess, 19.2ms inference, 1.4ms postprocess per image at shape (1, 3, 288, 640)\n",
            "\n",
            "0: 288x640 1 Bottle, 1 Bottle cap, 1 Plastic bag & wrapper, 19.3ms\n",
            "Speed: 1.8ms preprocess, 19.3ms inference, 1.4ms postprocess per image at shape (1, 3, 288, 640)\n",
            "\n",
            "0: 288x640 1 Plastic bag & wrapper, 22.0ms\n",
            "Speed: 1.7ms preprocess, 22.0ms inference, 1.6ms postprocess per image at shape (1, 3, 288, 640)\n",
            "\n",
            "0: 288x640 1 Bottle, 1 Bottle cap, 2 Plastic bag & wrappers, 20.0ms\n",
            "Speed: 1.7ms preprocess, 20.0ms inference, 1.4ms postprocess per image at shape (1, 3, 288, 640)\n",
            "\n",
            "0: 288x640 1 Bottle, 1 Bottle cap, 1 Plastic bag & wrapper, 20.3ms\n",
            "Speed: 2.1ms preprocess, 20.3ms inference, 1.5ms postprocess per image at shape (1, 3, 288, 640)\n",
            "\n",
            "0: 288x640 1 Bottle cap, 23.7ms\n",
            "Speed: 1.8ms preprocess, 23.7ms inference, 1.6ms postprocess per image at shape (1, 3, 288, 640)\n",
            "\n",
            "0: 288x640 1 Bottle cap, 2 Plastic bag & wrappers, 22.8ms\n",
            "Speed: 1.9ms preprocess, 22.8ms inference, 1.6ms postprocess per image at shape (1, 3, 288, 640)\n",
            "\n",
            "0: 288x640 1 Bottle cap, 3 Plastic bag & wrappers, 19.9ms\n",
            "Speed: 1.9ms preprocess, 19.9ms inference, 1.4ms postprocess per image at shape (1, 3, 288, 640)\n",
            "\n",
            "0: 288x640 3 Plastic bag & wrappers, 19.6ms\n",
            "Speed: 1.9ms preprocess, 19.6ms inference, 1.4ms postprocess per image at shape (1, 3, 288, 640)\n",
            "\n",
            "0: 288x640 1 Carton, 1 Plastic bag & wrapper, 19.5ms\n",
            "Speed: 1.9ms preprocess, 19.5ms inference, 2.4ms postprocess per image at shape (1, 3, 288, 640)\n",
            "\n",
            "0: 288x640 1 Bottle cap, 20.2ms\n",
            "Speed: 2.0ms preprocess, 20.2ms inference, 1.4ms postprocess per image at shape (1, 3, 288, 640)\n",
            "\n",
            "0: 288x640 1 Bottle cap, 2 Plastic bag & wrappers, 19.6ms\n",
            "Speed: 1.9ms preprocess, 19.6ms inference, 1.4ms postprocess per image at shape (1, 3, 288, 640)\n",
            "FPS: 20.76\n",
            "\n",
            "image 1/1 /content/drive/MyDrive/YOLOv11-litter-detec-folder/val/images/f03dbcf6-batch_2_000018.JPG: 640x480 1 Bottle, 20.7ms\n",
            "Speed: 3.1ms preprocess, 20.7ms inference, 1.4ms postprocess per image at shape (1, 3, 640, 480)\n",
            "\n",
            "image 1/1 /content/drive/MyDrive/YOLOv11-litter-detec-folder/val/images/fb557f83-batch_3_IMG_4941.JPG: 480x640 1 Bottle, 1 Cigarette, 1 Plastic bag & wrapper, 20.2ms\n",
            "Speed: 2.9ms preprocess, 20.2ms inference, 1.4ms postprocess per image at shape (1, 3, 480, 640)\n",
            "\n",
            "image 1/1 /content/drive/MyDrive/YOLOv11-litter-detec-folder/val/images/e63758f9-batch_4_000028.JPG: 480x640 1 Plastic bag & wrapper, 19.4ms\n",
            "Speed: 2.8ms preprocess, 19.4ms inference, 1.4ms postprocess per image at shape (1, 3, 480, 640)\n",
            "\n",
            "image 1/1 /content/drive/MyDrive/YOLOv11-litter-detec-folder/val/images/f08fe60c-batch_2_000056.JPG: 640x480 1 Plastic bag & wrapper, 20.6ms\n",
            "Speed: 3.0ms preprocess, 20.6ms inference, 1.4ms postprocess per image at shape (1, 3, 640, 480)\n",
            "\n",
            "image 1/1 /content/drive/MyDrive/YOLOv11-litter-detec-folder/val/images/eb3192ba-batch_5_000021.JPG: 640x480 1 Carton, 1 Plastic bag & wrapper, 21.2ms\n",
            "Speed: 2.9ms preprocess, 21.2ms inference, 1.5ms postprocess per image at shape (1, 3, 640, 480)\n",
            "\n",
            "image 1/1 /content/drive/MyDrive/YOLOv11-litter-detec-folder/val/images/f598509e-batch_5_000045.JPG: 640x480 1 Plastic container, 1 Styrofoam piece, 19.6ms\n",
            "Speed: 2.8ms preprocess, 19.6ms inference, 1.5ms postprocess per image at shape (1, 3, 640, 480)\n",
            "\n",
            "image 1/1 /content/drive/MyDrive/YOLOv11-litter-detec-folder/val/images/ff07aead-batch_2_000095.JPG: 480x640 (no detections), 20.5ms\n",
            "Speed: 2.8ms preprocess, 20.5ms inference, 0.6ms postprocess per image at shape (1, 3, 480, 640)\n",
            "\n",
            "image 1/1 /content/drive/MyDrive/YOLOv11-litter-detec-folder/val/images/f8942be3-batch_5_000083.JPG: 480x640 1 Bottle, 1 Plastic bag & wrapper, 19.7ms\n",
            "Speed: 3.0ms preprocess, 19.7ms inference, 1.4ms postprocess per image at shape (1, 3, 480, 640)\n",
            "\n",
            "image 1/1 /content/drive/MyDrive/YOLOv11-litter-detec-folder/val/images/ee50f544-batch_3_IMG_4887.JPG: 640x480 1 Plastic container, 20.7ms\n",
            "Speed: 2.9ms preprocess, 20.7ms inference, 1.4ms postprocess per image at shape (1, 3, 640, 480)\n",
            "\n",
            "image 1/1 /content/drive/MyDrive/YOLOv11-litter-detec-folder/val/images/ee7cf124-batch_5_000068.JPG: 640x480 1 Cigarette, 2 Plastic bag & wrappers, 19.8ms\n",
            "Speed: 3.0ms preprocess, 19.8ms inference, 1.5ms postprocess per image at shape (1, 3, 640, 480)\n",
            "\n",
            "image 1/1 /content/drive/MyDrive/YOLOv11-litter-detec-folder/val/images/facafafb-batch_3_IMG_4950.JPG: 640x608 1 Paper, 1 Paper bag, 21.7ms\n",
            "Speed: 3.3ms preprocess, 21.7ms inference, 1.5ms postprocess per image at shape (1, 3, 640, 608)\n",
            "\n",
            "image 1/1 /content/drive/MyDrive/YOLOv11-litter-detec-folder/val/images/f9a0470f-batch_4_000081.JPG: 640x480 (no detections), 20.6ms\n",
            "Speed: 3.1ms preprocess, 20.6ms inference, 0.6ms postprocess per image at shape (1, 3, 640, 480)\n",
            "\n",
            "image 1/1 /content/drive/MyDrive/YOLOv11-litter-detec-folder/val/images/f3c94484-batch_3_IMG_4997.JPG: 640x480 1 Plastic bag & wrapper, 20.1ms\n",
            "Speed: 3.0ms preprocess, 20.1ms inference, 1.5ms postprocess per image at shape (1, 3, 640, 480)\n",
            "\n",
            "image 1/1 /content/drive/MyDrive/YOLOv11-litter-detec-folder/val/images/f60d48db-batch_4_000050.JPG: 640x480 1 Bottle cap, 20.3ms\n",
            "Speed: 2.9ms preprocess, 20.3ms inference, 1.5ms postprocess per image at shape (1, 3, 640, 480)\n",
            "\n",
            "image 1/1 /content/drive/MyDrive/YOLOv11-litter-detec-folder/val/images/ed93b3cc-batch_3_IMG_4901.JPG: 640x480 1 Plastic bag & wrapper, 20.4ms\n",
            "Speed: 3.1ms preprocess, 20.4ms inference, 1.5ms postprocess per image at shape (1, 3, 640, 480)\n",
            "\n",
            "image 1/1 /content/drive/MyDrive/YOLOv11-litter-detec-folder/val/images/ff251065-batch_4_000032.JPG: 640x480 1 Bottle cap, 2 Cigarettes, 1 Paper, 1 Plastic bag & wrapper, 19.5ms\n",
            "Speed: 3.0ms preprocess, 19.5ms inference, 1.4ms postprocess per image at shape (1, 3, 640, 480)\n",
            "\n",
            "image 1/1 /content/drive/MyDrive/YOLOv11-litter-detec-folder/val/images/fc3ecff8-batch_2_000069.JPG: 480x640 1 Paper, 1 Plastic bag & wrapper, 20.6ms\n",
            "Speed: 2.9ms preprocess, 20.6ms inference, 1.4ms postprocess per image at shape (1, 3, 480, 640)\n",
            "\n",
            "image 1/1 /content/drive/MyDrive/YOLOv11-litter-detec-folder/val/images/f986be93-batch_5_000119.JPG: 480x640 1 Plastic bag & wrapper, 19.7ms\n",
            "Speed: 2.9ms preprocess, 19.7ms inference, 1.4ms postprocess per image at shape (1, 3, 480, 640)\n",
            "\n",
            "image 1/1 /content/drive/MyDrive/YOLOv11-litter-detec-folder/val/images/ea5e11a3-batch_1_000013.jpg: 640x480 1 Bottle, 20.3ms\n",
            "Speed: 2.7ms preprocess, 20.3ms inference, 1.4ms postprocess per image at shape (1, 3, 640, 480)\n",
            "\n",
            "image 1/1 /content/drive/MyDrive/YOLOv11-litter-detec-folder/val/images/ebf4be5e-batch_3_IMG_4895.JPG: 640x480 1 Plastic bag & wrapper, 19.7ms\n",
            "Speed: 3.0ms preprocess, 19.7ms inference, 1.4ms postprocess per image at shape (1, 3, 640, 480)\n",
            "\n",
            "image 1/1 /content/drive/MyDrive/YOLOv11-litter-detec-folder/val/images/f8a414df-batch_4_000076.JPG: 480x640 (no detections), 20.6ms\n",
            "Speed: 2.9ms preprocess, 20.6ms inference, 0.6ms postprocess per image at shape (1, 3, 480, 640)\n",
            "\n",
            "image 1/1 /content/drive/MyDrive/YOLOv11-litter-detec-folder/val/images/ff0b7e19-batch_1_000007.jpg: 640x480 1 Aerosol can, 21.5ms\n",
            "Speed: 2.7ms preprocess, 21.5ms inference, 1.4ms postprocess per image at shape (1, 3, 640, 480)\n",
            "\n",
            "image 1/1 /content/drive/MyDrive/YOLOv11-litter-detec-folder/val/images/fda13a61-batch_1_000011.jpg: 640x480 1 Can, 19.7ms\n",
            "Speed: 2.7ms preprocess, 19.7ms inference, 1.4ms postprocess per image at shape (1, 3, 640, 480)\n",
            "\n",
            "image 1/1 /content/drive/MyDrive/YOLOv11-litter-detec-folder/val/images/ffe3c9f8-batch_3_IMG_5050.JPG: 640x480 1 Carton, 19.9ms\n",
            "Speed: 3.1ms preprocess, 19.9ms inference, 1.5ms postprocess per image at shape (1, 3, 640, 480)\n",
            "\n",
            "image 1/1 /content/drive/MyDrive/YOLOv11-litter-detec-folder/val/images/eaa28a1a-batch_1_000006.jpg: 640x480 (no detections), 20.0ms\n",
            "Speed: 2.7ms preprocess, 20.0ms inference, 0.6ms postprocess per image at shape (1, 3, 640, 480)\n",
            "\n",
            "image 1/1 /content/drive/MyDrive/YOLOv11-litter-detec-folder/val/images/fecfefb6-batch_4_000093.JPG: 640x480 1 Plastic bag & wrapper, 20.1ms\n",
            "Speed: 3.0ms preprocess, 20.1ms inference, 1.4ms postprocess per image at shape (1, 3, 640, 480)\n",
            "\n",
            "image 1/1 /content/drive/MyDrive/YOLOv11-litter-detec-folder/val/images/ed174935-batch_1_000072.JPG: 640x480 (no detections), 19.5ms\n",
            "Speed: 2.9ms preprocess, 19.5ms inference, 0.6ms postprocess per image at shape (1, 3, 640, 480)\n",
            "\n",
            "image 1/1 /content/drive/MyDrive/YOLOv11-litter-detec-folder/val/images/f95403da-batch_1_000095.JPG: 640x480 1 Bottle cap, 1 Plastic bag & wrapper, 1 Plastic container, 21.1ms\n",
            "Speed: 2.9ms preprocess, 21.1ms inference, 1.4ms postprocess per image at shape (1, 3, 640, 480)\n",
            "\n",
            "image 1/1 /content/drive/MyDrive/YOLOv11-litter-detec-folder/val/images/ea35363b-batch_3_IMG_4891.JPG: 640x480 (no detections), 19.7ms\n",
            "Speed: 2.8ms preprocess, 19.7ms inference, 0.6ms postprocess per image at shape (1, 3, 640, 480)\n",
            "\n",
            "image 1/1 /content/drive/MyDrive/YOLOv11-litter-detec-folder/val/images/ec899c9e-batch_1_000005.jpg: 640x480 1 Bottle, 1 Can, 19.3ms\n",
            "Speed: 2.6ms preprocess, 19.3ms inference, 1.4ms postprocess per image at shape (1, 3, 640, 480)\n",
            "\n",
            "image 1/1 /content/drive/MyDrive/YOLOv11-litter-detec-folder/val/images/f3c4524b-batch_2_000010.JPG: 480x640 1 Bottle, 20.3ms\n",
            "Speed: 2.8ms preprocess, 20.3ms inference, 1.4ms postprocess per image at shape (1, 3, 480, 640)\n",
            "\n",
            "image 1/1 /content/drive/MyDrive/YOLOv11-litter-detec-folder/val/images/ef923d00-batch_5_000000.JPG: 640x480 1 Bottle, 2 Papers, 21.6ms\n",
            "Speed: 3.0ms preprocess, 21.6ms inference, 1.4ms postprocess per image at shape (1, 3, 640, 480)\n",
            "\n",
            "image 1/1 /content/drive/MyDrive/YOLOv11-litter-detec-folder/val/images/eb0485fb-batch_6_000024.JPG: 480x640 1 Can, 1 Cup, 1 Plastic bag & wrapper, 1 Plastic container, 20.9ms\n",
            "Speed: 2.8ms preprocess, 20.9ms inference, 1.4ms postprocess per image at shape (1, 3, 480, 640)\n",
            "\n",
            "image 1/1 /content/drive/MyDrive/YOLOv11-litter-detec-folder/val/images/ff385457-batch_7_000031.JPG: 640x480 1 Paper, 20.5ms\n",
            "Speed: 2.9ms preprocess, 20.5ms inference, 1.4ms postprocess per image at shape (1, 3, 640, 480)\n",
            "\n",
            "image 1/1 /content/drive/MyDrive/YOLOv11-litter-detec-folder/val/images/f9633444-batch_5_000060.JPG: 640x480 1 Bottle, 1 Bottle cap, 29.4ms\n",
            "Speed: 4.1ms preprocess, 29.4ms inference, 1.9ms postprocess per image at shape (1, 3, 640, 480)\n",
            "\n",
            "image 1/1 /content/drive/MyDrive/YOLOv11-litter-detec-folder/val/images/f477d9ee-batch_6_000101.JPG: 480x640 1 Bottle, 22.0ms\n",
            "Speed: 2.8ms preprocess, 22.0ms inference, 1.5ms postprocess per image at shape (1, 3, 480, 640)\n",
            "\n",
            "image 1/1 /content/drive/MyDrive/YOLOv11-litter-detec-folder/val/images/f5d3331c-batch_6_000053.JPG: 640x480 1 Aluminium foil, 21.0ms\n",
            "Speed: 3.0ms preprocess, 21.0ms inference, 1.4ms postprocess per image at shape (1, 3, 640, 480)\n",
            "\n",
            "image 1/1 /content/drive/MyDrive/YOLOv11-litter-detec-folder/val/images/eebd24e9-batch_6_000038.JPG: 480x640 2 Bottles, 1 Plastic bag & wrapper, 20.6ms\n",
            "Speed: 2.7ms preprocess, 20.6ms inference, 1.4ms postprocess per image at shape (1, 3, 480, 640)\n",
            "\n",
            "image 1/1 /content/drive/MyDrive/YOLOv11-litter-detec-folder/val/images/ec83a491-batch_6_000082.JPG: 480x640 (no detections), 20.2ms\n",
            "Speed: 3.0ms preprocess, 20.2ms inference, 0.6ms postprocess per image at shape (1, 3, 480, 640)\n",
            "\n",
            "image 1/1 /content/drive/MyDrive/YOLOv11-litter-detec-folder/val/images/f1643e9e-batch_5_000014.JPG: 640x480 (no detections), 20.6ms\n",
            "Speed: 4.0ms preprocess, 20.6ms inference, 0.6ms postprocess per image at shape (1, 3, 640, 480)\n",
            "\n",
            "image 1/1 /content/drive/MyDrive/YOLOv11-litter-detec-folder/val/images/eb56b56e-batch_6_000071.JPG: 640x480 (no detections), 19.5ms\n",
            "Speed: 2.9ms preprocess, 19.5ms inference, 0.7ms postprocess per image at shape (1, 3, 640, 480)\n",
            "\n",
            "image 1/1 /content/drive/MyDrive/YOLOv11-litter-detec-folder/val/images/f65f31e9-batch_6_000002.JPG: 480x640 1 Carton, 1 Paper, 20.2ms\n",
            "Speed: 2.9ms preprocess, 20.2ms inference, 1.4ms postprocess per image at shape (1, 3, 480, 640)\n",
            "\n",
            "image 1/1 /content/drive/MyDrive/YOLOv11-litter-detec-folder/val/images/eac792e3-batch_6_000069.JPG: 480x640 2 Bottles, 19.7ms\n",
            "Speed: 2.9ms preprocess, 19.7ms inference, 1.4ms postprocess per image at shape (1, 3, 480, 640)\n",
            "\n",
            "image 1/1 /content/drive/MyDrive/YOLOv11-litter-detec-folder/val/images/fa7bca28-batch_7_000141.JPG: 640x480 1 Plastic bag & wrapper, 29.5ms\n",
            "Speed: 4.2ms preprocess, 29.5ms inference, 1.9ms postprocess per image at shape (1, 3, 640, 480)\n",
            "\n",
            "image 1/1 /content/drive/MyDrive/YOLOv11-litter-detec-folder/val/images/f603c5ed-batch_6_000051.JPG: 640x480 1 Bottle, 20.4ms\n",
            "Speed: 4.5ms preprocess, 20.4ms inference, 1.5ms postprocess per image at shape (1, 3, 640, 480)\n",
            "\n",
            "image 1/1 /content/drive/MyDrive/YOLOv11-litter-detec-folder/val/images/f3941de6-batch_6_000055.JPG: 480x640 2 Bottles, 20.2ms\n",
            "Speed: 2.8ms preprocess, 20.2ms inference, 1.4ms postprocess per image at shape (1, 3, 480, 640)\n",
            "\n",
            "image 1/1 /content/drive/MyDrive/YOLOv11-litter-detec-folder/val/images/fd04dad4-batch_6_000045.JPG: 480x640 2 Scrap metals, 1 Straw, 19.7ms\n",
            "Speed: 2.8ms preprocess, 19.7ms inference, 1.5ms postprocess per image at shape (1, 3, 480, 640)\n",
            "\n",
            "image 1/1 /content/drive/MyDrive/YOLOv11-litter-detec-folder/val/images/fcbc8105-batch_5_000058.JPG: 640x480 1 Cigarette, 1 Plastic bag & wrapper, 20.4ms\n",
            "Speed: 2.9ms preprocess, 20.4ms inference, 1.4ms postprocess per image at shape (1, 3, 640, 480)\n",
            "\n",
            "image 1/1 /content/drive/MyDrive/YOLOv11-litter-detec-folder/val/images/f5babf1a-batch_5_000059.JPG: 640x480 1 Carton, 1 Plastic bag & wrapper, 19.4ms\n",
            "Speed: 2.9ms preprocess, 19.4ms inference, 1.4ms postprocess per image at shape (1, 3, 640, 480)\n",
            "\n",
            "image 1/1 /content/drive/MyDrive/YOLOv11-litter-detec-folder/val/images/f01119be-batch_6_000058.JPG: 640x480 2 Aluminium foils, 2 Bottles, 19.5ms\n",
            "Speed: 2.9ms preprocess, 19.5ms inference, 1.4ms postprocess per image at shape (1, 3, 640, 480)\n"
          ]
        },
        {
          "output_type": "display_data",
          "data": {
            "text/plain": [
              "<Figure size 640x480 with 2 Axes>"
            ],
            "image/png": "[encoded data removed]"
          },
          "metadata": {}
        }
      ]
    },
    {
      "cell_type": "code",
      "source": [
        "import shutil\n",
        "\n",
        "# Specify the folder or directory you want to zip\n",
        "folder_to_zip = \"/content/runs\"\n",
        "\n",
        "# Specify the name of the output ZIP file\n",
        "output_zip_file = \"/content/runs.zip\"\n",
        "\n",
        "# Create the ZIP file\n",
        "shutil.make_archive(base_name=output_zip_file.replace(\".zip\", \"\"), format=\"zip\", root_dir=folder_to_zip)\n",
        "\n",
        "print(f\"ZIP file created: {output_zip_file}\")"
      ],
      "metadata": {
        "colab": {
          "base_uri": "https://localhost:8080/"
        },
        "id": "Fxvma9-VQxg-",
        "outputId": "41b810ba-f5f5-4398-b260-40368a76f25d"
      },
      "execution_count": null,
      "outputs": [
        {
          "output_type": "stream",
          "name": "stdout",
          "text": [
            "ZIP file created: /content/runs.zip\n"
          ]
        }
      ]
    }
  ]
}